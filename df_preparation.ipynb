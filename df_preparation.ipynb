{
 "cells": [
  {
   "cell_type": "markdown",
   "metadata": {},
   "source": [
    "Import Stuff"
   ]
  },
  {
   "cell_type": "code",
   "execution_count": 13,
   "metadata": {},
   "outputs": [],
   "source": [
    "import ssl\n",
    "import re\n",
    "\n",
    "\n",
    "from bertopic import BERTopic\n",
    "from bertopic.representation import KeyBERTInspired\n",
    "from hdbscan import HDBSCAN\n",
    "from sentence_transformers import SentenceTransformer\n",
    "from umap import UMAP\n",
    "\n",
    "from sklearn.datasets import fetch_20newsgroups\n",
    "from sklearn.cluster import KMeans\n",
    "\n",
    "import pandas as pd\n",
    "import seaborn as sns\n",
    "import matplotlib.pyplot as plt\n",
    "\n",
    "import nltk\n",
    "from nltk.corpus import wordnet\n",
    "from nltk.tokenize import word_tokenize\n",
    "from nltk.stem import WordNetLemmatizer\n",
    "\n",
    "from datetime import datetime\n",
    "from textblob import TextBlob\n",
    "from textblob_de import TextBlobDE\n",
    "from datasets import load_dataset\n",
    "\n",
    "import pickle\n",
    "import importlib\n",
    "import functions\n",
    "import requests\n",
    "\n",
    "\n",
    "\n"
   ]
  },
  {
   "cell_type": "code",
   "execution_count": 54,
   "metadata": {},
   "outputs": [
    {
     "name": "stderr",
     "output_type": "stream",
     "text": [
      "[nltk_data] Downloading package punkt_tab to\n",
      "[nltk_data]     C:\\Users\\Jacob\\AppData\\Roaming\\nltk_data...\n",
      "[nltk_data]   Package punkt_tab is already up-to-date!\n",
      "[nltk_data] Downloading package wordnet to\n",
      "[nltk_data]     C:\\Users\\Jacob\\AppData\\Roaming\\nltk_data...\n",
      "[nltk_data]   Package wordnet is already up-to-date!\n",
      "[nltk_data] Downloading package punkt to\n",
      "[nltk_data]     C:\\Users\\Jacob\\AppData\\Roaming\\nltk_data...\n",
      "[nltk_data]   Package punkt is already up-to-date!\n",
      "[nltk_data] Downloading package stopwords to\n",
      "[nltk_data]     C:\\Users\\Jacob\\AppData\\Roaming\\nltk_data...\n",
      "[nltk_data]   Package stopwords is already up-to-date!\n",
      "[nltk_data] Downloading package averaged_perceptron_tagger to\n",
      "[nltk_data]     C:\\Users\\Jacob\\AppData\\Roaming\\nltk_data...\n",
      "[nltk_data]   Package averaged_perceptron_tagger is already up-to-\n",
      "[nltk_data]       date!\n"
     ]
    }
   ],
   "source": [
    "from functions import *\n",
    "importlib.reload(functions)\n",
    "\n",
    "nltk.download('punkt_tab')\n",
    "nltk.download('wordnet')\n",
    "nltk.download('punkt')\n",
    "nltk.download('stopwords')\n",
    "nltk.download('averaged_perceptron_tagger')\n",
    "\n",
    "parties = [\"CDU\", \"SPD\", \"FDP\", \"AFD\", \"LEFT\", \"GREENS\"]\n",
    "file_path = \"C:/Users/Jacob/OneDrive/uni/MA WiSoz/Semester III/Computational Social Sciences/foPra/data/\"\n",
    "\n",
    "\n",
    "# Open the file in read mode\n",
    "with open(\"API Keys/DeepL.txt\", 'r', encoding='utf-8') as file:\n",
    "    # Read the contents of the file\n",
    "    api_key_deepl = file.read()\n",
    "\n",
    "url = 'https://api-free.deepl.com/v2/translate'\n"
   ]
  },
  {
   "cell_type": "markdown",
   "metadata": {},
   "source": [
    "Edit Text documents"
   ]
  },
  {
   "cell_type": "code",
   "execution_count": 64,
   "metadata": {},
   "outputs": [],
   "source": [
    "df_manifesto = pd.read_csv(\"data/parties/All_Manifestos.csv\")\n",
    "df_manifesto_tokenized = pd.read_csv(\"data/parties/All_Manifestos_tokenized.csv\")\n",
    "cmp_categories = pd.read_csv(file_path  + \"cmp_categories.csv\")\n",
    "# df_manifesto[\"year\"] = pd.to_numeric(df_manifesto[\"year\"], errors='coerce')"
   ]
  },
  {
   "cell_type": "code",
   "execution_count": 60,
   "metadata": {},
   "outputs": [],
   "source": [
    "def split_text_by_date(df, column=\"text\", split_date=1998):\n",
    "    new_rows = []\n",
    "    for index, row in df.iterrows():\n",
    "        if row['year'] < split_date:\n",
    "            sentences = nltk.sent_tokenize(row[column])\n",
    "            for i, sentence in enumerate(sentences):\n",
    "                # Check if the sentence ends with a digit followed by a period\n",
    "                if re.search(r'\\d+\\.$', sentence) and i + 1 < len(sentences) and sentences[i + 1][0].isupper():\n",
    "                    sentence += ' ' + sentences[i + 1]\n",
    "                    sentences[i + 1] = sentence\n",
    "                    continue\n",
    "                # Disregard abbreviations like \"bzw.\", \"z.B.\", \"u.a.\"\n",
    "                if re.search(r'\\b(bzw|z\\.B|u\\.a)\\.$', sentence):\n",
    "                    new_row = row.copy()\n",
    "                    new_row[column] = sentence\n",
    "                    new_rows.append(new_row)\n",
    "                    continue\n",
    "                new_row = row.copy()\n",
    "                new_row[column] = sentence\n",
    "                new_rows.append(new_row)\n",
    "        else:\n",
    "            new_rows.append(row)\n",
    "    # Filter out documents that do not have a space character and documents that are shorter than 6 characters\n",
    "    new_rows = [row for row in new_rows if ' ' in row['text'] and len(row['text']) >= 6]\n",
    "    return pd.DataFrame(new_rows)\n",
    "\n",
    "def process_manifesto_data(df):\n",
    "    \"\"\"\n",
    "    Processes the manifesto dataframe by performing various operations such as counting occurrences,\n",
    "    mapping values, filtering rows, and merging text rows.\n",
    "\n",
    "    Parameters:\n",
    "    df (pd.DataFrame): The dataframe to process.\n",
    "\n",
    "    Returns:\n",
    "    pd.DataFrame: The processed dataframe.\n",
    "    \"\"\"\n",
    "    df = split_text_by_date(df)\n",
    "    # Count occurrences of distinct values in the party column\n",
    "    party_counts = df[\"party\"].value_counts()\n",
    "\n",
    "    # Add a line that contains this count per party\n",
    "    df[\"doc size of party\"] = df[\"party\"].map(party_counts)\n",
    "    df[\"cmp_code\"] = pd.to_numeric(df[\"cmp_code\"], errors='coerce')\n",
    "    df.index = range(1, len(df) + 1)\n",
    "    \n",
    "    # Remove all punctuation from the 'text' column\n",
    "    df[\"text\"] = df[\"text\"].str.replace(r'[^\\w\\s]', '', regex=True)  # Delete entries that do not contain words in the text column\n",
    "    df = df[df['text'].str.contains(r'\\b\\w+\\b', na=False)]\n",
    "\n",
    "    # Ensure the 'text' column contains only strings and handle NaN values\n",
    "    df[\"text\"] = df[\"text\"].astype(str).fillna(\"\")\n",
    "\n",
    "    # Merge text rows\n",
    "    df = merge_text_rows(df)\n",
    "\n",
    "    df = split_text_by_date(df)\n",
    "\n",
    "    return df"
   ]
  },
  {
   "cell_type": "code",
   "execution_count": 65,
   "metadata": {},
   "outputs": [],
   "source": [
    "# Apply the function to df_manifesto\n",
    "df_manifesto = process_manifesto_data(df_manifesto)\n",
    "# df_manifesto_tokenized = process_manifesto_data(df_manifesto_tokenized)"
   ]
  },
  {
   "cell_type": "code",
   "execution_count": 51,
   "metadata": {},
   "outputs": [],
   "source": [
    "df_manifesto = df_manifesto_final"
   ]
  },
  {
   "cell_type": "code",
   "execution_count": 46,
   "metadata": {},
   "outputs": [],
   "source": [
    "def drop_entries_by_conditions(df):\n",
    "    \"\"\"\n",
    "    Drops rows from the dataframe where year > 1997 and cmp_code is NaN.\n",
    "\n",
    "    Parameters:\n",
    "        df (pd.DataFrame): The input dataframe.\n",
    "\n",
    "    Returns:\n",
    "        pd.DataFrame: The filtered dataframe.\n",
    "    \"\"\"\n",
    "    return df[ ~ ((df['cmp_code'].isna()) & (df['year'] > 1997))]"
   ]
  },
  {
   "cell_type": "code",
   "execution_count": 66,
   "metadata": {},
   "outputs": [],
   "source": [
    "# Merge df_manifesto with cmp_categories to add the description_md column\n",
    "df_manifesto = df_manifesto.merge(cmp_categories[['code', 'label', 'description_md']], \n",
    "                                  left_on='cmp_code', \n",
    "                                  right_on='code', \n",
    "                                  how='left')\n",
    "\n",
    "# Drop the redundant 'code' column after the merge\n",
    "df_manifesto.drop(columns=['code'], inplace=True)"
   ]
  },
  {
   "cell_type": "code",
   "execution_count": 50,
   "metadata": {},
   "outputs": [],
   "source": [
    "# Apply the function to df_manifesto\n",
    "df_manifesto = drop_na_after_date(df_manifesto, 1997)"
   ]
  },
  {
   "cell_type": "code",
   "execution_count": null,
   "metadata": {},
   "outputs": [],
   "source": [
    "df_manifesto_final[\"sentiment\"] = df_manifesto_final[\"text\"].apply(lambda x: TextBlobDE(x).sentiment.polarity)"
   ]
  },
  {
   "cell_type": "code",
   "execution_count": null,
   "metadata": {},
   "outputs": [],
   "source": [
    "test = TextBlobDE(df_manifesto_final[\"text\"][2000])\n",
    "test.sentiment.polarity\n"
   ]
  },
  {
   "cell_type": "code",
   "execution_count": 67,
   "metadata": {},
   "outputs": [],
   "source": [
    "df_manifesto.to_pickle('data\\df_manifesto.pkl')"
   ]
  }
 ],
 "metadata": {
  "kernelspec": {
   "display_name": "Python 3",
   "language": "python",
   "name": "python3"
  },
  "language_info": {
   "codemirror_mode": {
    "name": "ipython",
    "version": 3
   },
   "file_extension": ".py",
   "mimetype": "text/x-python",
   "name": "python",
   "nbconvert_exporter": "python",
   "pygments_lexer": "ipython3",
   "version": "3.10.2"
  }
 },
 "nbformat": 4,
 "nbformat_minor": 2
}
