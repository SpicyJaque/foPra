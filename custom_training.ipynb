{
 "cells": [
  {
   "cell_type": "code",
   "execution_count": 107,
   "metadata": {},
   "outputs": [],
   "source": [
    "import pandas as pd\n",
    "from tqdm import tqdm\n",
    "\n",
    "from sklearn.utils.class_weight import compute_class_weight\n",
    "from sklearn.model_selection import train_test_split\n",
    "from torchmetrics.functional.classification import accuracy, f1_score, precision, recall\n",
    "\n",
    "import numpy as np\n",
    "\n",
    "import torch\n",
    "from torch import nn\n",
    "\n",
    "from sentence_transformers import SentenceTransformer"
   ]
  },
  {
   "cell_type": "code",
   "execution_count": 2,
   "metadata": {},
   "outputs": [
    {
     "name": "stdout",
     "output_type": "stream",
     "text": [
      "Using CPU!\n"
     ]
    }
   ],
   "source": [
    "if torch.cuda.is_available():\n",
    "    device = torch.device('cuda')\n",
    "    print('Using CUDA!')\n",
    "else:\n",
    "    device = torch.device('cpu')\n",
    "    print(\"Using CPU!\")"
   ]
  },
  {
   "cell_type": "code",
   "execution_count": 108,
   "metadata": {},
   "outputs": [],
   "source": [
    "df_manifesto = pd.read_pickle('data\\df_manifesto_final.pkl')\n",
    "new_labels = pd.read_csv('data/df_spendings_unlabeled.csv', sep=';', encoding='utf-8-sig', index_col=0)\n"
   ]
  },
  {
   "cell_type": "code",
   "execution_count": null,
   "metadata": {},
   "outputs": [],
   "source": [
    "df_manifesto.loc[new_labels.index, \"label\"] = new_labels[\"label\"]"
   ]
  },
  {
   "cell_type": "code",
   "execution_count": 109,
   "metadata": {},
   "outputs": [],
   "source": [
    "df_manifesto.loc[df_manifesto[\"label\"].isna(), \"label\"] = np.nan\n",
    "random_indices = df_manifesto[df_manifesto[\"label\"].isna()].sample(2000, random_state=42).index\n",
    "df_manifesto.loc[random_indices, \"label\"] = 0\n",
    "df_spendings = df_manifesto.copy()\n",
    "df_spendings = df_spendings.dropna(subset=[\"label\"])\n",
    "df_spendings[\"label\"] = df_spendings[\"label\"].astype(int)"
   ]
  },
  {
   "cell_type": "code",
   "execution_count": 110,
   "metadata": {},
   "outputs": [],
   "source": [
    "sentences, labels = df_spendings[\"text\"].tolist(), df_spendings[\"label\"].values\n",
    "num_classes = 3\n",
    "model = SentenceTransformer('sentence-transformers/distiluse-base-multilingual-cased-v2').to(device)"
   ]
  },
  {
   "cell_type": "code",
   "execution_count": 111,
   "metadata": {},
   "outputs": [],
   "source": [
    "with torch.no_grad():\n",
    "    embeddings = model.encode(sentences, convert_to_tensor=True).cpu().numpy()\n",
    "\n",
    "np.save(\"data\\embeddings.npy\", embeddings)\n",
    "np.save(\"data\\labels.npy\", labels)"
   ]
  },
  {
   "cell_type": "code",
   "execution_count": 95,
   "metadata": {},
   "outputs": [],
   "source": [
    "embeddings = np.load(\"data\\embeddings.npy\")\n",
    "labels = np.load(\"data\\labels.npy\")"
   ]
  },
  {
   "cell_type": "markdown",
   "metadata": {},
   "source": [
    "The Dataset class is a custom implementation for managing data, likely intended for use with PyTorch's DataLoader. It takes two inputs during initialization: embeddings and labels. The embeddings represent the feature vectors for the data points, while labels are the corresponding target values (e.g., class labels for classification).\n",
    "\n",
    "This class encapsulates the logic for a simple feedforward neural network classifier, making it reusable and modular. Together, these two classes form the foundation for a machine learning pipeline, where the Dataset class handles data preparation and the ClassifierHead class defines the model architecture.\n",
    "\n",
    "The __len__ method returns the number of data points in the dataset, which is determined by the length of the labels list.\n",
    "The __getitem__ method retrieves a single data point and its label based on the provided index (idx). It converts the embeddings and labels at the specified index into PyTorch tensors with appropriate data types (float32 for embeddings and int64 for labels). This ensures compatibility with PyTorch models and training pipelines.\n",
    "This class is essential for preparing data in a format that can be efficiently processed during training or evaluation.\n",
    "\n",
    "The ClassifierHead class defines a neural network module for classification tasks. It inherits from PyTorch's nn.Module and is designed to process input feature vectors and produce predictions for two classes (binary classification).\n",
    "\n",
    "The constructor (__init__) initializes a sequential model (nn.Sequential) consisting of:\n",
    "\n",
    "A fully connected layer (nn.Linear) that maps the input features to 1024 dimensions.\n",
    "A ReLU activation function (nn.ReLU) to introduce non-linearity.\n",
    "A dropout layer (nn.Dropout) with a dropout rate of 0.2 to reduce overfitting by randomly zeroing some of the activations during training.\n",
    "Another fully connected layer that maps the 1024-dimensional features to 2 output dimensions, corresponding to the two classes.\n",
    "The forward method defines how the input data flows through the network. It takes an input tensor x, passes it through the sequential layers, and returns the output tensor out.\n"
   ]
  },
  {
   "cell_type": "code",
   "execution_count": 113,
   "metadata": {},
   "outputs": [],
   "source": [
    "class Dataset:\n",
    "\n",
    "    def __init__(self, embeddings, labels):\n",
    "        self.embeddings = embeddings\n",
    "        self.labels = labels\n",
    "    \n",
    "    def __len__(self):\n",
    "        return len(self.labels)\n",
    "    \n",
    "    def __getitem__(self, idx):\n",
    "        embeddings = torch.tensor(self.embeddings[idx], dtype=torch.float32)\n",
    "        labels = torch.tensor(self.labels[idx], dtype=torch.int64)\n",
    "        return embeddings, labels\n",
    "\n",
    "class ClassifierHead(nn.Module):\n",
    "\n",
    "    def __init__(self, input_dim, num_classes):\n",
    "        super().__init__()\n",
    "        self.classifier = nn.Sequential(\n",
    "            nn.Linear(input_dim, 1024),\n",
    "            nn.ReLU(),\n",
    "            nn.Dropout(0.2),\n",
    "            nn.Linear(1024, num_classes), # Hier dann num_classes statt 2.\n",
    "        )\n",
    "\n",
    "    def forward(self, x):\n",
    "        out = self.classifier(x)\n",
    "        return out"
   ]
  },
  {
   "cell_type": "markdown",
   "metadata": {},
   "source": [
    "The provided function, model_pass, is a utility function designed to handle a single pass (either training or evaluation) of a machine learning model. It takes several arguments: model (the neural network to be trained or evaluated), criterion (the loss function), loader (a data loader providing batches of data), optimizer (used for updating model parameters during training), and train (a boolean indicating whether the pass is for training or evaluation).\n",
    "\n",
    "The function begins by setting the model's mode using model.train() or model.eval(), depending on whether the train flag is True or False. This ensures that the model behaves appropriately, such as enabling or disabling dropout layers during training or evaluation, respectively.\n",
    "\n",
    "It initializes empty lists to track losses, predictions (preds), and targets (targs). The function then iterates over the data loader, which provides batches of features and labels. These are moved to the appropriate device (e.g., CPU or GPU) for computation. The torch.set_grad_enabled(train) context manager ensures that gradients are only computed during training, saving memory and computation during evaluation.\n",
    "\n",
    "Within the loop, the model processes the input features to produce outputs, and the loss is computed using the provided criterion. If the pass is for training, the optimizer is used to update the model's parameters: gradients are computed via loss.backward(), and the optimizer steps forward with optimizer.step(). Predictions are obtained by taking the index of the maximum value along the output's last dimension (torch.argmax), and both predictions and labels are detached from the computation graph to avoid unnecessary memory usage.\n",
    "\n",
    "After processing all batches, the predictions and targets are concatenated into single tensors using torch.cat. The function then computes several evaluation metrics: accuracy, F1 score, precision, and recall, using helper functions like binary_accuracy, binary_f1_score, etc. These metrics are calculated for binary classification tasks, where the model predicts one of two possible classes.\n",
    "\n",
    "Finally, the function returns a dictionary containing the average loss and the computed metrics. This structure makes it easy to monitor the model's performance during training and evaluation, providing insights into how well the model is learning and generalizing."
   ]
  },
  {
   "cell_type": "code",
   "execution_count": 114,
   "metadata": {},
   "outputs": [],
   "source": [
    "def model_pass(num_classes, model, criterion, loader, optimizer=None, train=True):\n",
    "    if train:\n",
    "        model.train()\n",
    "    else:\n",
    "        model.eval()\n",
    "\n",
    "    losses = []\n",
    "\n",
    "    preds = []\n",
    "    targs = []\n",
    "\n",
    "    for features, labels in loader:\n",
    "        features = features.to(device)\n",
    "        labels = labels.to(device)\n",
    "\n",
    "        with torch.set_grad_enabled(train):\n",
    "            outputs = model(features)\n",
    "            loss = criterion(outputs, labels)\n",
    "\n",
    "        if train:\n",
    "            optimizer.zero_grad()\n",
    "            loss.backward()\n",
    "            optimizer.step()\n",
    "\n",
    "        pred = torch.argmax(outputs, dim=1)\n",
    "\n",
    "        preds.append(pred.detach())\n",
    "        targs.append(labels.detach())\n",
    "\n",
    "        losses.append(loss.item())\n",
    "\n",
    "    preds = torch.cat(preds)\n",
    "    targs = torch.cat(targs)\n",
    "\n",
    "    acc = accuracy(preds, targs, task=\"multiclass\", num_classes=num_classes)\n",
    "    f1 = f1_score(preds, targs, task=\"multiclass\", num_classes=num_classes)\n",
    "    prec = precision(preds, targs, task=\"multiclass\", num_classes=num_classes)\n",
    "    rec = recall(preds, targs, task=\"multiclass\", num_classes=num_classes)\n",
    "\n",
    "    return {\n",
    "        \"loss\": np.mean(losses),\n",
    "        \"accuracy\": acc.item(),\n",
    "        \"f1\": f1.item(),\n",
    "        \"precision\": prec.item(),\n",
    "        \"recall\": rec.item(),\n",
    "    }\n",
    "\n"
   ]
  },
  {
   "cell_type": "markdown",
   "metadata": {},
   "source": [
    "This code sets up the training pipeline for a binary classification task using PyTorch. It begins by instantiating the ClassifierHead model with an input dimension of 512, which corresponds to the size of the feature vectors (embeddings). The model is moved to the appropriate device (e.g., CPU or GPU) for computation.\n",
    "\n",
    "The dataset is split into training and validation sets using the train_test_split function. The test_size=0.1 parameter ensures that 10% of the data is reserved for validation, while the remaining 90% is used for training. The stratify=labels argument ensures that the class distribution in the training and validation sets matches the original dataset, which is important for imbalanced datasets. The random_state=42 ensures reproducibility by fixing the random seed.\n",
    "\n",
    "To handle class imbalance, the compute_class_weight function calculates weights for each class based on their frequency in the training data. These weights are then used to create sample weights for each training example, ensuring that underrepresented classes are sampled more frequently during training. A WeightedRandomSampler is used in the DataLoader for the training dataset to implement this sampling strategy. The validation dataset, on the other hand, is loaded with a simple shuffle mechanism.\n",
    "\n",
    "The Dataset class is used to wrap the training and validation data, making it compatible with PyTorch's DataLoader. The DataLoader batches the data and, in the case of the training set, uses the weighted sampler to draw 500 samples per epoch with replacement. The batch size for both loaders is set to 64.\n",
    "\n",
    "The training process is configured to run for 250 epochs. The loss function used is CrossEntropyLoss, which is suitable for multi-class classification tasks (including binary classification). The optimizer is AdamW, a variant of the Adam optimizer that includes weight decay for better regularization. The learning rate is set to 1e-4. A learning rate scheduler, CosineAnnealingLR, is also defined to gradually reduce the learning rate over the course of training, with a minimum value of 1e-6. This helps the model converge more effectively by fine-tuning the learning rate as training progresses."
   ]
  },
  {
   "cell_type": "code",
   "execution_count": 112,
   "metadata": {},
   "outputs": [],
   "source": [
    "num_classes = 3\n",
    "\n",
    "classifier = ClassifierHead(input_dim=512, num_classes=num_classes).to(device)\n",
    "\n",
    "train_features, valid_features, train_labels, valid_labels = train_test_split(\n",
    "    embeddings, labels, test_size=0.1, random_state=42, shuffle=True, stratify=labels\n",
    ")\n",
    "\n",
    "class_weights = compute_class_weight(\"balanced\", classes=np.unique(train_labels), y=train_labels)\n",
    "train_sample_weights = np.array([class_weights[label] for label in train_labels])\n",
    "\n",
    "train_dataset = Dataset(train_features, train_labels)\n",
    "valid_dataset = Dataset(valid_features, valid_labels)\n",
    "\n",
    "train_loader = torch.utils.data.DataLoader(\n",
    "    train_dataset, \n",
    "    batch_size=64, \n",
    "    sampler=torch.utils.data.WeightedRandomSampler(\n",
    "        train_sample_weights, \n",
    "        500,\n",
    "        replacement=True\n",
    "    ),\n",
    ")\n",
    "valid_loader = torch.utils.data.DataLoader(\n",
    "    valid_dataset, \n",
    "    batch_size=64, \n",
    "    shuffle=True\n",
    ")\n",
    "\n",
    "epochs = 250\n",
    "\n",
    "criterion = nn.CrossEntropyLoss()\n",
    "\n",
    "optimizer = torch.optim.AdamW(classifier.parameters(), lr=1e-4)\n",
    "scheduler = torch.optim.lr_scheduler.CosineAnnealingLR(optimizer, T_max=epochs, eta_min=1e-6)"
   ]
  },
  {
   "cell_type": "markdown",
   "metadata": {},
   "source": []
  },
  {
   "cell_type": "code",
   "execution_count": 116,
   "metadata": {},
   "outputs": [
    {
     "name": "stderr",
     "output_type": "stream",
     "text": [
      "Train F1 0.8020 - Valid F1 0.8378: 100%|██████████| 250/250 [00:24<00:00, 10.05it/s]\n"
     ]
    }
   ],
   "source": [
    "pbar = tqdm(range(epochs))\n",
    "\n",
    "best_f1 = 0\n",
    "for e in pbar:\n",
    "\n",
    "    train_metrics = model_pass(num_classes, classifier, criterion, train_loader, optimizer, train=True)\n",
    "    valid_metrics = model_pass(num_classes, classifier, criterion, valid_loader, optimizer=None, train=False)\n",
    "    scheduler.step()\n",
    "\n",
    "    if valid_metrics[\"f1\"] > best_f1:\n",
    "        best_f1 = valid_metrics[\"f1\"]\n",
    "        torch.save(classifier.state_dict(), \"classifier.pt\")\n",
    "    \n",
    "    pbar.set_description(f\"Train F1 {train_metrics['f1']:.4f} - Valid F1 {best_f1:.4f}\")"
   ]
  },
  {
   "cell_type": "code",
   "execution_count": 122,
   "metadata": {},
   "outputs": [
    {
     "name": "stdout",
     "output_type": "stream",
     "text": [
      "'wir wollen die Schuldenbremse abschaffen.' → -1\n",
      "'wir wollen mehr geld für den sozialstaat ausgeben' → -1\n",
      "'wir wollen die Schuldenbremse beibehalten.' → -1\n",
      "'olaf scholz' → 0\n",
      "'schuldenbremse schlecht' → -1\n",
      "'wir wollen mehr Geld für Schulen ausgeben.' → -1\n",
      "'Wir wollen den Haushalt konsolidieren.' → -1\n",
      "'Wir wollen zukünftigen Generationen keinen Schuldenberg hinterlassen.' → -1\n",
      "'Wir wollen mehr militärausgaben.' → -1\n",
      "'Wir wollen mehr geld für Bildung.' → 1\n",
      "'wir wollen Schulden aufnehmen.' → -1\n"
     ]
    }
   ],
   "source": [
    "def predict_policy_stance(sentences):\n",
    "    if not isinstance(sentences, list):\n",
    "        sentences = [sentences]\n",
    "\n",
    "    with torch.no_grad():\n",
    "        embeddings = model.encode(sentences, convert_to_tensor=True).to(device)\n",
    "\n",
    "    logits = classifier(embeddings)\n",
    "    label = torch.argmax(logits, dim=1).item()\n",
    "\n",
    "    if label ==2:\n",
    "        return -1\n",
    "    else:\n",
    "        return label\n",
    "\n",
    "# Example predictions\n",
    "new_sentences = [\n",
    "    \"wir wollen die Schuldenbremse abschaffen.\",\n",
    "    \"wir wollen mehr geld für den sozialstaat ausgeben\",\n",
    "    \"wir wollen die Schuldenbremse beibehalten.\",\n",
    "    \"olaf scholz\",\n",
    "    \"schuldenbremse schlecht\",\n",
    "    \"wir wollen mehr Geld für Schulen ausgeben.\",\n",
    "    \"Wir wollen den Haushalt konsolidieren.\",\n",
    "    \"Wir wollen zukünftigen Generationen keinen Schuldenberg hinterlassen.\",\n",
    "    \"Wir wollen mehr militärausgaben.\",\n",
    "    \"Wir wollen mehr geld für Bildung.\",\n",
    "    \"wir wollen Schulden aufnehmen.\",\n",
    "]   \n",
    "\n",
    "for sentence in new_sentences:\n",
    "    print(f\"'{sentence}' → {predict_policy_stance(sentence)}\")\n"
   ]
  },
  {
   "cell_type": "code",
   "execution_count": 140,
   "metadata": {},
   "outputs": [],
   "source": [
    "sample = df_manifesto.sample(10000)\n",
    "\n",
    "# Apply the predict_policy_stance function to each line in the 'text' column\n",
    "sample['predicted_label'] = sample['text'].apply(predict_policy_stance)"
   ]
  },
  {
   "cell_type": "code",
   "execution_count": 141,
   "metadata": {
    "vscode": {
     "languageId": "ruby"
    }
   },
   "outputs": [
    {
     "name": "stderr",
     "output_type": "stream",
     "text": [
      "C:\\Users\\Jacob\\AppData\\Local\\Temp\\ipykernel_11220\\1596790581.py:2: DeprecationWarning: DataFrameGroupBy.apply operated on the grouping columns. This behavior is deprecated, and in a future version of pandas the grouping columns will be excluded from the operation. Either pass `include_groups=False` to exclude the groupings or explicitly select the grouping columns after groupby to silence this warning.\n",
      "  manifesto_scores = sample.groupby('manifesto_id').apply(\n"
     ]
    }
   ],
   "source": [
    "# Group by 'manifesto_id' and calculate the score\n",
    "manifesto_scores = sample.groupby('manifesto_id').apply(\n",
    "    lambda x: pd.Series({\n",
    "        'Expenditure score': x['predicted_label'].mean(),\n",
    "        'party': x['party'].iloc[0],\n",
    "        'country': x['country'].iloc[0],\n",
    "        'year': x['year'].iloc[0]\n",
    "    })\n",
    ")\n"
   ]
  },
  {
   "cell_type": "code",
   "execution_count": 133,
   "metadata": {
    "vscode": {
     "languageId": "ruby"
    }
   },
   "outputs": [],
   "source": [
    "party_colors = {\n",
    "    \"CDU\": (0, 0, 0),         # Black\n",
    "    \"SPD\": (255, 0, 0),       # Red\n",
    "    \"FDP\": (235, 235, 20),     # Yellow\n",
    "    \"AFD\": (135, 206, 250),   # Sky Blue\n",
    "    \"LEFT\": (128, 0, 128),    # Purple\n",
    "    \"GREENS_DE\": (0, 128, 0),     # Green\n",
    "    \"ÖVP\": (0, 0, 0),         # Black\n",
    "    \"SPÖ\": (255, 0, 0),       # Red\n",
    "    \"NEOS\": (235, 235, 20),     # Yellow\n",
    "    \"FPÖ\": (135, 206, 250),   # Sky Blue\n",
    "    #\"LEFT\": (128, 0, 128),    # Purple\n",
    "    \"GREENS_AU\": (0, 128, 0)     # Green\n",
    "}"
   ]
  },
  {
   "cell_type": "code",
   "execution_count": 145,
   "metadata": {},
   "outputs": [
    {
     "data": {
      "image/png": "[encoded data removed]",
      "text/plain": [
       "<Figure size 1200x600 with 1 Axes>"
      ]
     },
     "metadata": {},
     "output_type": "display_data"
    }
   ],
   "source": [
    "import matplotlib.pyplot as plt\n",
    "\n",
    "# Create the scatter plot\n",
    "plt.figure(figsize=(12, 6))\n",
    "for party, color in party_colors.items():\n",
    "    party_data = manifesto_scores[manifesto_scores['party'] == party]\n",
    "    country = party_data['country'].iloc[0]\n",
    "    if country == 'DE':\n",
    "        marker = 'o' \n",
    "    else:\n",
    "        marker = 'x'\n",
    "    plt.scatter(\n",
    "        party_data['year'], \n",
    "        party_data['Expenditure score'], \n",
    "        label=party, \n",
    "        color=[c / 255 for c in color],\n",
    "        marker= marker,\n",
    "        zorder=2\n",
    "    )\n",
    "\n",
    "plt.axhline(y=0, color='gray', linestyle='--', linewidth=0.8, zorder=-1)\n",
    "# Add labels, legend, and title\n",
    "plt.xlabel('Year')\n",
    "plt.ylabel('Expenditure Score')\n",
    "plt.title('Manifesto Scores by Year and Party')\n",
    "plt.legend(title='Party', bbox_to_anchor=(1.05, 1), loc='upper left')\n",
    "plt.tight_layout()\n",
    "\n",
    "# Show the plot\n",
    "plt.show()"
   ]
  }
 ],
 "metadata": {
  "kernelspec": {
   "display_name": "Python 3",
   "language": "python",
   "name": "python3"
  },
  "language_info": {
   "codemirror_mode": {
    "name": "ipython",
    "version": 3
   },
   "file_extension": ".py",
   "mimetype": "text/x-python",
   "name": "python",
   "nbconvert_exporter": "python",
   "pygments_lexer": "ipython3",
   "version": "3.10.2"
  }
 },
 "nbformat": 4,
 "nbformat_minor": 2
}
