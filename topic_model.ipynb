{
 "cells": [
  {
   "cell_type": "markdown",
   "metadata": {},
   "source": [
    "Import Stuff"
   ]
  },
  {
   "cell_type": "code",
   "execution_count": 1,
   "metadata": {},
   "outputs": [],
   "source": [
    "import ssl\n",
    "import re\n",
    "\n",
    "from bertopic import BERTopic\n",
    "from bertopic.representation import KeyBERTInspired\n",
    "from hdbscan import HDBSCAN\n",
    "from umap import UMAP\n",
    "\n",
    "from sklearn.cluster import KMeans\n",
    "from sklearn.model_selection import train_test_split\n",
    "\n",
    "\n",
    "import seaborn as sns\n",
    "import matplotlib.pyplot as plt\n",
    "\n",
    "import nltk\n",
    "from nltk.corpus import wordnet\n",
    "from nltk.tokenize import word_tokenize\n",
    "from nltk.stem import WordNetLemmatizer\n",
    "\n",
    "from datetime import datetime\n",
    "from textblob import TextBlob\n",
    "\n",
    "import pickle\n",
    "import requests\n",
    "\n",
    "import importlib\n",
    "import functions\n",
    "\n",
    "import torch\n",
    "import datasets\n",
    "from datasets import load_dataset\n",
    "from datasets import Dataset\n",
    "import transformers\n",
    "from transformers import AutoTokenizer, AutoModelForSequenceClassification, Trainer, TrainingArguments\n",
    "\n",
    "\n",
    "\n"
   ]
  },
  {
   "cell_type": "code",
   "execution_count": null,
   "metadata": {},
   "outputs": [
    {
     "name": "stderr",
     "output_type": "stream",
     "text": [
      "[nltk_data] Downloading package punkt_tab to\n",
      "[nltk_data]     C:\\Users\\Jacob\\AppData\\Roaming\\nltk_data...\n",
      "[nltk_data]   Package punkt_tab is already up-to-date!\n",
      "[nltk_data] Downloading package wordnet to\n",
      "[nltk_data]     C:\\Users\\Jacob\\AppData\\Roaming\\nltk_data...\n",
      "[nltk_data]   Package wordnet is already up-to-date!\n",
      "[nltk_data] Downloading package punkt to\n",
      "[nltk_data]     C:\\Users\\Jacob\\AppData\\Roaming\\nltk_data...\n",
      "[nltk_data]   Package punkt is already up-to-date!\n",
      "[nltk_data] Downloading package stopwords to\n",
      "[nltk_data]     C:\\Users\\Jacob\\AppData\\Roaming\\nltk_data...\n",
      "[nltk_data]   Package stopwords is already up-to-date!\n",
      "[nltk_data] Downloading package averaged_perceptron_tagger to\n",
      "[nltk_data]     C:\\Users\\Jacob\\AppData\\Roaming\\nltk_data...\n",
      "[nltk_data]   Package averaged_perceptron_tagger is already up-to-\n",
      "[nltk_data]       date!\n"
     ]
    }
   ],
   "source": [
    "from functions import *\n",
    "importlib.reload(functions)\n",
    "\n",
    "nltk.download('punkt_tab')\n",
    "nltk.download('wordnet')\n",
    "nltk.download('punkt')\n",
    "nltk.download('stopwords')\n",
    "nltk.download('averaged_perceptron_tagger')\n",
    "\n",
    "parties = [\"CDU\", \"SPD\", \"FDP\", \"AFD\", \"LEFT\", \"GREENS\"]\n",
    "file_path = \"C:/Users/Jacob/OneDrive/uni/MA WiSoz/Semester III/Computational Social Sciences/foPra/data/\"\n",
    "\n",
    "\n",
    "# Open the file in read mode\n",
    "with open(\"API Keys/DeepL.txt\", 'r', encoding='utf-8') as file:\n",
    "    # Read the contents of the file\n",
    "    api_key_deepl = file.read()\n",
    "\n",
    "url = 'https://api-free.deepl.com/v2/translate'\n",
    "\n",
    "# Load the DataFrame from a pickle file\n",
    "df_manifesto = pd.read_pickle('data\\df_manifesto.pkl') \n",
    "coding_list = pd.read_pickle('data/coding_list.pkl')\n",
    "topics = pd.read_pickle('topics.pkl') \n"
   ]
  },
  {
   "cell_type": "markdown",
   "metadata": {},
   "source": [
    "Edit Text documents"
   ]
  },
  {
   "cell_type": "code",
   "execution_count": 3,
   "metadata": {},
   "outputs": [],
   "source": [
    "lemmatizer = WordNetLemmatizer()"
   ]
  },
  {
   "cell_type": "markdown",
   "metadata": {},
   "source": [
    "defining different models\n",
    "    "
   ]
  },
  {
   "cell_type": "code",
   "execution_count": 4,
   "metadata": {},
   "outputs": [],
   "source": [
    "embedding_model_en = \"all-MiniLM-L6-v2\"\n",
    "embedding_model_multilingual1 = \"paraphrase-multilingual-mpnet-base-v2\"\n",
    "embedding_model_multilingual2 = \"distiluse-base-multilingual-cased-v1\"\n",
    "embedding_model_manifestoberta = \"manifesto-project/manifestoberta-xlm-roberta-56policy-topics-sentence-2024-1-1\""
   ]
  },
  {
   "cell_type": "code",
   "execution_count": 5,
   "metadata": {},
   "outputs": [],
   "source": [
    "representation_model = KeyBERTInspired()\n",
    "cluster_model = KMeans(n_clusters=30)"
   ]
  },
  {
   "cell_type": "code",
   "execution_count": 7,
   "metadata": {},
   "outputs": [],
   "source": [
    "umap_model = UMAP(\n",
    "    n_neighbors=30, \n",
    "    n_components=5, \n",
    "    min_dist=0.1, \n",
    "    metric='cosine', \n",
    "    random_state=42\n",
    "    )"
   ]
  },
  {
   "cell_type": "code",
   "execution_count": 6,
   "metadata": {},
   "outputs": [],
   "source": [
    "hdbscan_model = HDBSCAN(\n",
    "    min_cluster_size=20, \n",
    "    # min_samples=10,\n",
    "    metric='euclidean', \n",
    "    prediction_data=True\n",
    "    )\n",
    "\n"
   ]
  },
  {
   "cell_type": "code",
   "execution_count": 8,
   "metadata": {},
   "outputs": [],
   "source": [
    "seed_topic_list = [\n",
    "    [\"steuergeld\", \n",
    "    \"ausgaben\", \n",
    "    \"staatsausgaben\", \n",
    "    \"staatshaushalt\", \n",
    "    \"schulden\", \n",
    "    \"schuldenbremse\", \n",
    "    \"staatsschulden\", \n",
    "    \"defizit\", \n",
    "    \"haushalt\", \n",
    "    \"haushaltsdefizit\", \n",
    "    \"haushaltsausgleich\", \n",
    "    \"schwarze null\", \n",
    "    \"schuldenabbau\", \n",
    "    \"schuldenpolitik\", \n",
    "    \"schuldenkrise\", \n",
    "    \"schuldenlast\", \n",
    "    \"schuldenstand\", \n",
    "    \"schuldenquote\", \n",
    "    \"schuldenpolitisch\",\n",
    "    \"ausgaben erhöhen\",\n",
    "    \"ausgaben kürzen\"]]"
   ]
  },
  {
   "cell_type": "markdown",
   "metadata": {},
   "source": [
    "Initialisiere und trainiere das BERTopic-Modell\n"
   ]
  },
  {
   "cell_type": "code",
   "execution_count": 9,
   "metadata": {},
   "outputs": [],
   "source": [
    "\n",
    "# Ensure the 'text' column contains only strings and handle NaN values\n",
    "df_manifesto[\"text\"] = df_manifesto[\"text\"].astype(str).fillna(\"\")\n",
    "\n",
    "topic_model = BERTopic(\n",
    "    language=\"multilingual\"\n",
    "    , n_gram_range=(1,2)\n",
    "    , min_topic_size=20\n",
    "    # , top_n_words=20\n",
    "    , representation_model=representation_model\n",
    "    , embedding_model=embedding_model_multilingual2\n",
    "    , umap_model=umap_model\n",
    "    , hdbscan_model=hdbscan_model\n",
    "    # , seed_topic_list=seed_topic_list\n",
    "    )\n",
    "\n",
    "#topic_model = BERTopic(nr_topics=100, calculate_probabilities=True, embedding_model=\"all_MiniLM-L6-v2\")\n",
    "topics, probs = topic_model.fit_transform(df_manifesto[\"text\"])\n",
    "\n"
   ]
  },
  {
   "cell_type": "code",
   "execution_count": 16,
   "metadata": {},
   "outputs": [
    {
     "data": {
      "application/vnd.microsoft.datawrangler.viewer.v0+json": {
       "columns": [
        {
         "name": "index",
         "rawType": "int64",
         "type": "integer"
        },
        {
         "name": "Topic",
         "rawType": "int64",
         "type": "integer"
        },
        {
         "name": "Count",
         "rawType": "int64",
         "type": "integer"
        },
        {
         "name": "Name",
         "rawType": "object",
         "type": "string"
        },
        {
         "name": "Representation",
         "rawType": "object",
         "type": "unknown"
        },
        {
         "name": "Representative_Docs",
         "rawType": "object",
         "type": "unknown"
        }
       ],
       "conversionMethod": "pd.DataFrame",
       "ref": "34b10716-37ca-4c8f-b5cf-b1ddd808536e",
       "rows": [
        [
         "0",
         "-1",
         "48000",
         "-1_wollen wir_wir wollen_wir werden_werden wir",
         "['wollen wir', 'wir wollen', 'wir werden', 'werden wir', 'wollen', 'politik', 'wir', 'deutschland', 'uns', 'unserer']",
         "['Wir werden uns an keiner Regierung beteiligen oder sie tolerieren die öffentliche Daseinsvorsorge privatisiert  Wir wollen dass die Privatisierung von öffentlichen Dienstleistungen ebenso gestoppt wird wie PublicPrivatePartnershipProjekte  Es muss wieder Regel werden Öffentliche Einrichtungen werden in öffentlicher Verantwortung betrieben  Bürger und Volksentscheide zu Privatisierungen sind in der Vergangenheit häufig zugunsten des öffentlichen Eigentums ausgegangen  Wir wollen dass Wasser und andere Güter der Daseinsvorsorge unverkäuflich sind', 'Gemeinsam mit der großen Mehrheit der Bürgerinnen und Bürger werden wir dafür sorgen daß es mit Deutschland wieder aufwärts geht', 'Wir wollen eine Republik freier Bürger und eine Politik für die Rechte und die Freiheit der Menschen in unserem Land']"
        ],
        [
         "1",
         "0",
         "4872",
         "0_werden wir_familie und_familien_für kinder",
         "['werden wir', 'familie und', 'familien', 'für kinder', 'familie', 'wir wollen', 'die familie', 'wollen wir', 'kindergeld', 'mit kindern']",
         "['Mit Blick auf die politisch gewünschten Ziele Vermeidung von Kinderarmut Zugang zu Bildung für alle Kinder und gleiche Förderung aller Kinder unabhängig vom Einkommen der Eltern werden wir das Konzept der Existenzsicherung für Kinder mit den unterschiedlich zusammenwirkenden Instrumenten regelmäßig überprüfen und gegebenenfalls anpassen', 'Wir werden die Vereinbarkeit von Familie und Beruf verbessern', 'Dafür treten wir an \\xa0\\xa0 Wir treiben den Ausbau des qualitativ hochwertigen Betreuungsangebots für unter Dreijährige weiter voran \\xa0\\xa0 Dafür wollen wir die Betreuungsschlüssel und die Ausbildung der Erzieher weiter verbessern \\xa0\\xa0 Die Länder sollen sich hier ihrer Verantwortung stellen \\xa0\\xa0  Betriebskindergärten und private Einrichtungen wollen wir mit den öffentlichen gemeinnützigen und kirchlichen Trägern gleichstellen und bürokratische Hürden für neue Einrichtungen senken \\xa0\\xa0 Zudem möchten wir Tagesmütter und väter besser stellen \\xa0\\xa0 Wir wollen die Vereinbarkeit von Familie und Beruf erleichtern \\xa0\\xa0 Wer für andere Menschen Verantwortung übernimmt soll das nicht um den Preis eigener Chancen tun müssen \\xa0\\xa0  Deshalb wollen wir die Nutzung von flexiblen Arbeitszeitmodellen Home OfficeMöglichkeiten Freistellungsjahren und den Wechsel zwischen Vollund Teilzeit in Unternehmen weiter erleichtern \\xa0\\xa0 Wir wollen die Inanspruchnahme des Elterngeldes durch bessere TeilzeitMöglichkeiten weiter flexibilisieren und die Partnermonate stärken \\xa0\\xa0 Weiterhin streben wir insbesondere eine flexible Anrechnung von Selbständigkeit bei Alleinerziehenden und bei Teilzeitmodellen während der Elternzeit an \\xa0\\xa0 Für Selbstständige wollen wir faire Bedingungen beim Elterngeld schaffen \\xa0\\xa0 Das Einkommen das sich Selbstständige vor ihrer Elternzeit erarbeitet haben ihnen aber erst während der Elternzeit gezahlt wird soll nicht auf das Elterngeld angerechnet werden und damit zu einer Kürzung des Elterngeldes führen o Wir wollen auf Grundlage der in den vergangenen Jahren durchgeführten Evaluation die familienpolitischen Leistungen neu ordnen um Bürokratie abzubauen und die Effizienz der eingesetzten Mittel zu erhöhen o Auch das kürzlich eingeführte Betreuungsgeld muss hinsichtlich seiner Wirkungen überprüft werden o Wenn es das Ziel mehr Wahlfreiheit zwischen privater und staatlicher Kinderbetreuung zu ermöglichen nicht erreicht wollen wir es wieder abschaffen o Bei allen Leistungen orientieren wir uns vor allem am Kindeswohl \\xa0\\xa0 Wir wollen die Bündelung aller kindbezogenen Leistungen mit einer Kinderkarte in einem Modellversuch erproben \\xa0\\xa0 Diese elektronische Karte ist eine unbürokratische und diskriminierungsfreie Möglichkeit Kindern direkt Förderleistungen zukommen zu lassen \\xa0\\xa0 Der Unterhaltsvorschuss muss wieder zur Überbrückungsleistung gemacht werden \\xa0\\xa0 Die Dauer seines Bezuges soll verkürzt werden \\xa0\\xa0 und im Gegenzug der Bezug bis zum 18 Lebensjahr des Kindes ausgeweitet werden \\xa0\\xa0 Alle Akteure des Kinderschutzes müssen Hand in Hand arbeiten um Missbrauch und Misshandlung wirksam vorzubeugen und bei Verdachtsfällen gezielt einzuschreiten \\xa0\\xa0 Die deutliche Stärkung von Prävention und Intervention hilft Verwahrlosung und Missbrauch von Kindern und die Zerrüttung von Familien in Zukunft besser zu verhindern \\xa0\\xa0 Diesen Ansatz gilt es bundesweit zu stärken \\xa0\\xa0 Beispielsweise durch gemeinsame Präventionsnetzwerke wie Kein Täter werden \\xa0\\xa0 Kinder und Jugendliche wollen wir in ihren vielfältigen Lebensräumen wirkungsvoll vor sexuellem Missbrauch schützen und Hilfen für Betroffene verbessern \\xa0\\xa0 Eine unabhängige Aufarbeitung des Missbrauchsgeschehens in der Vergangenheit ist eine gesamtgesellschaftliche Herausforderung der wir einen hohen Stellenwert einräumen \\xa0\\xa0 Die gesellschaftliche Bewusstseinsschärfung die notwendig ist um Missbrauch einzudämmen steht noch immer am Anfang \\xa0\\xa0 Bei der Bundesregierung wird auch künftig ein unabhängiger Missbrauchsbeauftragter angesiedelt werden \\xa0\\xa0 Rechtsstellung Aufgaben Rechte und Pflichten sowie die Beteiligung von Betroffenen werden gesetzlich geregelt \\xa0\\xa0 Außerdem wird von der Bundesregierung eine unabhängige Kommission zur umfassenden systematischen Aufarbeitung des Missbrauchsgeschehens im institutionellen und familiären Bereich angesiedelt sofern der Deutsche Bundestag keine EnqueteKommission zur Aufarbeitung einrichtet \\xa0\\xa0 Für Liberale sind alle Lebensgemeinschaften gleich wertvoll in denen Menschen Verantwortung füreinander übernehmen \\xa0\\xa0 Alle Paare sollen die Ehe eingehen können \\xa0\\xa0 Bis dahin gilt Wer gleiche Pflichten hat verdient auch gleiche Rechte \\xa0\\xa0  Eingetragene Lebenspartnerschaften müssen mit der Ehe gleichgestellt werden  vor allem noch im Einkommensteuerrecht bei der RiesterRente und bei Adoptionen \\xa0\\xa0 In einer Zeit in der traditionelle Familienstrukturen gerade im Alter nicht immer tragen wächst der Bedarf an neuen Formen gegenseitiger Absicherung  jenseits von Verwandtschaft oder Liebesbeziehungen \\xa0\\xa0  Deshalb wollen wir im BGB das Rechtsinstitut der Verantwortungsgemeinschaft mit flexiblen Bausteinen der Verantwortungsübernahme zwischen zwei oder mehreren Personen einführen \\xa0\\xa0 Um Rechtsklarheit gegenüber anderen Verpflichtungen zu wahren dürfen diese Personen weder verheiratet verpartnert oder in gerader Linie miteinander verwandt sein \\xa0\\xa0 Begünstigungen durch den Staat im Steuerund Sozialrecht aber auch im Erbrecht sind nur gerechtfertigt wenn die Partner volle Unterhaltsund Einstandspflichten wie Ehegatten übernehmen \\xa0\\xa0 Um Missbrauch auszuschließen stehen Mitgliedern einer Verantwortungsgemeinschaft kein Zeugnisverweigerungsrecht und kein Familiennachzug im Ausländerrecht zu \\xa0\\xa0 Wir wollen im Familienrecht weitere Wahlmöglichkeiten schaffen \\xa0\\xa0  Ehegatten und eingetragene Lebenspartner sollen bei Eheschließung optional die Errungenschaftsgemeinschaft als weiteren optionalen Güterstand wählen können \\xa0\\xa0 Diese ist in den meisten europäischen Ländern der gesetzliche Güterstand \\xa0\\xa0 Damit werden erwirtschaftete Güter bereits während der Ehe zum gemeinsamen Vermögen und nicht erst bei einer Trennung in Form des Zugewinns ausgeglichen o Wir wollen die Möglichkeit zur Adoption vereinfachen o Dazu wollen wir beispielsweise dass bei Stiefkindadoptionen  den einvernehmlichen Wunsch von Mutter Vater und adoptionswilligem Stiefelternteil vorausgesetzt und sofern dieses dem Kindeswohl nicht widerspricht  das Verwandtschaftsverhältnis zu beiden leiblichen Elternteilen erhalten bleibt o Die gesellschaftliche Realität einer höheren Lebenserwartung und einer nach hinten verschobenen Familiengründungsphase erfordert ein Adoptionsrecht das die Zeichen der Zeit erkennt o  Im Regelfall soll auch ein Altersunterschied von 50 Jahren zwischen dem Kind und den Eltern keinen Zweifel an der Erziehungsfähigkeit begründen \\xa0\\xa0 In einem Reproduktionsmedizingesetz wollen wir bestehende Einzelbestimmungen zusammenfassen und die Eizellspende ermöglichen \\xa0\\xa0 Allen Menschen sollen die in Deutschland zulässigen reproduktionsmedizinischen Angebote beispielsweise die künstliche Befruchtung unabhängig von ihrem Familienstand rechtlich offenstehen \\xa0\\xa0 Bei anonymer Samenspende im Rahmen einer reproduktionsmedizinischen Behandlung soll geregelt werden dass ein Kind zwar bei Volljährigkeit seine Abstammung erfahren darf Unterhaltsund Erbansprüche aber ausgeschlossen sind']"
        ],
        [
         "2",
         "1",
         "1911",
         "1_steuerreform_einkommensteuer_besteuert werden_spitzensteuersatz",
         "['steuerreform', 'einkommensteuer', 'besteuert werden', 'spitzensteuersatz', 'der einkommensteuer', 'steuersätze', 'steuervermeidung', 'steuersatz', 'mehrwertsteuer', 'steuerbetrug']",
         "['BÜNDNIS 90DIE GRÜNEN wollen den radikalen Abbau von Steuervergünstigungen  alle Einkünfte sollen gleich behandelt werden  die Steuerfreistellung des lebensnotwendigen Existenzminimums  der Grundfreibetrag in der Einkommensteuer wird auf 15 000 DMJahr erhöht  die Steuersätze senken der Eingangssteuersatz soll 185 betragen und der Spitzensteuersatz 45 ab einem zu versteuernden Einkommen von 120 000 DMJahr  Aufwendungen der Steuerpflichtigen für die Risikovorsorge Sozialabgaben private Alters und Krankenvorsorge etc bis zur max Beitragshöhe der gesetzlichen Sozialversicherungen derzeit rd 2 500 DMMonat steuerfrei stellen  das Steuerrecht vereinfachen  statt sechs Steuerklassen brauchen wir zukünftig nur noch zwei  das Kindergeld einheitlich auf 300 DM pro Monat und Kind erhöhen  das Ehegattensplitting abschaffen', 'Eine grundlegende Steuerreform in der nächsten Legislaturperiode wird folgen Wir verringern die Steuerbelastung durch ein leistungsfreundliches sozial gerechtes und übersichtliches Steuersystem Wir werden ein einfacheres Steuersystem mit geringeren Steuersätzen und weniger Ausnahmen und Begünstigungen verwirklichen', 'Personen und Familien mit niedrigen und durchschnittlichen Einkommen entlasten und Steuerpflichtige mit hohen und sehr hohen Einkommen stärker heranziehen  den Grundfreibetrag auf 9300 Euro erhöhen sodass mehr als 12000 Euro brutto im Jahr steuerfrei bleiben  Kapitalerträge wie Zinsen und Dividenden zum persönlichen Steuersatz versteuern statt mit einer Pauschalsteuer von 25 Prozent  den Spitzensteuersatz auf 53 Prozent anheben die Steuerbelastung bis zum Spitzensteuersatz von 53 Prozent linear ansteigen lassen Eintrittspunkt 65 000 Euro dieser Tarifverlauf führt dazu dass diejenigen die weniger als 70 245 Euro im Jahr zu versteuern haben entlastet werden diejenigen die mehr haben werden belastet  das Ehegattensplitting abschaffen individuelle Besteuerung einführen tatsächliche Betreuungs und Pflegeleistungen sowie das Zusammenleben mit Kindern steuerlich fördern  den steuerlichen Betriebsausgabenabzug für Geschäftsführungs Vorstands und Aufsichtsratsvergütungen auf das 20fache des Lohnes eines Facharbeiters bei Vollzeitbeschäftigung in der untersten Lohngruppe begrenzen  die Pendlerpauschale neu regeln die Fahrtkosten unabhängig vom Verkehrsmittel anerkennen auszahlen und mit dem Einkommen versteuern damit niedrige Einkommen nicht länger benachteiligt werden  eine höhere Erbschaftssteuer realisieren den Erbberechtigten einen einheitlichen Freibetrag in Höhe von 150 000 Euro gewähren für Erbinnen und Erben die das 60 Lebensjahr vollendet haben für Kinder hinterbliebene Ehegatten und für eine vom Vererbenden benannte Person beispielsweise Lebenspartnerin oder Lebenspartner diesen Freibetrag verdoppeln bei Betriebsvermögen nur das Anlagevermögen zur Berechnung der Steuer heranziehen  die Vermögenssteuer als Millionärssteuer wieder einführen']"
        ],
        [
         "3",
         "2",
         "1887",
         "2_der patientinnen_krankenhäusern_medizinische versorgung_krankenhäuser",
         "['der patientinnen', 'krankenhäusern', 'medizinische versorgung', 'krankenhäuser', 'gesetzlichen krankenversicherung', 'krankenkassen', 'krankenversicherung', 'medizinischen', 'patientinnen und', 'medizinische']",
         "['Unser Ziel ist die Rechte der Patientinnen und Patienten und den Verbraucherschutz im Gesundheitssystem insgesamt zu stärken', 'Das schadet den Patientinnen und Patienten', 'Für ein an den Patientinnen und Patienten orientiertes Gesundheitswesen Grüne setzen sich für mündige Patientinnen und Patienten ein']"
        ],
        [
         "4",
         "3",
         "1727",
         "3_deutschland ist_deutsche staatsangehörigkeit_einwanderungsland_ein einwanderungsland",
         "['deutschland ist', 'deutsche staatsangehörigkeit', 'einwanderungsland', 'ein einwanderungsland', 'einwanderung', 'einwanderungsrecht', 'migranten', 'migrantinnen', 'einwanderer', 'zuwanderung']",
         "['Deutschland ist ein Einwanderungsland', 'Deutschland ist ein Einwanderungsland', 'Dafür treten wir an \\xa0\\xa0 Deutschland ist ein Einwanderungsland \\xa0\\xa0 Darüber freuen wir uns \\xa0\\xa0 Schon in der Vergangenheit haben Einwanderer das Wirtschaftswunder mitgestaltet und unsere Gesellschaft bereichert \\xa0\\xa0  Das Zusammenleben in der offenen Gesellschaft setzt jedoch das Bemühen um Gemeinsamkeiten um Toleranz und Akzeptanz bei allen Beteiligten voraus \\xa0\\xa0 Integration ist unmöglich ohne gemeinsame Sprache und die Akzeptanz der republikanischen Werte unserer Verfassung \\xa0\\xa0 Deshalb wollen wir Integrationskurse als zentrales Element weiter stärken und hier insbesondere auch die frühzeitige Integration von Kindern verstärkt in den Blick nehmen \\xa0\\xa0 Die Integrationskurse sollen auch auf Geduldete und Asylbewerber ausgedehnt werden \\xa0\\xa0 Sie sind oft jahrelang in Deutschland und müssen daher die Möglichkeit erhalten deutsch zu lernen um am Arbeitsund Sozialleben teilnehmen zu können \\xa0\\xa0 Wir wollen ein Einwanderungsrecht das Fachkräften eine Chance auf dem Arbeitsmarkt gibt \\xa0\\xa0 Deutschland soll offen sein für Talente aus aller Welt eine Willkommenskultur etablieren und um kluge Köpfe konkret und aktiv werben \\xa0\\xa0  Die begonnene Liberalisierung bei der Einwanderung von Fachkräften und dem Einstieg in ein modernes Einwanderungsrecht wollen wir fortsetzen \\xa0\\xa0 Dazu streben wir die Weiterentwicklung des Arbeitssuchvisums zu einem klaren und vollständigen Punktesystem nach dem Vorbild von Kanada und Australien an \\xa0\\xa0 Auf dem Weg dorthin wollen wir auch die bestehenden Gehaltsgrenzen für die Einwanderung weiter absenken und anfängliche Sprachbarrieren abbauen \\xa0\\xa0 Hierzu soll unabhängig von der mittelbis langfristigen Förderung von Deutsch als Fremdsprache Englisch als ergänzende Verkehrsund Arbeitssprache in Bereichen der öffentlichen Verwaltung gefördert und etabliert werden die für die gezielte Zuwanderung relevant sind \\xa0\\xa0 Die Arbeitserlaubnispflicht soll zudem bei rechtmäßigem Aufenthalt entfallen \\xa0\\xa0  Analog zur Regelung für Studenten die für ein Studium nach Deutschland kommen sollen auch Auszubildende aus Drittstaaten die eine Lehre in Deutschland absolvieren wollen einen Aufenthaltstitel erhalten \\xa0\\xa0 Integration braucht auch die Offenheit und Integrationsbereitschaft einer Gesellschaft \\xa0\\xa0 Als Liberale werben wir für mehr Offenheit und Toleranz \\xa0\\xa0 Wir wollen eine Möglichkeit zur beschleunigten Einbürgerung nach vier Jahren und die grundsätzliche Zulassung der doppelten Staatsbürgerschaft \\xa0\\xa0 Partizipationsmöglichkeiten erleichtern die Integration \\xa0\\xa0 daher setzen wir uns bei einem rechtmäßigen Mindestaufenthalt von fünf Jahren für die Einführung eines kommunalen Ausländerwahlrechts ein \\xa0\\xa0 Wir wollen gezielt fachlich geeignetes Personal mit Migrationshintergrund für den öffentlichen Dienst gewinnen \\xa0\\xa0 Denn für die Integration und unsere Gesellschaft ist es wichtig dass im öffentlichen Dienst in Kitas und Schulen Personen mit interkultureller Kompetenz tätig sind \\xa0\\xa0 Diese Vorbilder prägen gerade Kinder und Jugendliche positiv o Sprache ist der Schlüssel zur Bildung zum Erfolg und zu gesellschaftlicher Integration o Es ist daher ein Gebot der Fürsorgepflicht des Staates dafür zu sorgen dass kein Kind abgehängt wird o Sprachstandtests für alle Kinder im Alter von vier Jahren sind Voraussetzung dafür dass alle die gleichen Chancen haben o  Bei Bedarf sind eine gezielte Sprachförderung vor der Schule sowie darüber hinausgehende unterrichtsbegleitende Sprachprogramme notwendig \\xa0\\xa0 Wir wollen Eltern verstärkt aufklären und befähigen ihre Kinder zu unterstützen \\xa0\\xa0 Programme zur kombinierten Sprachförderung von Eltern und Kindern zeigen vorbildliche Erfolge \\xa0\\xa0 Auch sind Angebote für Kinder oftmals der beste Anknüpfungspunkt zur nachholenden Integrationsförderung für Eltern \\xa0\\xa0 Erst spät hat sich in unserer Gesellschaft die Einsicht durchgesetzt dass Deutschland ein Einwanderungsland ist \\xa0\\xa0 Zu spät wurde den neuen Mitbürgern ein echtes Angebot gemacht und eine offene Integrationspolitik betrieben \\xa0\\xa0 Nachholende Integration ist deshalb eine ebenso wichtige wie herausfordernde Aufgabe für die Gesellschaft und die Politik \\xa0\\xa0  Hier sind wir besonders gefordert jene Migranten die teilweise bereits seit Jahrzehnten im Land sind beim Integrationsprozess mitzunehmen und nicht verloren zu geben \\xa0\\xa0 Dabei setzen wir vor allem auf bildungsund arbeitsmarktpolitische Instrumente \\xa0\\xa0 Wir suchen und fordern den offenen Dialog mit allen Bevölkerungsgruppen und Religionsgemeinschaften \\xa0\\xa0 Alle religiösen Verbände und Institute sind aufgefordert sich grundsätzlich der gesamten deutschsprachigen Bevölkerung gegenüber zu öffnen \\xa0\\xa0  Wir setzen uns ein für die vermehrte Einrichtung von Lehrstühlen für islamische Theologie an deutschen Hochschulen für die Ausbildung von deutschsprachigen Imamen und muslimischen Religionslehrern \\xa0\\xa0  Wir wollen eine Akademie für Islamstudien schaffen die öffentliche Stellen in Deutschland beraten und die Ausbildung von muslimischen Geistlichen und Religionslehrern in Deutschland fördern soll \\xa0\\xa0 Muslime sind Teil der deutschen Gesellschaft \\xa0\\xa0 Das muss sich auch im Schulunterricht widerspiegeln \\xa0\\xa0 Es muss selbstverständlich werden dass bekenntnisorientierter islamischer Religionsunterricht in deutscher Sprache an den Schulen erteilt wird sofern generell Religionsunterricht an staatlichen Schulen stattfindet und dieser in das Wertesystem des Grundgesetzes eingebettet ist \\xa0\\xa0 Wir setzen uns dafür ein dass die VisaVergabe großzügiger und flexibler gehandhabt wird \\xa0\\xa0 Auch sollten sich dabei Ausländerbehörden und Botschaften nicht als Abwehrbehörden verstehen sondern vielmehr als Aushängeschilder Deutschlands agieren \\xa0\\xa0 Deutschland ist ein weltoffenes Land \\xa0\\xa0 Nicht zuletzt für seine gute Wirtschaft ist der flexible Austausch von Mitarbeitern und Geschäftsreisenden unerlässlich \\xa0\\xa0 Deutschland hat die Bemühungen um die Verbesserung des Flüchtlingsschutzes auf internationaler Ebene in den vergangenen Jahrzehnten unterstützt und zählt zu den zehn Hauptgeberländern von UNHCR \\xa0\\xa0 Wir setzen uns für eine Fortführung des ResettlementProgramms von UNHCR über das Jahr 2014 hinaus ein \\xa0\\xa0 Asylbewerber sollen vom ersten Tag ihres rechtmäßigen Aufenthalts an arbeiten dürfen \\xa0\\xa0 Es entspricht dem liberalen Selbstverständnis dass Menschen nicht dazu gezwungen werden staatliche Leistungen in Anspruch zu nehmen sondern sie die Möglichkeit haben ihren Lebensunterhalt selbst zu verdienen \\xa0\\xa0 Wir haben ein stichtagsunabhängiges Bleiberecht für Jugendliche und Heranwachsende geschaffen von dem auch deren Eltern profitieren können \\xa0\\xa0 Nun muss in Abstimmung mit den Ländern eine generelle stichtagsunabhängige Lösung für die vielen tausend Betroffenen gefunden werden die bereits seit Jahren in Deutschland leben und hier auch absehbar bleiben werden da eine Aufhebung ihrer Duldung nicht absehbar ist \\xa0\\xa0  Kettenduldungen wollen wir abschaffen']"
        ],
        [
         "5",
         "4",
         "1690",
         "4_fdp fordert_deshalb fordert_fdp will_fdp setzt",
         "['fdp fordert', 'deshalb fordert', 'fdp will', 'fdp setzt', 'fordert die', 'fdp ist', 'fdp lehnt', 'fdp tritt', 'fdp wird', 'fdp für']",
         "['Die FDP fordert', 'Die FDP fordert', 'Die FDP fordert']"
        ],
        [
         "6",
         "5",
         "1594",
         "5_autobahnen_schienenverkehr_bundesbahn_verkehrswege",
         "['autobahnen', 'schienenverkehr', 'bundesbahn', 'verkehrswege', 'nahverkehr', 'verkehrsinfrastruktur', 'verkehrswende', 'verkehrsmittel', 'personennahverkehr', 'bundesverkehrswegeplan']",
         "['Wir schaffen gute Arbeitsplätze in der Produktion von Bus Bahn und Schiene und für die Beschäftigten im ÖPNV', 'Für weniger LkwVerkehr wollen wir den Güterverkehr von der Straße auf die Schiene verlagern', 'Mobilität für alle  mit weniger Verkehr']"
        ],
        [
         "7",
         "6",
         "1497",
         "6_wissenschaft und_wissenschaftlerinnen und_wissenschaftlerinnen_wissenschaft",
         "['wissenschaft und', 'wissenschaftlerinnen und', 'wissenschaftlerinnen', 'wissenschaft', 'der wissenschaft', 'studiums', 'wissenschaftler', 'wissenschaftlichen', 'studium', 'wissenschaftliche']",
         "['Wissenschaft und Forschung fördern', 'Autonomie der Hochschulen stärken Freiheit von Forschung und Lehre bewahren', 'Bildung und Forschung']"
        ],
        [
         "8",
         "7",
         "1451",
         "7_geschlechtergerechtigkeit_männern und_geschlechtern_geschlechter",
         "['geschlechtergerechtigkeit', 'männern und', 'geschlechtern', 'geschlechter', 'männer und', 'männern', 'und männern', 'den geschlechtern', 'männer', 'die gleichstellung']",
         "['Die Gleichstellung von Frauen und Männern ist eine Aufgabe für die gesamte Gesellschaft', 'Reale Gleichstellung von Frauen und Männern', 'Gleichstellung von Frauen und Männern']"
        ],
        [
         "9",
         "8",
         "1314",
         "8_jugendpolitik_für jugendliche_und jugendlichen_und jugendliche",
         "['jugendpolitik', 'für jugendliche', 'und jugendlichen', 'und jugendliche', 'die jugendlichen', 'jugendliche die', 'der jugendlichen', 'jugendlichen', 'für junge', 'jugendliche in']",
         "['Wir wollen die Kinder und Jugendlichen in den Mittelpunkt rücken', 'Das gilt auch für Kinder und Jugendliche', 'Politik für junge Menschen']"
        ],
        [
         "10",
         "9",
         "1216",
         "9_kultur und_kultur ist_das kulturelle_die kulturelle",
         "['kultur und', 'kultur ist', 'das kulturelle', 'die kulturelle', 'kulturschaffenden', 'und kulturelle', 'kulturelle vielfalt', 'der kulturellen', 'kulturelle', 'kulturelles']",
         "['Kunst und Kultur sind in ihrer Vielfalt für eine lebendige Demokratie unverzichtbar', 'P Kunst und Kultur beflügeln', 'Kunst und Kultur pflegen']"
        ],
        [
         "11",
         "10",
         "1142",
         "10_sozialen wohnungsbau_mietwohnungen_sozialwohnungen_soziale wohnungsbau",
         "['sozialen wohnungsbau', 'mietwohnungen', 'sozialwohnungen', 'soziale wohnungsbau', 'eigentumswohnungen', 'wohnungen zu', 'wohnungsbaus', 'bezahlbaren wohnraum', 'den wohnungsbau', 'wohnungsbau']",
         "['Das Wiener Modell hat es vorgemacht Bezahlbare Wohnungen mit festgelegten Mieten die in öffentlichem Eigentum sind und in denen die Mieterinnen und Mieter mitbestimmen', 'Für bezahlbare Mieten und sozialen Wohnungsbau Spekulation mit Wohnraum stoppen', 'Wir wollen 1 die Explosion der Mieten und Verdrängung stoppen 2 die Privatisierung von und Spekulation mit Boden und Wohnraum venden und 3 den öffentlichen und sozialen Wohnungsbau neu starten und gemeinnützigen und genossenschaftlichen Wohnungsbau stärken']"
        ],
        [
         "12",
         "11",
         "946",
         "11_der alterssicherung_gesetzliche rentenversicherung_gesetzlichen rentenversicherung_altersversorgung",
         "['der alterssicherung', 'gesetzliche rentenversicherung', 'gesetzlichen rentenversicherung', 'altersversorgung', 'altersvorsorge', 'die rentenversicherung', 'der rentenversicherung', 'rentenversicherung', 'alterssicherung', 'rentenversicherung und']",
         "['Weil sich der Altersaufbau unserer Bevölkerung ändert mehr Rentner weniger Beitragszahler werden wir in der nächsten Legislaturperiode eine grundlegende Strukturreform vornehmen um die Renten auch für die nächste Generation zu sichern', 'Weil sich der Altersaufbau unserer Bevölkerung ändert mehr Rentner weniger Beitragszahler werden wir in der nächsten Legislaturperiode eine grundlegende Strukturreform vornehmen um die Renten auch für die nächste Generation zu sichern', 'Die gesetzliche Rentenversicherung bleibt die erste Säule der Alterssicherung und Grundlage für den Schutz vor Armut im Alter']"
        ],
        [
         "13",
         "12",
         "833",
         "12_arbeitszeiten_arbeitszeitverkürzung_arbeitszeit_der arbeitszeit",
         "['arbeitszeiten', 'arbeitszeitverkürzung', 'arbeitszeit', 'der arbeitszeit', 'höchstarbeitszeit', 'arbeitsverhältnisse', 'werkverträgen', 'arbeitsschutz', 'überstunden', '40 stunden']",
         "['Wir wollen uns deshalb einsetzen für  o wesentlich erweiterte Mitbestimmung der Beschäftigten am Arbeitsplatz in den Betrieben und Unternehmen einschließlich des Einspruchs und Vetorechts am Arbeitsplatz hinsichtlich der Arbeitsbedingungen Inhalte und ergebnisse sowie der Arbeitszeit paritätische Mitbestimmung auf Unternehmensebene und Einrichtung von Wirtschafts und Sozialräten', 'Die Beschäftigten haben einen Rechtsanspruch auf eine Arbeitszeit von mindestens 22 Stunden in der Woche', 'Ausnahmeregelungen müssen deutlich reduziert werden Überstunden effektiv begrenzt werden und es müssen stärkere Kontrollen insbesondere solche durch unabhängige Arbeitnehmervertretungen gesetzlich vorgeschrieben werden  Ausbau der kollektiven Mitbestimmung der Beschäftigten und der betrieblichen Interessenvertretungen Im Büro in der Werkshalle in Behindertenwerkstätten auf Station und im Geschäft müssen die Rechte der Beschäftigten sowie die der Betriebsräte Schwerbehindertenvertretungen und Werkstatträte sowie ihre Mitbestimmung bei der Gestaltung ihrer individuellen Tätigkeiten gestärkt werden  beispielsweise mittels Vetorechten und im Hinblick auf Stellenpläne bei der Ausgestaltung von kollektiven Arbeitsabläufen und bei der Personalbemessung  Wir unterstützen Initiativen um die weißen Flecken der Mitbestimmung wie Betriebe ohne jegliche Mitwirkung der Beschäftigten Stück für Stück zu beseitigen  Deutschland muss endlich das Zusatzprotokoll der Europäischen Sozialcharta über Kollektivbeschwerden ratifizieren so dass unter anderem Gewerkschaften beim Europarat ein Beschwerderecht bei Verletzungen der Sozialcharta bekommen  Wir unterstützen Initiativen den gesetzlichen Ladenschluss stärker zu begrenzen insbesondere Sonn und Feiertagsarbeit ist auf wenige streng definierte Ausnahmen zu beschränken  Sofort umsetzbar ist die Einführung einer AntiStressVerordnung wie sie auch von der IG Metall gefordert wird und eines individuellen VetoRechts bei der Umgestaltung von Arbeitsaufgaben  Wir wollen den betrieblichen Arbeits und Gesundheitsschutz und das Jugendarbeitsschutzgesetz verbessern']"
        ],
        [
         "14",
         "13",
         "797",
         "13_agrarpolitik ist_bäuerliche landwirtschaft_landwirtschaftspolitik_agrarpolitik",
         "['agrarpolitik ist', 'bäuerliche landwirtschaft', 'landwirtschaftspolitik', 'agrarpolitik', 'agrarpolitik der', 'der agrarpolitik', 'die agrarpolitik', 'agrarpolitik die', 'landwirtschaft ist', 'agrarwirtschaft']",
         "['Für besondere ökologische und landschaftspflegerische Leistungen der Landwirtschaft die über die ordnungsgemäße Bewirtschaftung hinausgehen wollen wir den Ausgleichsanspruch festschreiben  Die Leistungen der Landwirtschaft für Umwelt und Klimaschutz durch umweltverträglichen Anbau und Verwendung von nachwachsenden Rohstoffen wollen wir mit der umfassenden Förderung von Forschungs und Demonstrationsprojekten weiter ausbauen  Damit die Landwirtschaft im europäischen Wettbewerb bestehen kann braucht sie Produktionsbedingungen wie in den europäischen Nachbarländern', 'Eine grundlegende Reform der Agrarpolitik ist im Interesse der Landwirtschaft der Steuerzahler und der Verbraucher notwendig', 'Für die deutsche Landwirtschaft ist die Agrarpolitik der EU von großer Bedeutung']"
        ],
        [
         "15",
         "14",
         "729",
         "14_demokratisierung der_demokratisierung_demokratischen_demokratisieren",
         "['demokratisierung der', 'demokratisierung', 'demokratischen', 'demokratisieren', 'demokratie', 'demokratische', 'demokratie die', 'demokratischer', 'demokratie in', 'demokratisch']",
         "['Dafür treten wir an \\xa0\\xa0 Wir wollen die Demokratie in unserem Land stärken und beleben \\xa0\\xa0 In einer gereiften Demokratie sollen die Bürger auch über Wahlen hinaus einen unmittelbaren Einfluss auf die politische Willensbildung erhalten \\xa0\\xa0 Wir setzen uns für eine Öffnung und Stärkung der repräsentativen Demokratie ein \\xa0\\xa0 Dazu wollen wir mit der Einführung des Bürgerplenarverfahrens eines fakultativen Gesetzesreferendums und der verfassungsrechtlichen Verankerung von Volksinitiativen Volksbegehren und Volksentscheiden eine entsprechende Grundlage schaffen \\xa0\\xa0 Neue Medien eröffnen neue Chancen für die Bürgerbeteiligung und senken die Hürden zur gemeinsamen Interessenswahrnehmung in unserer Gesellschaft \\xa0\\xa0 Wir wollen diese Chancen als Ergänzung für unsere repräsentative Demokratie nutzen \\xa0\\xa0 Informationsangebote im Internet eröffnen den Menschen und der Politik neue Chancen der Interaktion \\xa0\\xa0 Unter Open Data versteht man die freie Verfügbarkeit und Nutzbarkeit von Daten \\xa0\\xa0  In der öffentlichen Verwaltung und in öffentlichen Unternehmen liegen eine Vielzahl von Daten vor die weder aus datenschutznoch urheberrechtlichen Gründen besonders geschützt werden müssen sondern zur Nutzung und Weiterverarbeitung zugänglich gemacht werden können \\xa0\\xa0 Wir setzen uns für eine Fortführung und den Ausbau bestehender öffentlicher OpenDataAngebote ein \\xa0\\xa0 Möglichst viele Daten aus öffentlicher Verwaltung und öffentlichen Unternehmen sollen dort in maschinenlesbarer Form und unter Verwendung einer offenen Lizenz zur Verfügung gestellt werden um so eine Nutzung der Daten und Innovationen zu ermöglichen \\xa0\\xa0 Die weite Verbreitung des Internets bietet auch Möglichkeiten für eine bessere Bürgerbeteiligung in Deutschland \\xa0\\xa0 Wir setzen uns dafür ein die digitalen Kommunikationswege auszubauen und bei Bedarf neue Kanäle zu schaffen um die bestehenden Angebote zu ergänzen \\xa0\\xa0 Im Bereich des eGovernments sollen die Bürger so besser informiert werden und einfacher mit den staatlichen Stellen kommunizieren können \\xa0\\xa0 Langfristiges Ziel ist es eine Teilhabe auch über moderne Kommunikationswege zu ermöglichen sodass sich Bürger tagesaktuell an politischen Debatten beteiligen können \\xa0\\xa0 Demokratie beginnt in unseren Städten und Gemeinden \\xa0\\xa0 Deshalb wollen wir die Selbstbestimmung der Kommunen durch eine umfassende Gemeindefinanzreform stärken \\xa0\\xa0 und setzen uns gleichzeitig für mehr Transparenz und Beteiligung an kommunalen Entscheidungen ein \\xa0\\xa0 Wir wollen ein kommunales Ausländerwahlrecht für Drittstaatsangehörige \\xa0\\xa0 Ein funktionsfähiger öffentlicher Dienst ist eine wichtige Säule unseres demokratischen Rechtsstaats \\xa0\\xa0 Wir bekennen uns zum Berufsbeamtentum weil damit für die Erfüllung hoheitlicher Aufgaben Vorteile verbunden sind zu denen beispielsweise besondere Loyalitätspflichten und Streikverbot von Beamten gehören \\xa0\\xa0 Wir setzen uns für Verbesserungen bei der Mitnahme erworbener Versorgungsansprüche ein für eine Flexibilisierung des Ruhestandseintritts und für eine Stärkung des Leistungsgedankens \\xa0\\xa0  Im Laufbahnrecht soll das Absolvieren einer Station bei einer europäischen oder internationalen Organisation deutlich stärker gewichtet werden als bisher \\xa0\\xa0 Wir wollen eine wehrhafte Demokratie die gegen alle extremistischen Bedrohungen gewappnet ist \\xa0\\xa0  Terrorismus und Extremismus sind weiterhin konsequent zu bekämpfen und zu verfolgen \\xa0\\xa0 Deshalb werden wir uns für den Ausbau und eine stärkere Koordinierung von Deradikalisierungsprogrammen einsetzen \\xa0\\xa0  Wo Eingriffe in Bürgerrechte notwendig sind müssen diese stets neu begründet werden und verhältnismäßig sein \\xa0\\xa0 Deshalb wollen wir die geltenden Sicherheitsgesetze fortlaufend auf ihre Angemessenheit überprüfen \\xa0\\xa0 Auch im Bereich der Polizei bedarf der Kernbereich privater Lebensgestaltung stärkeren Schutzes \\xa0\\xa0 Dazu gehört insbesondere das BKAGesetz auf den Prüfstand \\xa0\\xa0 Wir halten das Instrument der heimlichen OnlineDurchsuchung weder für erforderlich noch für geeignet sondern sehen darin vielmehr einen zu weitreichenden Eingriff in die Grundrechte der umfassenden Zugriff auf quasi jeden Lebensbereich des Betroffenen ermöglicht \\xa0\\xa0 Um die Sicherheit in und um Fußballstadien weiter zu verbessern setzen wir Liberale auf die konsequente Umsetzung des Nationalen Konzeptes Sport und Sicherheit NKSS und des ZehnPunktePlans für mehr Sicherheit im Fußball \\xa0\\xa0 Vereine und Verbände leisten hier gemeinsam mit den Fanprojekten eine hervorragende soziale Arbeit \\xa0\\xa0  Zur Minderung von Gewalt im Rahmen von Sportveranstaltungen sind präventive Ansätze ein permanenter Dialog aller Akteure und eine konsequente Strafverfolgung aus unserer Sicht sinnvoller als der Aufbau von Drohkulissen aus den Reihen der Innenminister der Länder \\xa0\\xa0 Bürgerrechte gelten auch im Sport \\xa0\\xa0 Wir wenden uns gegen unverhältnismäßige Grundrechtseingriffe gegen Fußballfans \\xa0\\xa0 Die Freiheit des Einzelnen zu schützen ist die Aufgabe des Staates \\xa0\\xa0  Die Sicherheitsbehörden in Deutschland leisten tagtäglich einen herausragenden Beitrag zur Sicherung der Freiheit der Menschen und des Rechtsstaates \\xa0\\xa0 Vor allem Polizisten stehen wie kaum eine andere Berufsgruppe für Recht und Gesetz \\xa0\\xa0 Damit die hervorragende Arbeit der Polizei auch in Zukunft weitergeführt werden kann braucht Deutschland eine vernünftige Sicherheitsarchitektur aus Behörden mit guter Ausstattung an Personal und Sachmitteln \\xa0\\xa0 Polizei ist und bleibt in Deutschland zuallererst Ländersache \\xa0\\xa0  In einer föderalen Sicherheitsarchitektur sind die Zusammenarbeit und der Informationsaustausch zwischen allen Behörden jedoch unerlässlich \\xa0\\xa0  Um dies weiter zu verbessern wollen wir die gesetzlichen Grundlagen für gemeinsame Zentren der polizeilichen Zusammenarbeit schaffen und so deren rechtstaatliche Funktion und Kontrolle absichern \\xa0\\xa0  Um eine effiziente Verfolgung verfassungsfeindlicher Organisationen und Personen zu gewährleisten unterstützen wir die Zusammenfassung einzelner Landesverfassungsschutzämter und wollen die Zusammenarbeit der Landesverfassungsschutzämter stärken \\xa0\\xa0 Auch auf Bundesebene wollen wir die Sicherheitsarchitektur an die Erfordernisse der Zeit anpassen \\xa0\\xa0 Eine Ausweitung polizeilicher und nachrichtendienstlicher Kompetenzen des Bundes lehnen wir jedoch ebenso grundsätzlich ab \\xa0\\xa0 wie einen Einsatz der Bundeswehr im Inneren \\xa0\\xa0 Unklare Zuständigkeiten und Doppelzuständigkeiten sind aufzulösen \\xa0\\xa0  Polizei und Nachrichtendienste sollen sich auf ihre Kernaufgaben konzentrieren \\xa0\\xa0 Die zunehmende Vernachrichtendienstlichung der Polizei lehnen wir ab ebenso wie die Ausweitung der Zuständigkeiten der Nachrichtendienste in den Bereich der Gefahrenabwehr \\xa0\\xa0 Wir setzen uns für die föderale Ordnung im Bereich der Sicherheitsbehörden ein und wollen gleichzeitig eine Rückbesinnung auf die Kompetenzbereiche der Sicherheitsbehörden sowohl zwischen Bund und Ländern als auch zwischen Polizei und Nachrichtendiensten \\xa0\\xa0  Die Aufgaben des Militärischen Abschirmdienstes sollen künftig Bundeswehr und Verfassungsschutz wahrnehmen \\xa0\\xa0 Die zersplitterten Strukturen bei der Sicherung unserer Küsten wollen wir in einer nationalen Küstenwache zusammen binden o Digitale Angriffe auf öffentliche Einrichtungen oder Unternehmen etwa Energieoder Wasserversorger auf Infrastrukturen wie Verkehrsbetriebe oder auf Finanzinstitute können die Funktionsfähigkeit unserer Gesellschaft fundamental beeinträchtigen oder zum Erliegen bringen o Wir wollen Deutschlands Fähigkeit stärken sich solchen Bedrohungen effektiv zu widersetzen und alle Bereiche des öffentlichen Lebens gegen digital geführte Angriffe wappnen o ITSicherheit kann aber nicht zuvörderst der Staat gewährleisten sondern die Unternehmen Nutzer und Provider o Wir sehen vor allem die Wirtschaft in der Verantwortung durch Investitionen in ITSicherheit und gemeinsam vereinbarte Standards zu Datensicherheit und Schutzmechanismen ihrer Verantwortung für die Informationsgesellschaft gerecht zu werden \\xa0\\xa0 Wir wollen eine umfassende parlamentarische Kontrolle über die Nachrichtendienste gewährleisten \\xa0\\xa0 Mitglieder des Parlamentarischen Kontrollgremiums ist jederzeit und unangekündigt Zugang zu den Diensten Informationen und Unterlagen zu gewähren sofern dies zur Kontrolle erforderlich ist \\xa0\\xa0 Mitarbeiter der Dienste sollen durch das Gremium jederzeit mit qualifizierter EinViertelMinderheit vorgeladen werden können \\xa0\\xa0 Die Arbeit des Gremiums soll durch die Berufung eines ständigen Sachverständigen unterstützt werden der unter anderem die Arbeit in Untersuchungsausschüssen als Ermittlungsbeauftragter unterstützt \\xa0\\xa0  Über den Einsatz von VLeuten ist das Gremium alle sechs Monate durch die Bundesregierung zu informieren \\xa0\\xa0 Der illegale Besitz von Waffen ist eine Bedrohung für die Sicherheit der Bürger \\xa0\\xa0 Deshalb setzen wir uns dafür ein illegalen Waffenbesitz konsequent zu verfolgen \\xa0\\xa0 Wir setzen uns für eine fortlaufende wissenschaftlich begleitete Überprüfung des geltenden Waffenrechts ein auch die verdachtsunabhängigen Kontrollen gehören auf den Prüfstand \\xa0\\xa0 Wir lehnen eine weitere Verschärfung des geltenden Waffenrechts ab \\xa0\\xa0  Die Einführung einer Waffensteuer und die zentrale Lagerung von Jagdund Sportwaffen dienen nicht der Sicherheit und werden deshalb von uns angelehnt \\xa0\\xa0 Die Programme zur Extremismusprävention sind und bleiben ein zentraler Baustein für die wehrhafte Demokratie \\xa0\\xa0 Sie stärken unseren demokratischen Staat von innen und helfen die Menschen gegen extremistisches Gedankengut und gegen mit unserer Verfassung unvereinbare Ideologien zu immunisieren \\xa0\\xa0 Diese Programme sind regelmäßig zu evaluieren \\xa0\\xa0 Die Erinnerung an die beiden deutschen Diktaturen an ihre Opfer ihre Täter und den Widerstand gegen sie ist eine gesamtgesellschaftliche Aufgabe \\xa0\\xa0  Die junge Generation kennt Unfreiheit staatlichen Terror und Entrechtung in Deutschland  zum Glück  nur aus Geschichtsbüchern \\xa0\\xa0 Es gilt gerade junge Menschen anhand der Diktaturgeschichte Deutschlands weiter für den Wert von Freiheit Rechtsstaatlichkeit und Menschlichkeit zu sensibilisieren \\xa0\\xa0 Wir stärken unsere demokratische politische Kultur indem wir aufarbeiten erinnern aufklären und so urteilsfähig bleiben \\xa0\\xa0  Extremismus darf nicht toleriert oder entschuldigt werden  egal ob er links rechts oder religiös motiviert ist', 'Demokratisierung der Demokratie', 'Demokratie und']"
        ],
        [
         "16",
         "15",
         "691",
         "15_organisierten kriminalität_organisierte kriminalität_strafverfolgungsbehörden_kriminalität ist",
         "['organisierten kriminalität', 'organisierte kriminalität', 'strafverfolgungsbehörden', 'kriminalität ist', 'kriminalität und', 'kriminalität', 'kriminalität wir', 'der kriminalität', 'polizeilichen', 'polizei und']",
         "['Schutz und Sicherheit durch eine leistungsfähige Polizei und Justiz', 'Die Bekämpfung von Kriminalität ist Sache der Polizei und der Justizbehörden', 'Das gilt insbesondere für die Bereiche der Polizei und Justiz']"
        ],
        [
         "17",
         "16",
         "668",
         "16_militärischen_bundeswehr im_militärische_bundeswehr soll",
         "['militärischen', 'bundeswehr im', 'militärische', 'bundeswehr soll', 'bundeswehr in', 'bundeswehr auf', 'zivildienst', 'bundeswehr ist', 'bundeswehr zu', 'militärischer']",
         "['Dafür treten wir an \\xa0\\xa0 Die Bundeswehr ist und bleibt eine Parlamentsarmee \\xa0\\xa0 Vor Beginn von Einsätzen in Krisengebieten müssen die politischen Ziele und Zeitlinien sowie eine ExitStrategie klar formuliert sein \\xa0\\xa0 Diese sind für die Dauer des Einsatzes fortzuschreiben \\xa0\\xa0 Mit der Aussetzung der Wehrpflicht und dem damit verbundenen Umbau der Bundeswehr zu einer Freiwilligenarmee haben wir echte Meilensteine bezüglich des Aufbaus und der inneren Verfasstheit der Bundeswehr gesetzt \\xa0\\xa0 Gleichzeitig setzen wir uns dafür ein dass die bedeutende Arbeit der Bundeswehr Anerkennung in der Öffentlichkeit erfährt \\xa0\\xa0 Die Wertschätzung des anspruchsvollen und gefährlichen Dienstes unserer Soldaten ist gerade für eine Armee im Einsatz von überragender Bedeutung \\xa0\\xa0 Die notwendige Akzeptanz in der Bevölkerung wollen wir unter anderem durch eine entsprechende Repräsentanz in der Fläche erreichen \\xa0\\xa0 Wir wollen die Attraktivität des Dienstes weiter steigern \\xa0\\xa0 Die Gehaltshöhe die Qualität der Infrastruktur Weiterbildungsmöglichkeiten Versetzungshäufigkeit die Versorgung im Falle der Verwundung sowie die Vereinbarkeit von Dienst und Familie sind dabei wesentliche Faktoren \\xa0\\xa0 Die Einsatzfähigkeit der Bundeswehr muss durch eine entsprechende Finanzierung sicher gestellt sein \\xa0\\xa0 Auslandseinsätze dürfen dabei nicht zu Lasten des laufenden Etats des Verteidigungsministeriums gehen \\xa0\\xa0 Die NATO bleibt auch in Zukunft stärkster Anker unserer gemeinsamen Sicherheitspolitik \\xa0\\xa0 Sie selbst aber auch die anderen bedeutenden internationalen Friedensund Sicherheitsorganisationen UNO OSZE Europarat EU müssen in ihrer Handlungsfähigkeit fortlaufend gestärkt werden \\xa0\\xa0  Gleichzeitig werden wir uns für die Etablierung allgemein anerkannter Normen und Regeln im internationalen System und für eine noch intensivere Kooperation im Bereich der Sicherheitsund Verteidigungspolitik einsetzen \\xa0\\xa0  Durch Schaffung gemeinsamer Strukturen sollen langfristig die Voraussetzungen für europäische Streitkräfte unter parlamentarischer Kontrolle geschaffen werden \\xa0\\xa0 Dazu muss ein gemeinsames sicherheitspolitisches Verständnis geschaffen und ein Ausgleich rüstungspolitischer Interessen herbeigeführt werden o Angesichts der Komplexität neuer Herausforderungen wollen wir eine ständige Schaltstelle auf Ebene der Bundesregierung zum Informationsaustausch und zur Koordinierung der militärischen und zivilen Maßnahmen in allen Bereichen der Außenund Sicherheitspolitik sowie zur Vorbeugung und Reaktion auf nationale und internationale Katastrophen und Krisen einrichten o  Das Auswärtige Amt bietet sich als Grundlage für diese Struktur an o Dabei muss neben der Lageanalyse der vernetzte Ansatz unter Wahrung der Ressortverantwortlichkeit gewährleistet und gestärkt werden o Außerdem muss die parlamentarische Kontrolle durch Beteiligung des Parlaments jederzeit sichergestellt sein \\xa0\\xa0 Wir wollen eine nationale Sicherheitsstrategie als Beitrag zu einer EUSicherheitsstrategie entwickeln und diese regelmäßig fortschreiben \\xa0\\xa0  Denn nur durch die Formulierung und regelmäßige öffentliche Diskussion einer solchen Strategie kann es gelingen in einer breiten Öffentlichkeit Bewusstsein und Verständnis für sicherheitspolitische Themen zu schaffen \\xa0\\xa0 In einer offenen und toleranten Bürgergesellschaft muss Sicherheitspolitik mehr sein als ein Thema für wenige Spezialisten \\xa0\\xa0  Dabei gilt es den politischen Auftrag der Bundeswehr stets klar zu formulieren und eine entsprechende Struktur und Rechtssicherheit für die Streitkräfte abzuleiten \\xa0\\xa0 Dabei muss der Schutz der territorialen Integrität Deutschlands als Auftrag \\xa0\\xa0 und die Trennung der Zuständigkeiten von Bundeswehr und Polizei erhalten bleiben \\xa0\\xa0 Wir setzen uns für ein parlamentarisches Gremium mit vollumfänglichen Auskunftsrechten ein das die Entscheidungen des Bundessicherheitsrats kontrolliert  vergleichbar mit dem Verfahren zur Kontrolle der Geheimdienste \\xa0\\xa0  Der Rüstungsexportbericht soll künftig zeitnah im direkten Anschluss an den Berichtszeitraum veröffentlicht werden \\xa0\\xa0 Die Kontrolle über den weiteren Verbleib und die Verwendung exportierter Waffen und Rüstungsgüter ist auszubauen \\xa0\\xa0  Die Rüstungskontrolle ist auf neue Technologien der modernen Kriegsführung wie zum Beispiel Spionagesoftware auszuweiten \\xa0\\xa0 Im Rahmen der zivilen Krisenprävention und beim Wiederaufbau staatlicher Strukturen nach einer Krise legen wir einen Schwerpunkt auf die Stärkung des Aufbaus von zivilen Fähigkeiten Verwaltung Justiz Polizei \\xa0\\xa0 Darüber hinaus sollten die Instrumente der Entwicklungszusammenarbeit der Aufbau wirtschaftlicher Partnerschaften die polizeiliche und rechtsstaatliche Zusammenarbeit sowie die Förderung grenzüberschreitender Zusammenarbeit zur Konfliktund Krisenprävention im Sinne eines kohärenten Politikansatzes gestärkt werden \\xa0\\xa0 Unser Ziel ist die Stärkung der nuklearen radiologischen chemischen und biologischen sowie konventionellen Kontrollund Nichtverbreitungsregime \\xa0\\xa0 Die universelle Anwendung der internationalen Vertragsregime und Verhaltenskodizes ist unser erklärtes Ziel \\xa0\\xa0 Speziell im Rahmen der nuklearen Rüstungskontrolle setzen wir uns konsequent für eine umfassende Stärkung des nuklearen Nichtverbreitungsvertrages und für ein Inkrafttreten des Teststoppvertrages ein \\xa0\\xa0 Darüber hinaus wollen wir aber auch neue Wege gehen um über die bisherigen Konventionen hinaus die weltweite Abrüstung voranzutreiben und zum Beispiel aktiv für den Beitritt von Nichtvertragsstaaten zum Biowaffensowie dem Chemiewaffenverbotsübereinkommen werben \\xa0\\xa0 An dem Ziel eines Abzugs taktischer Nuklearwaffen aus Europa halten wir fest \\xa0\\xa0 Die von uns eingeleitete Übergabe in Verantwortung an die Regierung Afghanistans und den Abzug der Kampftruppen für 2014 werden wir fortsetzen \\xa0\\xa0 Auch über dieses Datum hinaus werden wir die Menschen in Afghanistan beim Aufbau des Landes im Rahmen der Entwicklungszusammenarbeit wirksam unterstützen', 'Die Bundeswehr im Einsatz', 'Zukunft für die Bundeswehr']"
        ],
        [
         "18",
         "17",
         "665",
         "17_internationale wettbewerbsfähigkeit_internationalen wettbewerb_wettbewerbsfähigkeit unserer_leistungswettbewerb",
         "['internationale wettbewerbsfähigkeit', 'internationalen wettbewerb', 'wettbewerbsfähigkeit unserer', 'leistungswettbewerb', 'wettbewerbsverzerrungen', 'wettbewerbsfähigen', 'wettbewerbsfähige', 'wettbewerbsfähigkeit der', 'die wettbewerbsfähigkeit', 'der wettbewerbsfähigkeit']",
         "['Das stärkt unsere Wirtschaft im internationalen Wettbewerb', 'Sie stehen im internationalen Wettbewerb', 'Wir wollen den Wettbewerb der Unternehmen']"
        ],
        [
         "19",
         "18",
         "500",
         "18_im westen_west und_und west_westdeutschland",
         "['im westen', 'west und', 'und west', 'westdeutschland', 'westen', 'zwischen west', 'westdeutschen', 'west', 'westen deutschlands', 'in ostdeutschland']",
         "['In Stadt und Land in Ost und West', 'Gleiche Chancen in Ost und West', 'X Gleichwertige Lebensverhältnisse in Ost und West']"
        ],
        [
         "20",
         "19",
         "491",
         "19_europa ist_europa und_wollen europa_europäischen staaten",
         "['europa ist', 'europa und', 'wollen europa', 'europäischen staaten', 'die europäischen', 'europa europa', 'die europäische', 'europäische union', 'europäischen union', 'der europäischen']",
         "['Wir wollen ein Europa der Bürgerinnen und Bürger', 'Europa ist mehr als die EU', 'EU und Europa']"
        ],
        [
         "21",
         "20",
         "466",
         "20_massenvernichtungswaffen_atomwaffen aus_nuklearwaffen_waffenexporte",
         "['massenvernichtungswaffen', 'atomwaffen aus', 'nuklearwaffen', 'waffenexporte', 'atomwaffen', 'waffen müssen', 'von massenvernichtungswaffen', 'ohne atomwaffen', 'waffenrechts', 'von atomwaffen']",
         "['Wir wollen den Export von Waffen und Waffenfabriken verbieten', 'Zur Vision einer Welt ohne Massenvernichtungswaffen gehört auch konsequente Abrüstung im eigenen Land  Die letzten noch in Deutschland stationierten USAtomwaffen müssen sofort abgezogen und vernichtet werden  Es dürfen keine modernisierten Atombomben in Deutschland stationiert werden und keine Mittel für die Modernisierung der Trägerflugzeuge für den Abwurf von Atombomben bereitgestellt werden  DIE LINKE tritt in der nächsten Legislaturperiode mit Nachdruck für eine vertragliche Ächtung von Atomwaffen weltweit ein  Bundeswehr oder die Polizeien des Bundes und der Länder dürfen keine Kampf und Überwachungsdrohnen anschaffen oder sich am Betrieb solcher Systeme bspw im Ausland beteiligen', 'Deutschland muß für eine radikale Abrüstung der NATO eintreten  für Abrüstungsschritte im konventionellen Bereich in Fortführung des KSEVertrags  für den Verzicht auf Atomwaffen  für den sofortigen Abzug aller Atomwaffen vom Gebiet von NichtKernwaffenstaaten  Deutschland soll eine Entnuklearisierung des deutschen Gebietes beschließen und sich für eine Verschrottung aller Atomwaffen einsetzen  für die Einbeziehung der nuklearen Potentiale Großbritanniens und Frankreichs in die STARTVerhandlungen  Eine Vergemeinschaftung von Atomwaffen indem zB die Verfügungsgewalt über französische und britische Atomwaffen mit anderen EUStaaten geteilt wird lehnen wir ab  für die Einrichtung einer atomwaffenfreien Zone in Europa unter Beteiligung Deutschlands  und eine Festschreibung des Verzichts auf atomare Waffen im Grundgesetz']"
        ],
        [
         "22",
         "21",
         "458",
         "21_den klimaschutz_zum klimaschutz_klimaschutz ist_klimaschutz",
         "['den klimaschutz', 'zum klimaschutz', 'klimaschutz ist', 'klimaschutz', 'beim klimaschutz', 'klimaveränderungen', 'klimaschutz und', 'den klimawandel', 'klimaschutzgesetz', 'der klimawandel']",
         "['Deshalb geht Europa beim Klimaschutz und Umweltschutz voran deshalb stehen wir zum weltweiten KlimaAbkommen von Paris', 'Vorreiter beim Klimaschutz', 'Maßnahmen zur Anpassung an den Klimawandel und zum Klimaschutz unterstützen wir nachdrücklich']"
        ],
        [
         "23",
         "22",
         "454",
         "22_cducsu und_cdu und_politik von_politik",
         "['cducsu und', 'cdu und', 'politik von', 'politik', 'wollen cdu', 'sind cdu', 'und fdp', 'wollen die', 'und csu', 'für cdu']",
         "['CDU und CSU wollen eine andere Außenpolitik', 'CDU und CSU werden diese Politik fortsetzen', 'CDU und CSU stehen für die Zukunft Deutschlands']"
        ],
        [
         "24",
         "23",
         "439",
         "23_die vorratsdatenspeicherung_der datenschutz_datenschutz ist_vorratsdatenspeicherung",
         "['die vorratsdatenspeicherung', 'der datenschutz', 'datenschutz ist', 'vorratsdatenspeicherung', 'data', 'des datenschutzes', 'datenschutz und', 'privacy by', 'open data', 'privacy']",
         "['Zuvor sind sie zu informieren welche Daten von ihnen erfasst und wie diese Daten verwendet werden', 'Verbraucher haben ein Recht auf Selbstbestimmung über ihre persönlichen Daten und auf den Schutz ihrer Privatsphäre', 'Der Schutz personenbezogener Daten muß gewährleistet sein']"
        ],
        [
         "25",
         "24",
         "439",
         "24_erneuerbaren energien_erneuerbare energien_erneuerbarer energien_das erneuerbareenergiengesetz",
         "['erneuerbaren energien', 'erneuerbare energien', 'erneuerbarer energien', 'das erneuerbareenergiengesetz', 'erneuerbareenergiengesetz', 'energieeinsparung', 'energieversorgung', 'energiewende', 'die energieversorgung', 'der energieversorgung']",
         "['Wir wollen einen weiteren starken Ausbau der Erneuerbaren Energien', 'Dazu werden wir die Obergrenzen für den Ausbau erneuerbarer Energien abschaffen und das Strommarktdesign sowie das komplizierte Abgabensystem auf Energie zugunsten der erneuerbaren Energien und der Speichernutzung novellieren', 'Wir werden den Ausbau der erneuerbaren Energien konsequent fortsetzen']"
        ],
        [
         "26",
         "25",
         "429",
         "25_freie demokraten_freien demokraten_freie demokratische_demokraten wollen",
         "['freie demokraten', 'freien demokraten', 'freie demokratische', 'demokraten wollen', 'demokraten fordern', 'demokraten sehen', 'demokraten treten', 'demokraten setzen', 'demokraten sind', 'demokraten ist']",
         "['Wir Freie Demokraten wollen die Abschreibungsbedingungen verbessern', 'Wir Freie Demokraten wollen ein Kinderchancengeld', 'Wir Freie Demokraten wollen das Liberale Bürgergeld']"
        ],
        [
         "27",
         "26",
         "418",
         "26_solidarische gesellschaft_inklusive gesellschaft_gesellschaft ein_gesellschaft ist",
         "['solidarische gesellschaft', 'inklusive gesellschaft', 'gesellschaft ein', 'gesellschaft ist', 'gesellschaft wir', 'eine gesellschaft', 'gesellschaft sind', 'unsere gesellschaft', 'unserer gesellschaft', 'gesellschaftlichen zusammenhalt']",
         "['Wir setzen uns für eine inklusive Gesellschaft ein in der alle Menschen am Leben in der Gemeinschaft teilhaben können', 'Wir wollen eine Gesellschaft die geprägt ist von mehr Eigenverantwortung und mehr Solidarität', 'Solidarität ist das Rückgrat unserer Gesellschaft']"
        ],
        [
         "28",
         "27",
         "411",
         "27_behinderten menschen_behinderte menschen_behinderter menschen_für behinderte",
         "['behinderten menschen', 'behinderte menschen', 'behinderter menschen', 'für behinderte', 'behinderten', 'behinderung menschen', 'die behinderten', 'behinderungen sollen', 'der behinderten', 'behindertenpolitik']",
         "['Unser Ziel ist für Menschen mit Behinderungen ein selbstbestimmtes Leben zu ermöglichen', 'Gute Arbeit für alle  auch für Menschen mit Behinderung', 'Diskriminierung von Menschen mit Behinderungen überwinden  Menschen mit Behinderungen sollen ein selbstbestimmtes Leben gestalten können']"
        ],
        [
         "29",
         "28",
         "403",
         "28_digitalisierung unserer_digitalisierung nutzen_der digitalisierung_die digitalisierung",
         "['digitalisierung unserer', 'digitalisierung nutzen', 'der digitalisierung', 'die digitalisierung', 'digitalisierung ist', 'digital werden', 'digitalisierung die', 'digitalisierung der', 'digitalen wirtschaft', 'digitale souveränität']",
         "['Die Digitalisierung verändert die Arbeitswelt grundlegend', 'Die Digitalisierung von Tätigkeiten und die digitale Vermittlung von Arbeit bergen viele neue Chancen', 'Nutzen wir die Chancen der Digitalisierung für uns']"
        ],
        [
         "30",
         "29",
         "384",
         "29_politik ist_diese politik_dieser politik_solche politik",
         "['politik ist', 'diese politik', 'dieser politik', 'solche politik', 'unsere politik', 'politik umzusetzen', 'unserer politik', 'politik zu', 'politik braucht', 'politik wollen']",
         "['Es ist Aufgabe der Politik die Voraussetzungen dafür zu schaffen', 'Politik die rechnen kann', 'Politik die rechnen kann']"
        ],
        [
         "31",
         "30",
         "382",
         "30_freiheit freiheit_freiheit und_freiheit wir_freiheit ist",
         "['freiheit freiheit', 'freiheit und', 'freiheit wir', 'freiheit ist', 'freiheit braucht', 'freiheit zu', 'und freiheitsrechte', 'und freiheit', 'freiheitsrechte sind', 'freiheit die']",
         "['Wir wollen die Freiheit der Vielen', 'Freiheit und Verantwortung', 'Freiheit und Sicherheit']"
        ],
        [
         "32",
         "31",
         "377",
         "31_sport ist_sport treiben_sport für_sports für",
         "['sport ist', 'sport treiben', 'sport für', 'sports für', 'sport die', 'der sport', 'sports', 'sport', 'dem sport', 'sportförderung']",
         "['Sport ist für alle da', 'In den liberalen Leitlinien zur Sportpolitik hat der Bundesvorstand am 24101977 in 15 Thesen die sportpolitischen Vorstellungen der FDP dargelegt die die folgenden Grundsätze der Sportförderung beinhalten   die Unabhängigkeit des Sports muß gewahrt bleiben  der Sport hat einen Anspruch auf finanzielle Förderung durch die öffentlichen Hände soweit Kräfte und Mittel der Sportorganisationen nicht ausreichen  der Sport ist durch die öffentlichen Hände in seiner Eigenschaft als Breiten und Freizeitsport sowie als Leistungssport zu fördern  Sport ist ein wichtiger Faktor der Erziehung der stärker als bisher zu fördern ist  Sport dient mit zur Erhaltung und Wiedererlangung der Körperlichen und psychischen Gesundheit und hat eine wichtige Funktion zur Rehabilitierung und sozialen Integration  Sport trägt bei zur internationalen Verständigung', 'X Sport']"
        ],
        [
         "33",
         "32",
         "369",
         "32_der tierhaltung_die tierhaltung_tierhaltung_tierhaltung und",
         "['der tierhaltung', 'die tierhaltung', 'tierhaltung', 'tierhaltung und', 'lebenden tieren', 'tiere sind', 'tierversuchen', 'von tierversuchen', 'tierversuche', 'der tiere']",
         "['Um den Tierschutz effektiver durchsetzen zu können werden wir ein bundesweites Verbandsklagerecht für Tierschutzorganisationen schaffen und einen Bundesbeauftragten für Tierschutz einsetzen', 'Für CDU und CSU ist der Tierschutz ein wichtiges Anliegen denn Tiere sind unsere Mitgeschöpfe', 'Tiere wirksam schützen Tierschutz als Staatsziel']"
        ],
        [
         "34",
         "33",
         "355",
         "33_grünen neuen_grüne neue_green new_green deal",
         "['grünen neuen', 'grüne neue', 'green new', 'green deal', 'wir grüne', 'der grüne', 'grün ist', 'wer grün', 'die grüne', 'den grünen']",
         "['Leitbild für den Green New Deal ist eine Grüne Marktwirtschaft mit starken sozialen und ökologischen Leitplanken', 'Ein wichtiger erster Schritt zu einem grünen Neuen Gesellschaftsvertrag ist unser Green New Deal', 'Wer Grün wählt stimmt für den grünen Neuen Gesellschaftsvertrag']"
        ],
        [
         "35",
         "34",
         "353",
         "34_verbraucherrechte stärken_konsumentinnen_verbraucher stärken_verbraucherrechte",
         "['verbraucherrechte stärken', 'konsumentinnen', 'verbraucher stärken', 'verbraucherrechte', 'verbraucherrecht', 'verbraucher und', 'verbraucherinnen und', 'und verbrauchern', 'und verbraucher', 'den verbraucherschutz']",
         "['Die Rechte der Verbraucherinnen und Verbraucher stärken', 'Rechte der Verbraucherinnen und Verbraucher stärken', 'Verbraucherinnen und Verbraucher stärken']"
        ],
        [
         "36",
         "35",
         "345",
         "35_bundesregierung wird_spd politik_spd will_spdgeführte bundesregierung",
         "['bundesregierung wird', 'spd politik', 'spd will', 'spdgeführte bundesregierung', 'spd steht', 'spd wird', 'spd ist', 'koalition', 'spd setzt', 'bundesregierung']",
         "['Die SPD hat die Mitbestimmung der Arbeitnehmer verbessert', 'Die SPD steht dafür ein', 'Die SPD ist keine Alternative']"
        ],
        [
         "37",
         "36",
         "342",
         "36_cannabis wollen_illegalen drogen_illegaler drogen_cannabis",
         "['cannabis wollen', 'illegalen drogen', 'illegaler drogen', 'cannabis', 'drogenkriminalität', 'von cannabis', 'drogenpolitik die', 'der drogenpolitik', 'drogenpolitik', 'drogenkonsumentinnen']",
         "['Die Strafverfolgung in der Drogenpolitik ist gescheitert daher setzen wir auf die Regulierung aller Drogen', 'Bei weichen Drogen wie Cannabis wollen wir unter Berücksichtigung des Jugendschutzes eine legale Abgabeform über lizenzierte Fachgeschäfte ermöglichen weitere Erleichterungen für die medizinische Verwendung von Cannabis sowie vernünftige Regelungen und Grenzwerte im Bereich Cannabis und Straßenverkehr durchsetzen', 'In eine verantwortliche Drogenpolitik müssen alle legalen Drogen wie zum Beispiel Alkohol und Tabak sowie die illegalen Drogen und die nichtstoffgebundenen Süchte wie Glücksspiel gleichermaßen einbezogen werden']"
        ],
        [
         "38",
         "37",
         "334",
         "37_banken sollen_die bankenaufsicht_deutsche bundesbank_europäischen zentralbank",
         "['banken sollen', 'die bankenaufsicht', 'deutsche bundesbank', 'europäischen zentralbank', 'bankenregulierung', 'europäische zentralbank', 'bankenaufsicht', 'große banken', 'die bundesbank', 'bundesbank']",
         "['Insbesondere die Verringerung der Bankenkonzentration die Entflechtung der Banken von NichtBankenUnternehmen und die Verstärkung der Bankenaufsicht führt zu einer stärkeren demokratischen Kontrolle der Banken', 'Wir wollen die Macht der Banken und Konzerne brechen', 'Wir wollen eine wirksame europäische Bankenaufsicht bei der Europäischen Zentralbank für die großen systemrelevanten Banken sowie Verfahren für die Abwicklung überschuldeter Banken']"
        ],
        [
         "39",
         "38",
         "328",
         "38_kernenergie ist_kernenergie_die kernenergie_der kernenergie",
         "['kernenergie ist', 'kernenergie', 'die kernenergie', 'der kernenergie', 'von kernenergie', 'atomkraftwerken', 'von atomkraftwerken', 'atomkraftwerke', 'atomenergie', 'der atomenergie']",
         "['Die Option für die friedliche Nutzung der Kernenergie muß offengehalten werden', 'Stichwort Ausstieg aus der Kernenergie 21 Die weitere Nutzung der Kernenergie ist auf Dauer nicht mehr zu verantworten', 'Die Option für die friedliche Nutzung der Kernenergie muß offengehalten werden']"
        ],
        [
         "40",
         "39",
         "280",
         "39_gemeinsame umweltpolitik_umweltpolitik ist_umweltpolitik_umweltpolitik darf",
         "['gemeinsame umweltpolitik', 'umweltpolitik ist', 'umweltpolitik', 'umweltpolitik darf', 'der umweltpolitik', 'eine umweltpolitik', 'umweltvorschriften allgemeine', 'ökologische politik', 'umweltgerechtigkeit', 'umweltqualität führen']",
         "['Die Rechtskoalition will demgegenüber auch auf dem Gebiet der Umweltpolitik die Wende alle Sonntagsreden und auch die Übernahme einzelner Elemente unserer Umweltpolitik können nicht darüber hinwegtäuschen daß für sie Umweltschutz zur Nebensache geworden ist', 'Eine gemeinsame Umweltpolitik darf nicht zu einer Verschlechterung sondern muß zu einer Verbesserung der Umweltqualität führen weshalb die jeweils strengeren Umweltvorschriften allgemeine Norm werden müssen', 'Eine gemeinsame Umweltpolitik darf nicht zu einer Verschlechterung sondern muß zu einer Verbesserung der Umweltqualität führen weshalb die jeweils strengeren Umweltvorschriften allgemeine Norm werden müssen']"
        ],
        [
         "41",
         "40",
         "278",
         "40_lebenswerte städte_unsere städte_städten und_städte und",
         "['lebenswerte städte', 'unsere städte', 'städten und', 'städte und', 'unserer städte', 'städte für', 'die städte', 'und städte', 'städten', 'städte']",
         "['Lebenswerte Städte', 'Wir stehen für lebenswerte Städte und Dörfer für alle', 'Lebenswerte Städte und Dörfer']"
        ],
        [
         "42",
         "41",
         "272",
         "41_rechtsextremismus antisemitismus_rechtsextremismus rassismus_rassismus antisemitismus_antisemitismus antiziganismus",
         "['rechtsextremismus antisemitismus', 'rechtsextremismus rassismus', 'rassismus antisemitismus', 'antisemitismus antiziganismus', 'antisemitismus rassismus', 'gegen rechtsextremismus', 'antisemitismus islamfeindlichkeit', 'rechtsextremismus', 'gegen rassismus', 'antisemitismus und']",
         "['Jeder Form von Rechtsextremismus Rassismus und Antisemitismus stellen wir uns entgegen', 'DIE LINKE fordert  rechtsextreme Gewalt ächten staatlich verfolgen und konsequent ahnden bürgerschaftliches Engagement gegen rechtsextreme Gewalt anerkennen und fördern die Aktivitäten gegen Rechtsextremismus Rassismus und Antisemitismus der Bundesministerien und von Bund und Ländern durch eine Beauftragte des Deutschen Bundestages für Demokratie und Toleranz koordinieren  eine unabhängige Beobachtungsstelle Rechtsextremismus Rassismus und Antisemitismus einrichten die Beobachtung von NPD und Nazistrukturen nicht nur dem Verfassungsschutz überlassen mobile Beratungsteams ExitAngebote und andere öffentliche Projekte und Initiativen gegen Rechtsextremismus Rassismus und Antisemitismus stärken und finanziell absichern entsprechende Bildungsarbeit in Schule Ausbildung und Politik fördern  die NPD verbieten und die gesellschaftliche Auseinandersetzung mit dem Rechtsextremismus offensiv führen den Einsatz von VLeuten der Verfassungsschutzämter innerhalb der NPD beenden', 'Gegen Rassismus']"
        ],
        [
         "43",
         "42",
         "255",
         "42_sozialen marktwirtschaft_soziale marktwirtschaft_marktwirtschaft wir_marktwirtschaft ist",
         "['sozialen marktwirtschaft', 'soziale marktwirtschaft', 'marktwirtschaft wir', 'marktwirtschaft ist', 'marktwirtschaft steht', 'der marktwirtschaft', 'marktwirtschaft statt', 'marktwirtschaft', 'marktwirtschaft die', 'marktwirtschaft erneuern']",
         "['Erneuerung der Sozialen Marktwirtschaft', 'Die Soziale Marktwirtschaft ist unser Weg', 'Für Soziale Marktwirtschaft']"
        ],
        [
         "44",
         "43",
         "251",
         "43_religionsgemeinschaften und_und religionsgemeinschaften_religionsgemeinschaften_kirchen religions",
         "['religionsgemeinschaften und', 'und religionsgemeinschaften', 'religionsgemeinschaften', 'kirchen religions', 'christlichen kirchen', 'kirchen und', 'kirchlichen', 'kirchliche', 'kirche und', 'religions und']",
         "['IX Kirchen und Religionsgemeinschaften', 'Christliche Kirchen und Religionsgemeinschaften', 'Kirchen und Religionsgemeinschaften']"
        ],
        [
         "45",
         "44",
         "249",
         "44_wir weitergehen_weitergehen diesen_wir weiter_gehen wir",
         "['wir weitergehen', 'weitergehen diesen', 'wir weiter', 'gehen wir', 'konsequent weitergehen', 'weiter wir', 'wir konsequent', 'diesen weg', 'gehen diesen', 'weiter gehen']",
         "['Diesen Weg werden wir weiter gehen', 'Diesen Weg wollen wir fortsetzen', 'Diesen Weg wollen wir weitergehen']"
        ],
        [
         "46",
         "45",
         "239",
         "45_unserer vertragspolitik_vertragspolitik mit_vertragspolitik_folgen zu",
         "['unserer vertragspolitik', 'vertragspolitik mit', 'vertragspolitik', 'folgen zu', 'bleibt das', 'bundesrepublik deutschland', 'bundesrepublik und', 'die bundesrepublik', 'ihre folgen', 'folgen']",
         "['Ihre Folgen zu lindern ist und bleibt das Ziel unserer Vertragspolitik mit der DDR', 'Ihre Folgen zu lindern ist und bleibt das Ziel unserer Vertragspolitik mit der DDR', 'Jetzt wird verhandelt   Der innerdeutsche Handel wurde im Interesse beider Seiten erleichtert und ausgebaut  Der Post und Fernmeldeverkehr mit der DDR wurde verbessert  Der Verkehrsvertrag zwischen der Bundesrepublik Deutschland und der DDR schafft erstmals eine Rechtsgrundlage für den Verkehr zwischen den beiden Staaten in Deutschland  Zum Verkehrsvertrag gehören verbindliche Zusagen der DDR für Reiseerleichterungen  Bundesbürger können in Zukunft auf Antrag von Verwandten oder Bekannten mehrmals im Jahr in die DDR reisen  ohne Altersbegrenzung werden Bewohner der DDR in dringenden Familienangelegenheiten Reiseerlaubnis in die Bundesrepublik erhalten']"
        ],
        [
         "47",
         "46",
         "219",
         "46_lieber wähler_wählerin lieber_16 jahre_wähler",
         "['lieber wähler', 'wählerin lieber', '16 jahre', 'wähler', 'wählerin', 'unser wahlprogramm', 'dem wähler', 'bundestagswahl geht', 'die wählerinnen', 'wählerinnen']",
         "['Deshalb wollen wir das Wahlalter bei allen Wahlen auf 16 Jahre senken', 'Wir wollen das Wahlalter auf 16 Jahre senken', 'Wir wollen das Wahlalter auf 16 Jahre senken']"
        ],
        [
         "48",
         "47",
         "212",
         "47_bündnis 90die_bündnis 90_90die grünen_90die",
         "['bündnis 90die', 'bündnis 90', '90die grünen', '90die', '90 die', '90', 'demokratie bündnis', 'grünen wollen', 'grünen sind', 'grünen fordern']",
         "['BÜNDNIS 90DIE GRÜNEN sind die Europapartei', 'BÜNDNIS 90DIE GRÜNEN stehen für Integration', 'BÜNDNIS 90DIE GRÜNEN']"
        ],
        [
         "49",
         "48",
         "204",
         "48_grundwasserschutz_gewässerschutz_des hochwasserschutzes_hochwasserschutzes",
         "['grundwasserschutz', 'gewässerschutz', 'des hochwasserschutzes', 'hochwasserschutzes', 'hochwasserschutz', 'das grundwasser', 'grundwassers', 'des grundwassers', 'grundwasser', 'unsere gewässer']",
         "['Dazu gehören die Erhaltung bzw Wiederherstellung naturnaher Strukturen die Reduzierung des Schadstoffeintrags durch Düngemittel und Pestizide in Flüsse und Meere und die Sicherung von Auenflächen', 'Als durchgreifende internationale und nationale Maßnahmen werden gefordert   die Sanierung aller Binnengewässer   ein verbesserter Grundwasserschutz mit dem Ziel die Belastung durch Nitrate Schwermetalle und Pflanzenschutzmittel zurückzudrängen   die Verminderung des Eintrags aller Schadstoffe in die Gewässer   eine Beendigung der Verklappung von schädlichen Abfällen  auf See   ein Aktionsprogramm gegen die Verschmutzung der Nord  und Ostsee und Maßnahmen zur Vorbeugung von Ölunfällen   eine Nordseekonferenz aller Anliegerstaaten mit dem Ziel vor allem die Belastung der Verschmutzung vom Lande aus zu reduzieren', 'Dazu gehören die Erhaltung bzw Wiederherstellung naturnaher Strukturen die Reduzierung des Schadstoffeintrags durch Düngemittel und Pestizide in Flüsse und Meere und die Sicherung von Auenflächen']"
        ]
       ],
       "shape": {
        "columns": 5,
        "rows": 189
       }
      },
      "text/html": [
       "<div>\n",
       "<style scoped>\n",
       "    .dataframe tbody tr th:only-of-type {\n",
       "        vertical-align: middle;\n",
       "    }\n",
       "\n",
       "    .dataframe tbody tr th {\n",
       "        vertical-align: top;\n",
       "    }\n",
       "\n",
       "    .dataframe thead th {\n",
       "        text-align: right;\n",
       "    }\n",
       "</style>\n",
       "<table border=\"1\" class=\"dataframe\">\n",
       "  <thead>\n",
       "    <tr style=\"text-align: right;\">\n",
       "      <th></th>\n",
       "      <th>Topic</th>\n",
       "      <th>Count</th>\n",
       "      <th>Name</th>\n",
       "      <th>Representation</th>\n",
       "      <th>Representative_Docs</th>\n",
       "    </tr>\n",
       "  </thead>\n",
       "  <tbody>\n",
       "    <tr>\n",
       "      <th>0</th>\n",
       "      <td>-1</td>\n",
       "      <td>48000</td>\n",
       "      <td>-1_wollen wir_wir wollen_wir werden_werden wir</td>\n",
       "      <td>[wollen wir, wir wollen, wir werden, werden wi...</td>\n",
       "      <td>[Wir werden uns an keiner Regierung beteiligen...</td>\n",
       "    </tr>\n",
       "    <tr>\n",
       "      <th>1</th>\n",
       "      <td>0</td>\n",
       "      <td>4872</td>\n",
       "      <td>0_werden wir_familie und_familien_für kinder</td>\n",
       "      <td>[werden wir, familie und, familien, für kinder...</td>\n",
       "      <td>[Mit Blick auf die politisch gewünschten Ziele...</td>\n",
       "    </tr>\n",
       "    <tr>\n",
       "      <th>2</th>\n",
       "      <td>1</td>\n",
       "      <td>1911</td>\n",
       "      <td>1_steuerreform_einkommensteuer_besteuert werde...</td>\n",
       "      <td>[steuerreform, einkommensteuer, besteuert werd...</td>\n",
       "      <td>[BÜNDNIS 90DIE GRÜNEN wollen den radikalen Abb...</td>\n",
       "    </tr>\n",
       "    <tr>\n",
       "      <th>3</th>\n",
       "      <td>2</td>\n",
       "      <td>1887</td>\n",
       "      <td>2_der patientinnen_krankenhäusern_medizinische...</td>\n",
       "      <td>[der patientinnen, krankenhäusern, medizinisch...</td>\n",
       "      <td>[Unser Ziel ist die Rechte der Patientinnen un...</td>\n",
       "    </tr>\n",
       "    <tr>\n",
       "      <th>4</th>\n",
       "      <td>3</td>\n",
       "      <td>1727</td>\n",
       "      <td>3_deutschland ist_deutsche staatsangehörigkeit...</td>\n",
       "      <td>[deutschland ist, deutsche staatsangehörigkeit...</td>\n",
       "      <td>[Deutschland ist ein Einwanderungsland, Deutsc...</td>\n",
       "    </tr>\n",
       "    <tr>\n",
       "      <th>...</th>\n",
       "      <td>...</td>\n",
       "      <td>...</td>\n",
       "      <td>...</td>\n",
       "      <td>...</td>\n",
       "      <td>...</td>\n",
       "    </tr>\n",
       "    <tr>\n",
       "      <th>184</th>\n",
       "      <td>183</td>\n",
       "      <td>21</td>\n",
       "      <td>183_sanktionen abschaffen_sanktionen und_sankt...</td>\n",
       "      <td>[sanktionen abschaffen, sanktionen und, sankti...</td>\n",
       "      <td>[Sperrzeiten und Sanktionen werden ausnahmslos...</td>\n",
       "    </tr>\n",
       "    <tr>\n",
       "      <th>185</th>\n",
       "      <td>184</td>\n",
       "      <td>21</td>\n",
       "      <td>184_gute erwerbsarbeit_erwerbstätigkeit gute_g...</td>\n",
       "      <td>[gute erwerbsarbeit, erwerbstätigkeit gute, gu...</td>\n",
       "      <td>[Gute Arbeit bedeutet dass wir von unserer Erw...</td>\n",
       "    </tr>\n",
       "    <tr>\n",
       "      <th>186</th>\n",
       "      <td>185</td>\n",
       "      <td>21</td>\n",
       "      <td>185_flughäfen verbessern_überflüssige regional...</td>\n",
       "      <td>[flughäfen verbessern, überflüssige regionalfl...</td>\n",
       "      <td>[Die Rechte von Flugpassagieren haben wir verb...</td>\n",
       "    </tr>\n",
       "    <tr>\n",
       "      <th>187</th>\n",
       "      <td>186</td>\n",
       "      <td>21</td>\n",
       "      <td>186_2030 wollen_2020 wollen_erneuerbare energi...</td>\n",
       "      <td>[2030 wollen, 2020 wollen, erneuerbare energie...</td>\n",
       "      <td>[Bis zum Jahr 2020 wollen wir den Anteil der E...</td>\n",
       "    </tr>\n",
       "    <tr>\n",
       "      <th>188</th>\n",
       "      <td>187</td>\n",
       "      <td>20</td>\n",
       "      <td>187_zivilen friedensdienst_zivilen friedensdie...</td>\n",
       "      <td>[zivilen friedensdienst, zivilen friedensdiens...</td>\n",
       "      <td>[Die Mittel für zivile Konfliktlösungen darunt...</td>\n",
       "    </tr>\n",
       "  </tbody>\n",
       "</table>\n",
       "<p>189 rows × 5 columns</p>\n",
       "</div>"
      ],
      "text/plain": [
       "     Topic  Count                                               Name  \\\n",
       "0       -1  48000     -1_wollen wir_wir wollen_wir werden_werden wir   \n",
       "1        0   4872       0_werden wir_familie und_familien_für kinder   \n",
       "2        1   1911  1_steuerreform_einkommensteuer_besteuert werde...   \n",
       "3        2   1887  2_der patientinnen_krankenhäusern_medizinische...   \n",
       "4        3   1727  3_deutschland ist_deutsche staatsangehörigkeit...   \n",
       "..     ...    ...                                                ...   \n",
       "184    183     21  183_sanktionen abschaffen_sanktionen und_sankt...   \n",
       "185    184     21  184_gute erwerbsarbeit_erwerbstätigkeit gute_g...   \n",
       "186    185     21  185_flughäfen verbessern_überflüssige regional...   \n",
       "187    186     21  186_2030 wollen_2020 wollen_erneuerbare energi...   \n",
       "188    187     20  187_zivilen friedensdienst_zivilen friedensdie...   \n",
       "\n",
       "                                        Representation  \\\n",
       "0    [wollen wir, wir wollen, wir werden, werden wi...   \n",
       "1    [werden wir, familie und, familien, für kinder...   \n",
       "2    [steuerreform, einkommensteuer, besteuert werd...   \n",
       "3    [der patientinnen, krankenhäusern, medizinisch...   \n",
       "4    [deutschland ist, deutsche staatsangehörigkeit...   \n",
       "..                                                 ...   \n",
       "184  [sanktionen abschaffen, sanktionen und, sankti...   \n",
       "185  [gute erwerbsarbeit, erwerbstätigkeit gute, gu...   \n",
       "186  [flughäfen verbessern, überflüssige regionalfl...   \n",
       "187  [2030 wollen, 2020 wollen, erneuerbare energie...   \n",
       "188  [zivilen friedensdienst, zivilen friedensdiens...   \n",
       "\n",
       "                                   Representative_Docs  \n",
       "0    [Wir werden uns an keiner Regierung beteiligen...  \n",
       "1    [Mit Blick auf die politisch gewünschten Ziele...  \n",
       "2    [BÜNDNIS 90DIE GRÜNEN wollen den radikalen Abb...  \n",
       "3    [Unser Ziel ist die Rechte der Patientinnen un...  \n",
       "4    [Deutschland ist ein Einwanderungsland, Deutsc...  \n",
       "..                                                 ...  \n",
       "184  [Sperrzeiten und Sanktionen werden ausnahmslos...  \n",
       "185  [Gute Arbeit bedeutet dass wir von unserer Erw...  \n",
       "186  [Die Rechte von Flugpassagieren haben wir verb...  \n",
       "187  [Bis zum Jahr 2020 wollen wir den Anteil der E...  \n",
       "188  [Die Mittel für zivile Konfliktlösungen darunt...  \n",
       "\n",
       "[189 rows x 5 columns]"
      ]
     },
     "execution_count": 16,
     "metadata": {},
     "output_type": "execute_result"
    }
   ],
   "source": [
    "topic_model.get_topic_info()"
   ]
  },
  {
   "cell_type": "code",
   "execution_count": null,
   "metadata": {},
   "outputs": [],
   "source": [
    "df_manifesto[\"topic\"] = topics\n",
    "topic_list =[57, 62, 65, 145, 169, ]"
   ]
  },
  {
   "cell_type": "code",
   "execution_count": 22,
   "metadata": {},
   "outputs": [],
   "source": [
    "df_manifesto.rename(columns={\"label\": \"category\"}, inplace=True)"
   ]
  },
  {
   "cell_type": "code",
   "execution_count": 63,
   "metadata": {},
   "outputs": [],
   "source": [
    "# Filter only relevant codes\n",
    "df_spendings = df_manifesto[df_manifesto[\"cmp_code\"].isin([\n",
    "    303,\n",
    "    401,\n",
    "    411, \n",
    "    409, \n",
    "    414,\n",
    "    103.2,\n",
    "    # 402,\n",
    "    504,\n",
    "    505,\n",
    "    506,\n",
    "    507,\n",
    "]) | df_manifesto[\"topic\"].isin(topic_list)]\n",
    "\n",
    "# Map policy codes to labels\n",
    "label_map = {\n",
    "    411: 0, \n",
    "    409: 0,\n",
    "    401: 1,\n",
    "    303: 1,\n",
    "    414: 1,\n",
    "    103.2: 0,\n",
    "    504: 0,\n",
    "    505: 1,\n",
    "    506: 0,\n",
    "    507: 1\n",
    "    }  # 0 = expansion, 1 = austerity\n",
    "    \n",
    "df_spendings[\"label\"] = df_spendings[\"cmp_code\"].map(label_map)\n",
    "# df_spendings[\"label\"] = df_spendings[\"cmp_code\"].map(label_map)"
   ]
  },
  {
   "cell_type": "code",
   "execution_count": 64,
   "metadata": {},
   "outputs": [],
   "source": [
    "df_no_label = df_spendings[df_spendings.isna().any(axis=1)]\n",
    "df_no_label = df_no_label[[col for col in df_no_label.columns if col != 'label']]\n",
    "df_no_label.insert(2, 'label', df_spendings['label'])\n",
    "df_no_label.drop(columns=['description_md'], inplace=True)\n",
    "df_no_label[\"label\"] = coding_list[\"label\"]"
   ]
  },
  {
   "cell_type": "code",
   "execution_count": 68,
   "metadata": {},
   "outputs": [],
   "source": [
    "df_spendings[\"label\"].update(df_no_label[\"label\"])\n",
    "\n",
    "df_spendings.dropna(subset=[\"label\"], inplace=True)\n",
    "df_spendings[\"label\"] = df_spendings[\"label\"].astype(int)"
   ]
  },
  {
   "cell_type": "code",
   "execution_count": 69,
   "metadata": {},
   "outputs": [],
   "source": [
    "\n",
    "\n",
    "df_manifesto.to_pickle('data/df_manifesto_final.pkl')\n",
    "df_spendings.to_pickle('data/df_spendings_final.pkl')\n",
    "# df_no_label.to_csv('data/Unlabeled.csv', sep=';', index=True, encoding='utf-8-sig')"
   ]
  },
  {
   "cell_type": "code",
   "execution_count": 37,
   "metadata": {},
   "outputs": [
    {
     "data": {
      "text/plain": [
       "1485"
      ]
     },
     "execution_count": 37,
     "metadata": {},
     "output_type": "execute_result"
    }
   ],
   "source": [
    "len(df_no_label)"
   ]
  },
  {
   "cell_type": "code",
   "execution_count": null,
   "metadata": {},
   "outputs": [],
   "source": [
    "topic_model.get_topic(83)"
   ]
  },
  {
   "cell_type": "code",
   "execution_count": 86,
   "metadata": {},
   "outputs": [
    {
     "name": "stdout",
     "output_type": "stream",
     "text": [
      "([83, 131, 156, 128, 102, 160, 152, 94, 142, 96], [0.18113098, 0.13463318, 0.10732683, 0.08718705, 0.086810865, 0.076846965, 0.07013552, 0.059989497, 0.03488005, 0.031079182])\n"
     ]
    }
   ],
   "source": [
    "topic_model.get_topic(80)\n",
    "related_terms = topic_model.find_topics(\"related\", top_n=10)\n",
    "print(related_terms)"
   ]
  },
  {
   "cell_type": "code",
   "execution_count": null,
   "metadata": {},
   "outputs": [],
   "source": [
    "len(topic_model.get_topic(25))"
   ]
  },
  {
   "cell_type": "code",
   "execution_count": null,
   "metadata": {},
   "outputs": [],
   "source": [
    "\n",
    "# Erstelle das `topics_over_time`-Objekt\n",
    "topics_over_time = topic_model.topics_over_time(df_manifesto[\"text\"], df_manifesto[\"date\"])\n",
    "#topic_model = BERTopic(representation_model=KeyBERTInspired())\n"
   ]
  },
  {
   "cell_type": "code",
   "execution_count": null,
   "metadata": {},
   "outputs": [],
   "source": [
    "# Save topics_over_time to a file\n",
    "with open(\"topics_over_time.pkl\", \"wb\") as f:\n",
    "    pickle.dump(topics_over_time, f)"
   ]
  },
  {
   "cell_type": "code",
   "execution_count": 14,
   "metadata": {},
   "outputs": [],
   "source": [
    "\n",
    "# Method 1 - safetensors\n",
    "topic_model.save(file_path, serialization=\"safetensors\", save_ctfidf=True, save_embedding_model=embedding_model_manifestoberta)\n",
    "\n",
    "# Method 2 - pytorch\n",
    "#topic_model.save(file_path, serialization=\"pytorch\", save_ctfidf=True, save_embedding_model=embedding_model)\n",
    "\n",
    "# Method 3 - pickle\n",
    "#topic_model.save(\"bertopic_model.pkl\")\n",
    "\n"
   ]
  },
  {
   "cell_type": "code",
   "execution_count": null,
   "metadata": {},
   "outputs": [],
   "source": [
    "predicted_class = model.config.id2label[logits.argmax().item()]\n",
    "print(predicted_class)\n",
    "# 201 - Freedom and Human Rights\n"
   ]
  },
  {
   "cell_type": "code",
   "execution_count": 14,
   "metadata": {},
   "outputs": [
    {
     "name": "stdout",
     "output_type": "stream",
     "text": [
      "414 - Economic Orthodoxy\n"
     ]
    }
   ],
   "source": [
    "predicted_class = model.config.id2label[logits.argmax().item()]\n",
    "print(predicted_class)\n",
    "# 501 - Environmental Protection: Positive"
   ]
  },
  {
   "cell_type": "code",
   "execution_count": 15,
   "metadata": {},
   "outputs": [],
   "source": [
    "# Save the topics to a pickle file\n",
    "with open('topics.pkl', 'wb') as f:\n",
    "\tpickle.dump(topics, f)\n",
    "\n",
    "# Save the probabilities to a pickle file\n",
    "with open('probs.pkl', 'wb') as f:\n",
    "\tpickle.dump(probs, f)"
   ]
  }
 ],
 "metadata": {
  "kernelspec": {
   "display_name": "Python 3",
   "language": "python",
   "name": "python3"
  },
  "language_info": {
   "codemirror_mode": {
    "name": "ipython",
    "version": 3
   },
   "file_extension": ".py",
   "mimetype": "text/x-python",
   "name": "python",
   "nbconvert_exporter": "python",
   "pygments_lexer": "ipython3",
   "version": "3.10.2"
  }
 },
 "nbformat": 4,
 "nbformat_minor": 2
}
