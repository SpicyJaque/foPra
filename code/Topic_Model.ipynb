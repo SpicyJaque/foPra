{
 "cells": [
  {
   "cell_type": "markdown",
   "metadata": {},
   "source": [
    "Import Stuff"
   ]
  },
  {
   "cell_type": "code",
   "execution_count": null,
   "metadata": {},
   "outputs": [],
   "source": [
    "\n",
    "\n",
    "from bertopic import BERTopic\n",
    "from bertopic.representation import KeyBERTInspired\n",
    "from hdbscan import HDBSCAN\n",
    "from umap import UMAP\n",
    "\n",
    "from sklearn.cluster import KMeans\n",
    "from sklearn.model_selection import train_test_split\n",
    "\n",
    "from nltk.corpus import stopwords\n",
    "\n",
    "from textblob import TextBlob\n",
    "from textblob_de import TextBlobDE\n",
    "\n",
    "import pickle\n",
    "import importlib\n",
    "import functions\n",
    "\n",
    "\n",
    "\n",
    "import matplotlib.pyplot as plt\n",
    "\n",
    "\n",
    "\n",
    "\n"
   ]
  },
  {
   "cell_type": "code",
   "execution_count": null,
   "metadata": {},
   "outputs": [],
   "source": [
    "from functions import *\n",
    "importlib.reload(functions)\n",
    "\n",
    "file_path = \"C:/Users/Jacob/OneDrive/uni/MA WiSoz/Semester III/Computational Social Sciences/foPra/data/\"\n",
    "\n",
    "# Load the DataFrame from a pickle file\n",
    "df_manifesto = pd.read_pickle('data\\df_manifesto.pkl') \n",
    "coding_list = pd.read_pickle('data/coding_list.pkl')\n",
    "topics = pd.read_pickle('topics.pkl') \n"
   ]
  },
  {
   "cell_type": "code",
   "execution_count": null,
   "metadata": {},
   "outputs": [],
   "source": [
    "lemmatizer = WordNetLemmatizer()"
   ]
  },
  {
   "cell_type": "markdown",
   "metadata": {},
   "source": [
    "defining different models\n",
    "    "
   ]
  },
  {
   "cell_type": "code",
   "execution_count": null,
   "metadata": {},
   "outputs": [],
   "source": [
    "embedding_model_en = \"all-MiniLM-L6-v2\"\n",
    "embedding_model_multilingual1 = \"paraphrase-multilingual-mpnet-base-v2\"\n",
    "embedding_model_multilingual2 = \"distiluse-base-multilingual-cased-v1\"\n",
    "embedding_model_manifestoberta = \"manifesto-project/manifestoberta-xlm-roberta-56policy-topics-sentence-2024-1-1\""
   ]
  },
  {
   "cell_type": "code",
   "execution_count": null,
   "metadata": {},
   "outputs": [],
   "source": [
    "representation_model = KeyBERTInspired()\n",
    "cluster_model = KMeans(n_clusters=30)"
   ]
  },
  {
   "cell_type": "code",
   "execution_count": null,
   "metadata": {},
   "outputs": [],
   "source": [
    "umap_model = UMAP(\n",
    "    n_neighbors=30, \n",
    "    n_components=5, \n",
    "    min_dist=0.1, \n",
    "    metric='cosine', \n",
    "    random_state=77\n",
    "    )"
   ]
  },
  {
   "cell_type": "code",
   "execution_count": null,
   "metadata": {},
   "outputs": [],
   "source": [
    "hdbscan_model = HDBSCAN(\n",
    "    min_cluster_size=30, \n",
    "    # min_samples=10,\n",
    "    metric='cosine', \n",
    "    prediction_data=True\n",
    "    )\n",
    "\n"
   ]
  },
  {
   "cell_type": "code",
   "execution_count": null,
   "metadata": {},
   "outputs": [],
   "source": [
    "seed_topic_list = [\n",
    "    [\"steuern senken\",\n",
    "    \"ausgaben erhöhen\",\n",
    "    \"steuersenkung\",\n",
    "    \"schuldenbremse reformieren\",\n",
    "    \"schuldenbremse lockern\",\n",
    "    \"schuldenbremse aussetzen\",\n",
    "    \"schuldenbremse abschaffen\",\n",
    "    \"investition in die zukunft\" \n",
    "    ],\n",
    "    [\"ausgaben kürzen\",\n",
    "    \"schuldenkrise\", \n",
    "    \"schuldenlast\",\n",
    "    \"sparen\",\n",
    "    \"haushaltssanierung\",\n",
    "    \"haushaltssicherung\",\n",
    "    \"haushaltskonsolidierung\",\n",
    "    \"schuldenbremse beibehalten\"]]"
   ]
  },
  {
   "cell_type": "markdown",
   "metadata": {},
   "source": [
    "Initialisiere und trainiere das BERTopic-Modell\n"
   ]
  },
  {
   "cell_type": "code",
   "execution_count": null,
   "metadata": {},
   "outputs": [],
   "source": [
    "# Load the topics from a pickle file\n",
    "topics = pd.read_pickle('topics.pkl')\n",
    "\n",
    "# Load the probabilities from a pickle file\n",
    "probs = pd.read_pickle('probs.pkl')\n",
    "\n",
    "#df_manifesto[\"topic\"] = topics\n"
   ]
  },
  {
   "cell_type": "code",
   "execution_count": null,
   "metadata": {},
   "outputs": [
    {
     "name": "stderr",
     "output_type": "stream",
     "text": [
      "No sentence-transformers model found with name manifesto-project/manifestoberta-xlm-roberta-56policy-topics-sentence-2024-1-1. Creating a new one with mean pooling.\n",
      "Some weights of XLMRobertaModel were not initialized from the model checkpoint at manifesto-project/manifestoberta-xlm-roberta-56policy-topics-sentence-2024-1-1 and are newly initialized: ['roberta.pooler.dense.bias', 'roberta.pooler.dense.weight']\n",
      "You should probably TRAIN this model on a down-stream task to be able to use it for predictions and inference.\n",
      "2025-03-28 20:46:08,754 - BERTopic - WARNING: You are loading a BERTopic model without explicitly defining an embedding model. If you want to also load in an embedding model, make sure to use `BERTopic.load(my_model, embedding_model=my_embedding_model)`.\n"
     ]
    }
   ],
   "source": [
    "topic_model = BERTopic.load(file_path)"
   ]
  },
  {
   "cell_type": "code",
   "execution_count": null,
   "metadata": {},
   "outputs": [],
   "source": [
    "\n",
    "# Ensure the 'text' column contains only strings and handle NaN values\n",
    "df_manifesto[\"text\"] = df_manifesto[\"text\"].astype(str).fillna(\"\")\n",
    "\n",
    "topic_model = BERTopic(\n",
    "    language=\"multilingual\"\n",
    "    , n_gram_range=(1,3)\n",
    "    , min_topic_size=20\n",
    "    # , top_n_words=20\n",
    "    , representation_model=representation_model\n",
    "    , embedding_model=embedding_model_multilingual2\n",
    "    , umap_model=umap_model\n",
    "    , hdbscan_model=hdbscan_model\n",
    "    # , seed_topic_list=seed_topic_list\n",
    "    )\n",
    "\n",
    "#topic_model = BERTopic(nr_topics=100, calculate_probabilities=True, embedding_model=\"all_MiniLM-L6-v2\")\n",
    "topics, probs = topic_model.fit_transform(df_manifesto[\"text\"])\n",
    "\n"
   ]
  },
  {
   "cell_type": "code",
   "execution_count": null,
   "metadata": {},
   "outputs": [],
   "source": [
    "# Define new topic labels\n",
    "new_labels = {\n",
    "    9: \"Steuern\",\n",
    "    34: \"Schulden\",\n",
    "    69: \"Geldsummen\",\n",
    "    101: \"Investitionen\"\n",
    "}\n",
    "\n",
    "# Set the new topic labels\n",
    "topic_model.set_topic_labels(new_labels)"
   ]
  },
  {
   "cell_type": "code",
   "execution_count": null,
   "metadata": {},
   "outputs": [
    {
     "data": {
      "application/vnd.microsoft.datawrangler.viewer.v0+json": {
       "columns": [
        {
         "name": "index",
         "rawType": "int64",
         "type": "integer"
        },
        {
         "name": "Topic",
         "rawType": "int64",
         "type": "integer"
        },
        {
         "name": "Count",
         "rawType": "int64",
         "type": "integer"
        },
        {
         "name": "Name",
         "rawType": "object",
         "type": "string"
        },
        {
         "name": "CustomName",
         "rawType": "object",
         "type": "string"
        },
        {
         "name": "Representation",
         "rawType": "object",
         "type": "unknown"
        },
        {
         "name": "Representative_Docs",
         "rawType": "float64",
         "type": "float"
        }
       ],
       "conversionMethod": "pd.DataFrame",
       "ref": "6c42ca6e-2aa4-4d64-8746-9cdb8ba78f0c",
       "rows": [
        [
         "0",
         "-1",
         "69009",
         "-1_wollen wir_wir wollen_wir_wir werden",
         "-1_wollen wir_wir wollen_wir_wir werden",
         "['wollen wir', 'wir wollen', 'wir', 'wir werden', 'gesellschaft', 'werden wir', 'unserer', 'uns', 'soziale', 'nicht']",
         null
        ],
        [
         "1",
         "0",
         "8386",
         "0_kindergeld_familien_familie_für alle",
         "0_kindergeld_familien_familie_für alle",
         "['kindergeld', 'familien', 'familie', 'für alle', 'kinderbetreuung', 'schulen', 'hochschulen', 'bildungssystem', 'bildung', 'kindern']",
         null
        ],
        [
         "2",
         "1",
         "4059",
         "1_österreich ist_österreich in_in österreich_österreich zu",
         "1_österreich ist_österreich in_in österreich_österreich zu",
         "['österreich ist', 'österreich in', 'in österreich', 'österreich zu', 'menschen in österreich', 'österreich', 'österreich die', 'österreichs', 'österreichischen', 'das österreichische']",
         null
        ],
        [
         "3",
         "2",
         "2691",
         "2_krankenhäusern_krankenhäuser_patientinnen und patienten_krankenkassen",
         "2_krankenhäusern_krankenhäuser_patientinnen und patienten_krankenkassen",
         "['krankenhäusern', 'krankenhäuser', 'patientinnen und patienten', 'krankenkassen', 'patientinnen und', 'krankenversicherung', 'medizinischen', 'krankenhaus', 'patientinnen', 'medizinische']",
         null
        ],
        [
         "4",
         "3",
         "2160",
         "3_geschlechtergerechtigkeit_die gleichberechtigung_geschlechter_gleichberechtigung",
         "3_geschlechtergerechtigkeit_die gleichberechtigung_geschlechter_gleichberechtigung",
         "['geschlechtergerechtigkeit', 'die gleichberechtigung', 'geschlechter', 'gleichberechtigung', 'die gleichstellung', 'männern', 'gleichstellung', 'männern und', 'männer und', 'gleichstellung von']",
         null
        ],
        [
         "5",
         "4",
         "1901",
         "4_bundesverkehrswegeplan_bundesbahn_verkehrswege_verkehrsinfrastruktur",
         "4_bundesverkehrswegeplan_bundesbahn_verkehrswege_verkehrsinfrastruktur",
         "['bundesverkehrswegeplan', 'bundesbahn', 'verkehrswege', 'verkehrsinfrastruktur', 'autobahnen', 'schienenverkehr', 'straßenverkehr', 'verkehrsmittel', 'verkehrsmitteln', 'nahverkehr']",
         null
        ],
        [
         "6",
         "5",
         "1616",
         "5_deshalb fordert die_fordert die fdp_fdp fordert die_die fdp fordert",
         "5_deshalb fordert die_fordert die fdp_fdp fordert die_die fdp fordert",
         "['deshalb fordert die', 'fordert die fdp', 'fdp fordert die', 'die fdp fordert', 'deshalb fordert', 'fdp fordert', 'fdp fordert eine', 'fdp tritt für', 'die fdp will', 'lehnt die fdp']",
         null
        ],
        [
         "7",
         "6",
         "1609",
         "6_kindern und jugendlichen_kinder und jugendlichen_kinder und jugendliche_kinder und jugendhilfe",
         "6_kindern und jugendlichen_kinder und jugendlichen_kinder und jugendliche_kinder und jugendhilfe",
         "['kindern und jugendlichen', 'kinder und jugendlichen', 'kinder und jugendliche', 'kinder und jugendhilfe', 'für jugendliche', 'und jugendlichen', 'und jugendliche', 'die jugendlichen', 'jugendlichen die', 'jugendpolitik']",
         null
        ],
        [
         "8",
         "7",
         "1608",
         "7_eigentumswohnungen_mietwohnungen_mieterinnen und mieter_sozialwohnungen",
         "7_eigentumswohnungen_mietwohnungen_mieterinnen und mieter_sozialwohnungen",
         "['eigentumswohnungen', 'mietwohnungen', 'mieterinnen und mieter', 'sozialwohnungen', 'wohnungsbaus', 'vermieter', 'wohnungsbau', 'wohnungen und', 'wohnungspolitik', 'mieten']",
         null
        ],
        [
         "9",
         "8",
         "1571",
         "8_kunst und kultur_kultur und kunst_freiheit der kunst_kultur ist",
         "8_kunst und kultur_kultur und kunst_freiheit der kunst_kultur ist",
         "['kunst und kultur', 'kultur und kunst', 'freiheit der kunst', 'kultur ist', 'kultur sind', 'kulturförderung', 'kulturpolitik', 'die kulturelle', 'der kulturellen', 'kulturschaffenden']",
         null
        ],
        [
         "10",
         "9",
         "1277",
         "9_steuersystem_das steuersystem_steuersystems_steuerreform",
         "Steuern",
         "['steuersystem', 'das steuersystem', 'steuersystems', 'steuerreform', 'steuern und abgaben', 'des steuersystems', 'besteuert werden', 'steuerhinterziehung', 'spitzensteuersatz', 'steuereinnahmen']",
         null
        ],
        [
         "11",
         "10",
         "1009",
         "10_bäuerliche landwirtschaft_landwirtschaft ist_landwirtschaftspolitik_der agrarpolitik",
         "10_bäuerliche landwirtschaft_landwirtschaft ist_landwirtschaftspolitik_der agrarpolitik",
         "['bäuerliche landwirtschaft', 'landwirtschaft ist', 'landwirtschaftspolitik', 'der agrarpolitik', 'agrarpolitik', 'die agrarpolitik', 'agrarpolitik der', 'agrarpolitik die', 'der landwirtschaft', 'landwirtschaftliche']",
         null
        ],
        [
         "12",
         "11",
         "980",
         "11_pensionsversicherung_pensionssystem_pensionisten_pension",
         "11_pensionsversicherung_pensionssystem_pensionisten_pension",
         "['pensionsversicherung', 'pensionssystem', 'pensionisten', 'pension', 'pensionen', 'die gesetzliche rentenversicherung', 'der alterssicherung', 'betriebliche altersvorsorge', 'der gesetzlichen rentenversicherung', 'gesetzliche rentenversicherung']",
         null
        ],
        [
         "13",
         "12",
         "937",
         "12_wir weitergehen_diesen weg wollen_diesen weg werden_weg wollen wir",
         "12_wir weitergehen_diesen weg wollen_diesen weg werden_weg wollen wir",
         "['wir weitergehen', 'diesen weg wollen', 'diesen weg werden', 'weg wollen wir', 'das wollen wir', 'wir weiter', 'weg werden wir', 'diesen weg', 'weitergehen', 'wollen wir']",
         null
        ],
        [
         "14",
         "13",
         "828",
         "13_internationale wettbewerbsfähigkeit_internationalen wettbewerb_im internationalen wettbewerb_wettbewerbsfähigkeit unserer",
         "13_internationale wettbewerbsfähigkeit_internationalen wettbewerb_im internationalen wettbewerb_wettbewerbsfähigkeit unserer",
         "['internationale wettbewerbsfähigkeit', 'internationalen wettbewerb', 'im internationalen wettbewerb', 'wettbewerbsfähigkeit unserer', 'wettbewerbsverzerrungen', 'leistungswettbewerb', 'wettbewerbsfähigen', 'wettbewerbsfähige', 'die wettbewerbsfähigkeit', 'wettbewerbsfähig']",
         null
        ],
        [
         "15",
         "14",
         "785",
         "14_direkten demokratie_demokratisierung der_direkte demokratie_demokratisierung",
         "14_direkten demokratie_demokratisierung der_direkte demokratie_demokratisierung",
         "['direkten demokratie', 'demokratisierung der', 'direkte demokratie', 'demokratisierung', 'demokratischen', 'der direkten demokratie', 'demokratie ist', 'demokratie die', 'den demokratischen', 'demokratische']",
         null
        ],
        [
         "16",
         "15",
         "706",
         "15_bundeswehr im_einsatz der bundeswehr_soldatinnen und soldaten_bundeswehr auf",
         "15_bundeswehr im_einsatz der bundeswehr_soldatinnen und soldaten_bundeswehr auf",
         "['bundeswehr im', 'einsatz der bundeswehr', 'soldatinnen und soldaten', 'bundeswehr auf', 'bundeswehr ist', 'militärischen', 'bundeswehr in', 'der bundeswehr im', 'bundeswehr muss', 'die bundeswehr muss']",
         null
        ],
        [
         "17",
         "16",
         "675",
         "16_diese politik ist_solche politik_politik ist es_diese politik",
         "16_diese politik ist_solche politik_politik ist es_diese politik",
         "['diese politik ist', 'solche politik', 'politik ist es', 'diese politik', 'dieser politik', 'politik ist', 'politik für', 'aufgabe der politik', 'eine solche politik', 'politik wir']",
         null
        ],
        [
         "18",
         "17",
         "621",
         "17_wir grüne wollen_wir grüne möchten_grüne stehen für_wir grüne stehen",
         "17_wir grüne wollen_wir grüne möchten_grüne stehen für_wir grüne stehen",
         "['wir grüne wollen', 'wir grüne möchten', 'grüne stehen für', 'wir grüne stehen', 'wir grüne', 'grüne wollen', 'grüne möchten', 'uns grünen', 'grünen setzen', 'grünen setzen sich']",
         null
        ],
        [
         "19",
         "18",
         "615",
         "18_sportpolitik_sport ist_sport treiben_förderung des sports",
         "18_sportpolitik_sport ist_sport treiben_förderung des sports",
         "['sportpolitik', 'sport ist', 'sport treiben', 'förderung des sports', 'der sportförderung', 'bedeutung des sports', 'sport für', 'der sport', 'sportförderung', 'sport in']",
         null
        ],
        [
         "20",
         "19",
         "574",
         "19_chancen der digitalisierung_digitalisierung nutzen_digitalisierung ist_der digitalisierung",
         "19_chancen der digitalisierung_digitalisierung nutzen_digitalisierung ist_der digitalisierung",
         "['chancen der digitalisierung', 'digitalisierung nutzen', 'digitalisierung ist', 'der digitalisierung', 'die digitalisierung', 'digitalisierung der', 'digitalisierung von', 'digitalisierung', 'und die digitalisierung', 'mit der digitalisierung']",
         null
        ],
        [
         "21",
         "20",
         "520",
         "20_die europäische union_der europäischen union_europäische union_europäischen union",
         "20_die europäische union_der europäischen union_europäische union_europäischen union",
         "['die europäische union', 'der europäischen union', 'europäische union', 'europäischen union', 'wir wollen europa', 'die europäische einigung', 'europa ist', 'wollen europa', 'europäische einigung', 'die europäische']",
         null
        ],
        [
         "22",
         "21",
         "512",
         "21_wählerinnen und wähler_wählerinnen und_und wähler_wählerinnen",
         "21_wählerinnen und wähler_wählerinnen und_und wähler_wählerinnen",
         "['wählerinnen und wähler', 'wählerinnen und', 'und wähler', 'wählerinnen', 'volksabstimmungen', 'wähler', 'volksabstimmung', 'kandidatinnen und kandidaten', 'wahlberechtigten', 'der wähler']",
         null
        ],
        [
         "23",
         "22",
         "509",
         "22_behinderten menschen_für behinderte menschen_behinderte menschen_behinderter menschen",
         "22_behinderten menschen_für behinderte menschen_behinderte menschen_behinderter menschen",
         "['behinderten menschen', 'für behinderte menschen', 'behinderte menschen', 'behinderter menschen', 'menschen mit behinderungen', 'menschen mit behinderung', 'behinderten', 'die behinderten', 'werkstätten für behinderte', 'für behinderte']",
         null
        ],
        [
         "24",
         "23",
         "503",
         "23_für erneuerbare energien_erneuerbarer energien_erneuerbaren energien_erneuerbare energien",
         "23_für erneuerbare energien_erneuerbarer energien_erneuerbaren energien_erneuerbare energien",
         "['für erneuerbare energien', 'erneuerbarer energien', 'erneuerbaren energien', 'erneuerbare energien', 'die erneuerbaren energien', 'der erneuerbaren energien', 'das erneuerbareenergiengesetz', 'erneuerbareenergiengesetz', 'und erneuerbare energien', 'energieeinsparung']",
         null
        ],
        [
         "25",
         "24",
         "501",
         "24_der tierversuche_artgerechte tierhaltung_der tierhaltung_von tierversuchen",
         "24_der tierversuche_artgerechte tierhaltung_der tierhaltung_von tierversuchen",
         "['der tierversuche', 'artgerechte tierhaltung', 'der tierhaltung', 'von tierversuchen', 'tierversuchen', 'tierversuche', 'tierversuch', 'tierhaltung', 'in der tierhaltung', 'haltung von tieren']",
         null
        ],
        [
         "26",
         "25",
         "471",
         "25_ost und west_im westen_west und_und west",
         "25_ost und west_im westen_west und_und west",
         "['ost und west', 'im westen', 'west und', 'und west', 'westdeutschen', 'westen', 'und west die', 'zwischen west und', 'westdeutschland', 'west']",
         null
        ],
        [
         "27",
         "26",
         "447",
         "26_kriminalität zu bekämpfen_kriminalität wir_organisierten kriminalität_der organisierten kriminalität",
         "26_kriminalität zu bekämpfen_kriminalität wir_organisierten kriminalität_der organisierten kriminalität",
         "['kriminalität zu bekämpfen', 'kriminalität wir', 'organisierten kriminalität', 'der organisierten kriminalität', 'die organisierte kriminalität', 'organisierte kriminalität', 'kriminalität', 'die kriminalität', 'der kriminalität', 'von kriminalität']",
         null
        ],
        [
         "28",
         "27",
         "424",
         "27_grundrecht auf asyl_asylrechts_recht auf asyl_asylbewerberleistungsgesetz",
         "27_grundrecht auf asyl_asylrechts_recht auf asyl_asylbewerberleistungsgesetz",
         "['grundrecht auf asyl', 'asylrechts', 'recht auf asyl', 'asylbewerberleistungsgesetz', 'das asylbewerberleistungsgesetz', 'das asylrecht', 'asylrecht', 'asylberechtigte', 'des asylrechts', 'asyl ist']",
         null
        ],
        [
         "29",
         "28",
         "423",
         "28_die deutsche staatsbürgerschaft_deutsche staatsbürgerschaft_deutsche staatsangehörigkeit erhalten_die deutsche staatsangehörigkeit",
         "28_die deutsche staatsbürgerschaft_deutsche staatsbürgerschaft_deutsche staatsangehörigkeit erhalten_die deutsche staatsangehörigkeit",
         "['die deutsche staatsbürgerschaft', 'deutsche staatsbürgerschaft', 'deutsche staatsangehörigkeit erhalten', 'die deutsche staatsangehörigkeit', 'deutsche staatsangehörigkeit', 'der deutschen staatsangehörigkeit', 'deutschen staatsangehörigkeit', 'staatsbürgerschaftsrecht', 'staatsbürgerschaft', 'einwanderungsgesetz']",
         null
        ],
        [
         "30",
         "29",
         "422",
         "29_der klimawandel ist_die klimaveränderung_klimawandel ist_klimaveränderung",
         "29_der klimawandel ist_die klimaveränderung_klimawandel ist_klimaveränderung",
         "['der klimawandel ist', 'die klimaveränderung', 'klimawandel ist', 'klimaveränderung', 'klimaveränderungen', 'der klimawandel', 'der klimakrise', 'den klimawandel', 'die klimakrise', 'klimakrise']",
         null
        ],
        [
         "31",
         "30",
         "418",
         "30_schutz der privatsphäre_privacy_privacy by_auf informationelle selbstbestimmung",
         "30_schutz der privatsphäre_privacy_privacy by_auf informationelle selbstbestimmung",
         "['schutz der privatsphäre', 'privacy', 'privacy by', 'auf informationelle selbstbestimmung', 'informationelle selbstbestimmung', 'datenschutz ist', 'den datenschutz', 'der datenschutz', 'die privatsphäre', 'persönliche daten']",
         null
        ],
        [
         "32",
         "31",
         "400",
         "31_die europäische zentralbank_der europäischen zentralbank_europäischen zentralbank_europäische zentralbank",
         "31_die europäische zentralbank_der europäischen zentralbank_europäischen zentralbank_europäische zentralbank",
         "['die europäische zentralbank', 'der europäischen zentralbank', 'europäischen zentralbank', 'europäische zentralbank', 'banken sollen', 'bankenaufsicht', 'zentralbank', 'banken zu', 'banken müssen', 'die bundesbank']",
         null
        ],
        [
         "33",
         "32",
         "389",
         "32_konsumentinnen und konsumenten_konsumentinnen und_und konsumenten_konsumenten",
         "32_konsumentinnen und konsumenten_konsumentinnen und_und konsumenten_konsumenten",
         "['konsumentinnen und konsumenten', 'konsumentinnen und', 'und konsumenten', 'konsumenten', 'der konsumenten', 'der konsumentinnen', 'verbraucher wollen', 'konsumentinnen', 'verbraucherinnen und verbrauchern', 'verbraucherinnen und verbraucher']",
         null
        ],
        [
         "34",
         "33",
         "373",
         "33_soziale marktwirtschaft ist_soziale marktwirtschaft steht_der sozialen marktwirtschaft_sozialen marktwirtschaft die",
         "33_soziale marktwirtschaft ist_soziale marktwirtschaft steht_der sozialen marktwirtschaft_sozialen marktwirtschaft die",
         "['soziale marktwirtschaft ist', 'soziale marktwirtschaft steht', 'der sozialen marktwirtschaft', 'sozialen marktwirtschaft die', 'soziale marktwirtschaft die', 'sozialen marktwirtschaft', 'die soziale marktwirtschaft', 'soziale marktwirtschaft', 'ökosozialen marktwirtschaft', 'sozialen marktwirtschaft und']",
         null
        ],
        [
         "35",
         "34",
         "369",
         "34_schuldenbremse im grundgesetz_staatsschulden_staatsverschuldung_die staatsverschuldung",
         "Schulden",
         "['schuldenbremse im grundgesetz', 'staatsschulden', 'staatsverschuldung', 'die staatsverschuldung', 'staatsschuldenquote', 'schuldenbremse im', 'schuldenbremse', 'die schuldenbremse', 'neuen schulden', 'neue schulden']",
         null
        ],
        [
         "36",
         "35",
         "360",
         "35_das kündigungsschutzgesetz_kündigungsschutzgesetz_betriebsverfassungsgesetz_werkverträgen",
         "35_das kündigungsschutzgesetz_kündigungsschutzgesetz_betriebsverfassungsgesetz_werkverträgen",
         "['das kündigungsschutzgesetz', 'kündigungsschutzgesetz', 'betriebsverfassungsgesetz', 'werkverträgen', 'werkverträge', 'von werkverträgen', 'des arbeitsrechts', 'arbeitsrechts', 'arbeitsrecht', 'kündigungsschutzes']",
         null
        ],
        [
         "37",
         "36",
         "350",
         "36_freiheit freiheit_freiheit ist_freiheit bedeutet_ist freiheit",
         "36_freiheit freiheit_freiheit ist_freiheit bedeutet_ist freiheit",
         "['freiheit freiheit', 'freiheit ist', 'freiheit bedeutet', 'ist freiheit', 'der freiheitliche staat', 'freiheit nicht', 'freiheit braucht', 'freiheitliche staat', 'persönliche freiheit', 'freiheit zur']",
         null
        ],
        [
         "38",
         "37",
         "350",
         "37_wollen cdu und_cducsu und fdp_cdu und csu_cducsu und",
         "37_wollen cdu und_cducsu und fdp_cdu und csu_cducsu und",
         "['wollen cdu und', 'cducsu und fdp', 'cdu und csu', 'cducsu und', 'und csu wollen', 'csu wollen die', 'cdu und', 'wollen cdu', 'für cdu und', 'und csu sind']",
         null
        ],
        [
         "39",
         "38",
         "347",
         "38_finanzausstattung der kommunen_bundes_finanzausgleich_finanzausstattung der",
         "38_finanzausstattung der kommunen_bundes_finanzausgleich_finanzausstattung der",
         "['finanzausstattung der kommunen', 'bundes', 'finanzausgleich', 'finanzausstattung der', 'finanzausstattung', 'die kommunen brauchen', 'die finanzierung', 'finanzierung', 'finanzierung der', 'des bundes']",
         null
        ],
        [
         "40",
         "39",
         "347",
         "39_cannabis wollen wir_illegalen drogen_cannabis wollen_illegaler drogen",
         "39_cannabis wollen wir_illegalen drogen_cannabis wollen_illegaler drogen",
         "['cannabis wollen wir', 'illegalen drogen', 'cannabis wollen', 'illegaler drogen', 'der drogenkriminalität', 'drogenkriminalität', 'der drogenpolitik', 'drogenpolitik', 'in der drogenpolitik', 'cannabis']",
         null
        ],
        [
         "41",
         "40",
         "333",
         "40_freie demokraten wollen_wir freie demokraten_freie demokraten fordern_uns freie demokraten",
         "40_freie demokraten wollen_wir freie demokraten_freie demokraten fordern_uns freie demokraten",
         "['freie demokraten wollen', 'wir freie demokraten', 'freie demokraten fordern', 'uns freie demokraten', 'freie demokraten sind', 'freie demokraten setzen', 'freie demokraten sehen', 'demokraten wollen dass', 'demokraten wollen ein', 'freie demokraten bekennen']",
         null
        ],
        [
         "42",
         "41",
         "318",
         "41_umweltpolitik darf_umweltpolitik ist_eine gemeinsame umweltpolitik_strengeren umweltvorschriften allgemeine",
         "41_umweltpolitik darf_umweltpolitik ist_eine gemeinsame umweltpolitik_strengeren umweltvorschriften allgemeine",
         "['umweltpolitik darf', 'umweltpolitik ist', 'eine gemeinsame umweltpolitik', 'strengeren umweltvorschriften allgemeine', 'umweltvorschriften allgemeine norm', 'umweltvorschriften allgemeine', 'umweltpolitik', 'der umweltpolitik', 'umweltschutz ist', 'umweltrecht']",
         null
        ],
        [
         "43",
         "42",
         "318",
         "42_erlernen der deutschen_deutschen sprache ist_deutschkenntnisse_deutschen sprache",
         "42_erlernen der deutschen_deutschen sprache ist_deutschkenntnisse_deutschen sprache",
         "['erlernen der deutschen', 'deutschen sprache ist', 'deutschkenntnisse', 'deutschen sprache', 'die deutsche sprache', 'deutsche sprache', 'der deutschen sprache', 'deutschkurse', 'fremdsprachenunterricht', 'sprachkenntnisse']",
         null
        ],
        [
         "44",
         "43",
         "311",
         "43_das arbeitszeitgesetz_arbeitszeitgesetz_arbeitszeitverkürzung_normalarbeitszeit",
         "43_das arbeitszeitgesetz_arbeitszeitgesetz_arbeitszeitverkürzung_normalarbeitszeit",
         "['das arbeitszeitgesetz', 'arbeitszeitgesetz', 'arbeitszeitverkürzung', 'normalarbeitszeit', 'wochenarbeitszeit', 'arbeitszeiten', 'der wochenarbeitszeit', 'arbeitszeit', 'die arbeitszeit', 'auf 35 stunden']",
         null
        ],
        [
         "45",
         "44",
         "294",
         "44_spdgeführte bundesregierung wird_bundesregierung wird die_bundesregierung wird dafür_bundesregierung wird",
         "44_spdgeführte bundesregierung wird_bundesregierung wird die_bundesregierung wird dafür_bundesregierung wird",
         "['spdgeführte bundesregierung wird', 'bundesregierung wird die', 'bundesregierung wird dafür', 'bundesregierung wird', 'die spdgeführte bundesregierung', 'spd steht für', 'spd ist die', 'spdgeführte bundesregierung', 'der spd ist', 'die spd steht']",
         null
        ],
        [
         "46",
         "45",
         "293",
         "45_nutzung der kernenergie_kernenergie ist_nutzung der atomenergie_kernenergie",
         "45_nutzung der kernenergie_kernenergie ist_nutzung der atomenergie_kernenergie",
         "['nutzung der kernenergie', 'kernenergie ist', 'nutzung der atomenergie', 'kernenergie', 'die kernenergie', 'der kernenergie', 'aus der kernenergie', 'atomkraftwerken', 'atomenergie', 'von atomkraftwerken']",
         null
        ],
        [
         "47",
         "46",
         "293",
         "46_polizei muss_die polizei muß_polizei muß_präsenz der polizei",
         "46_polizei muss_die polizei muß_polizei muß_präsenz der polizei",
         "['polizei muss', 'die polizei muß', 'polizei muß', 'präsenz der polizei', 'für die polizei', 'arbeit der polizei', 'polizeilichen', 'polizei ist', 'polizeibeamten', 'polizei die']",
         null
        ],
        [
         "48",
         "47",
         "292",
         "47_öffentliche dienst muss_öffentlichen dienstes ist_leistungsfähigen öffentlichen dienst_der öffentliche dienst",
         "47_öffentliche dienst muss_öffentlichen dienstes ist_leistungsfähigen öffentlichen dienst_der öffentliche dienst",
         "['öffentliche dienst muss', 'öffentlichen dienstes ist', 'leistungsfähigen öffentlichen dienst', 'der öffentliche dienst', 'den öffentlichen dienst', 'öffentlichen dienst kommt', 'öffentliche dienstleistungen', 'öffentlichen dienst', 'öffentliche dienst', 'des öffentlichen dienstes']",
         null
        ],
        [
         "49",
         "48",
         "270",
         "48_kirchen und religionsgemeinschaften_und religionsgemeinschaften_religionsgemeinschaften und_trennung von kirche",
         "48_kirchen und religionsgemeinschaften_und religionsgemeinschaften_religionsgemeinschaften und_trennung von kirche",
         "['kirchen und religionsgemeinschaften', 'und religionsgemeinschaften', 'religionsgemeinschaften und', 'trennung von kirche', 'religionsgemeinschaften', 'christlichen kirchen und', 'kirchlichen einrichtungen', 'religions und weltanschauungsgemeinschaften', 'kirchlichen', 'kirchliche']",
         null
        ]
       ],
       "shape": {
        "columns": 6,
        "rows": 225
       }
      },
      "text/html": [
       "<div>\n",
       "<style scoped>\n",
       "    .dataframe tbody tr th:only-of-type {\n",
       "        vertical-align: middle;\n",
       "    }\n",
       "\n",
       "    .dataframe tbody tr th {\n",
       "        vertical-align: top;\n",
       "    }\n",
       "\n",
       "    .dataframe thead th {\n",
       "        text-align: right;\n",
       "    }\n",
       "</style>\n",
       "<table border=\"1\" class=\"dataframe\">\n",
       "  <thead>\n",
       "    <tr style=\"text-align: right;\">\n",
       "      <th></th>\n",
       "      <th>Topic</th>\n",
       "      <th>Count</th>\n",
       "      <th>Name</th>\n",
       "      <th>CustomName</th>\n",
       "      <th>Representation</th>\n",
       "      <th>Representative_Docs</th>\n",
       "    </tr>\n",
       "  </thead>\n",
       "  <tbody>\n",
       "    <tr>\n",
       "      <th>0</th>\n",
       "      <td>-1</td>\n",
       "      <td>69009</td>\n",
       "      <td>-1_wollen wir_wir wollen_wir_wir werden</td>\n",
       "      <td>-1_wollen wir_wir wollen_wir_wir werden</td>\n",
       "      <td>[wollen wir, wir wollen, wir, wir werden, gese...</td>\n",
       "      <td>NaN</td>\n",
       "    </tr>\n",
       "    <tr>\n",
       "      <th>1</th>\n",
       "      <td>0</td>\n",
       "      <td>8386</td>\n",
       "      <td>0_kindergeld_familien_familie_für alle</td>\n",
       "      <td>0_kindergeld_familien_familie_für alle</td>\n",
       "      <td>[kindergeld, familien, familie, für alle, kind...</td>\n",
       "      <td>NaN</td>\n",
       "    </tr>\n",
       "    <tr>\n",
       "      <th>2</th>\n",
       "      <td>1</td>\n",
       "      <td>4059</td>\n",
       "      <td>1_österreich ist_österreich in_in österreich_ö...</td>\n",
       "      <td>1_österreich ist_österreich in_in österreich_ö...</td>\n",
       "      <td>[österreich ist, österreich in, in österreich,...</td>\n",
       "      <td>NaN</td>\n",
       "    </tr>\n",
       "    <tr>\n",
       "      <th>3</th>\n",
       "      <td>2</td>\n",
       "      <td>2691</td>\n",
       "      <td>2_krankenhäusern_krankenhäuser_patientinnen un...</td>\n",
       "      <td>2_krankenhäusern_krankenhäuser_patientinnen un...</td>\n",
       "      <td>[krankenhäusern, krankenhäuser, patientinnen u...</td>\n",
       "      <td>NaN</td>\n",
       "    </tr>\n",
       "    <tr>\n",
       "      <th>4</th>\n",
       "      <td>3</td>\n",
       "      <td>2160</td>\n",
       "      <td>3_geschlechtergerechtigkeit_die gleichberechti...</td>\n",
       "      <td>3_geschlechtergerechtigkeit_die gleichberechti...</td>\n",
       "      <td>[geschlechtergerechtigkeit, die gleichberechti...</td>\n",
       "      <td>NaN</td>\n",
       "    </tr>\n",
       "    <tr>\n",
       "      <th>...</th>\n",
       "      <td>...</td>\n",
       "      <td>...</td>\n",
       "      <td>...</td>\n",
       "      <td>...</td>\n",
       "      <td>...</td>\n",
       "      <td>...</td>\n",
       "    </tr>\n",
       "    <tr>\n",
       "      <th>220</th>\n",
       "      <td>219</td>\n",
       "      <td>21</td>\n",
       "      <td>219_untrennbar zusammen beides_untrennbar zusa...</td>\n",
       "      <td>219_untrennbar zusammen beides_untrennbar zusa...</td>\n",
       "      <td>[untrennbar zusammen beides, untrennbar zusamm...</td>\n",
       "      <td>NaN</td>\n",
       "    </tr>\n",
       "    <tr>\n",
       "      <th>221</th>\n",
       "      <td>220</td>\n",
       "      <td>21</td>\n",
       "      <td>220_verkehrspolitik övpinitiativen für_övp ini...</td>\n",
       "      <td>220_verkehrspolitik övpinitiativen für_övp ini...</td>\n",
       "      <td>[verkehrspolitik övpinitiativen für, övp initi...</td>\n",
       "      <td>NaN</td>\n",
       "    </tr>\n",
       "    <tr>\n",
       "      <th>222</th>\n",
       "      <td>221</td>\n",
       "      <td>20</td>\n",
       "      <td>221_petitionsrecht wollen wir_das petitionsrec...</td>\n",
       "      <td>221_petitionsrecht wollen wir_das petitionsrec...</td>\n",
       "      <td>[petitionsrecht wollen wir, das petitionsrecht...</td>\n",
       "      <td>NaN</td>\n",
       "    </tr>\n",
       "    <tr>\n",
       "      <th>223</th>\n",
       "      <td>222</td>\n",
       "      <td>20</td>\n",
       "      <td>222_für jugendliche drogenabhängige_illegalem ...</td>\n",
       "      <td>222_für jugendliche drogenabhängige_illegalem ...</td>\n",
       "      <td>[für jugendliche drogenabhängige, illegalem dr...</td>\n",
       "      <td>NaN</td>\n",
       "    </tr>\n",
       "    <tr>\n",
       "      <th>224</th>\n",
       "      <td>223</td>\n",
       "      <td>20</td>\n",
       "      <td>223_auswärtige kulturpolitik soll_auswärtige k...</td>\n",
       "      <td>223_auswärtige kulturpolitik soll_auswärtige k...</td>\n",
       "      <td>[auswärtige kulturpolitik soll, auswärtige kul...</td>\n",
       "      <td>NaN</td>\n",
       "    </tr>\n",
       "  </tbody>\n",
       "</table>\n",
       "<p>225 rows × 6 columns</p>\n",
       "</div>"
      ],
      "text/plain": [
       "     Topic  Count                                               Name  \\\n",
       "0       -1  69009            -1_wollen wir_wir wollen_wir_wir werden   \n",
       "1        0   8386             0_kindergeld_familien_familie_für alle   \n",
       "2        1   4059  1_österreich ist_österreich in_in österreich_ö...   \n",
       "3        2   2691  2_krankenhäusern_krankenhäuser_patientinnen un...   \n",
       "4        3   2160  3_geschlechtergerechtigkeit_die gleichberechti...   \n",
       "..     ...    ...                                                ...   \n",
       "220    219     21  219_untrennbar zusammen beides_untrennbar zusa...   \n",
       "221    220     21  220_verkehrspolitik övpinitiativen für_övp ini...   \n",
       "222    221     20  221_petitionsrecht wollen wir_das petitionsrec...   \n",
       "223    222     20  222_für jugendliche drogenabhängige_illegalem ...   \n",
       "224    223     20  223_auswärtige kulturpolitik soll_auswärtige k...   \n",
       "\n",
       "                                            CustomName  \\\n",
       "0              -1_wollen wir_wir wollen_wir_wir werden   \n",
       "1               0_kindergeld_familien_familie_für alle   \n",
       "2    1_österreich ist_österreich in_in österreich_ö...   \n",
       "3    2_krankenhäusern_krankenhäuser_patientinnen un...   \n",
       "4    3_geschlechtergerechtigkeit_die gleichberechti...   \n",
       "..                                                 ...   \n",
       "220  219_untrennbar zusammen beides_untrennbar zusa...   \n",
       "221  220_verkehrspolitik övpinitiativen für_övp ini...   \n",
       "222  221_petitionsrecht wollen wir_das petitionsrec...   \n",
       "223  222_für jugendliche drogenabhängige_illegalem ...   \n",
       "224  223_auswärtige kulturpolitik soll_auswärtige k...   \n",
       "\n",
       "                                        Representation  Representative_Docs  \n",
       "0    [wollen wir, wir wollen, wir, wir werden, gese...                  NaN  \n",
       "1    [kindergeld, familien, familie, für alle, kind...                  NaN  \n",
       "2    [österreich ist, österreich in, in österreich,...                  NaN  \n",
       "3    [krankenhäusern, krankenhäuser, patientinnen u...                  NaN  \n",
       "4    [geschlechtergerechtigkeit, die gleichberechti...                  NaN  \n",
       "..                                                 ...                  ...  \n",
       "220  [untrennbar zusammen beides, untrennbar zusamm...                  NaN  \n",
       "221  [verkehrspolitik övpinitiativen für, övp initi...                  NaN  \n",
       "222  [petitionsrecht wollen wir, das petitionsrecht...                  NaN  \n",
       "223  [für jugendliche drogenabhängige, illegalem dr...                  NaN  \n",
       "224  [auswärtige kulturpolitik soll, auswärtige kul...                  NaN  \n",
       "\n",
       "[225 rows x 6 columns]"
      ]
     },
     "metadata": {},
     "output_type": "display_data"
    }
   ],
   "source": [
    "topic_model.get_topic_info()"
   ]
  },
  {
   "cell_type": "code",
   "execution_count": null,
   "metadata": {},
   "outputs": [],
   "source": [
    "# Save the topics to a pickle file\n",
    "with open('topics.pkl', 'wb') as f:\n",
    "\tpickle.dump(topics, f)\n",
    "\n",
    "# Save the probabilities to a pickle file\n",
    "with open('probs.pkl', 'wb') as f:\n",
    "\tpickle.dump(probs, f)"
   ]
  },
  {
   "cell_type": "code",
   "execution_count": null,
   "metadata": {},
   "outputs": [],
   "source": [
    "\n",
    "# Method 1 - safetensors\n",
    "topic_model.save(file_path, serialization=\"safetensors\", save_ctfidf=True, save_embedding_model=embedding_model_multilingual2)\n",
    "\n",
    "# Method 2 - pytorch\n",
    "#topic_model.save(file_path, serialization=\"pytorch\", save_ctfidf=True, save_embedding_model=embedding_model)\n",
    "\n",
    "# Method 3 - pickle\n",
    "#topic_model.save(\"bertopic_model.pkl\")\n",
    "\n"
   ]
  },
  {
   "cell_type": "code",
   "execution_count": null,
   "metadata": {},
   "outputs": [],
   "source": [
    "df_manifesto[\"topic\"] = topics\n",
    "topic_list =[\n",
    "    9,\n",
    "    # 38,\n",
    "    34, \n",
    "    69, \n",
    "    101]"
   ]
  },
  {
   "cell_type": "code",
   "execution_count": null,
   "metadata": {},
   "outputs": [],
   "source": [
    "df_manifesto.rename(columns={\"label\": \"category\"}, inplace=True)"
   ]
  },
  {
   "cell_type": "code",
   "execution_count": null,
   "metadata": {},
   "outputs": [],
   "source": [
    "# Filter only relevant codes\n",
    "df_spendings = df_manifesto[df_manifesto[\"cmp_code\"].isin([\n",
    "    303,\n",
    "    401,\n",
    "    # 411, \n",
    "    409, \n",
    "    414,\n",
    "    103.2,\n",
    "    402,\n",
    "    504,\n",
    "    505\n",
    "    # 506,\n",
    "    # 507,\n",
    "]) | df_manifesto[\"topic\"].isin(topic_list)\n",
    "]"
   ]
  },
  {
   "cell_type": "code",
   "execution_count": null,
   "metadata": {},
   "outputs": [],
   "source": [
    "# Map policy codes to labels\n",
    "label_map = {\n",
    "    # 411: 0, \n",
    "    409: 1,\n",
    "    # 401: 1,\n",
    "    # 303: 1,\n",
    "    414: 2,\n",
    "    # 103.2: 0,\n",
    "    # 504: 0,\n",
    "    # 505: 1,\n",
    "    # 506: 0,\n",
    "    # 507: 1,\n",
    "    }  # 0 = expansion, 1 = austerity\n",
    "    \n",
    "df_manifesto[\"label\"] = df_manifesto[\"cmp_code\"].map(label_map)\n",
    "# df_spendings[\"label\"] = df_spendings[\"cmp_code\"].map(label_map)"
   ]
  },
  {
   "cell_type": "markdown",
   "metadata": {},
   "source": [
    "In austrian manifestos 412 controlled economy signifies tax relief for riches, in germany its taxing the rich"
   ]
  },
  {
   "cell_type": "code",
   "execution_count": null,
   "metadata": {},
   "outputs": [],
   "source": [
    "code_list_expansion = df_manifesto[\n",
    "    df_manifesto[\"topic\"] == 101].sort_values(\n",
    "        by=\"cmp_code\", \n",
    "        ascending=False\n",
    "        ).head(7)[\"cmp_code\"].tolist()\n"
   ]
  },
  {
   "cell_type": "code",
   "execution_count": null,
   "metadata": {},
   "outputs": [],
   "source": [
    "\n",
    "df_topic =df_manifesto[df_manifesto[\"topic\"].isin(topic_list)]\n",
    "\n",
    "df_exp = apply_labels(df_manifesto, topic_list, [501, 502, 503, 504, 506, 701, 413],1)\n",
    "df_exp2 = apply_labels(df_manifesto, [9], [412],1,country=\"AU\") \n",
    "df_exp3 = apply_labels(df_manifesto, [101], code_list_expansion,1) \n",
    "\n",
    "df_contr = apply_labels(\n",
    "    df_manifesto, \n",
    "    topic_list, \n",
    "    [505, \n",
    "     507,\n",
    "     109,\n",
    "     410,\n",
    "     305,\n",
    "     204,\n",
    "     203,\n",
    "     202.4,\n",
    "     110,\n",
    "     108\n",
    "    #  605, # tax evasion\n",
    "    #  605.1 # tax evasion\n",
    "     ]\n",
    "    ,2)\n",
    "\n",
    "df_contr2 = apply_labels(df_manifesto, [34,69], [303,403],2) # check if 101 fits\n",
    "df_contr3 = apply_labels(df_manifesto, [9], [412],2,country=\"DE\")\n",
    "\n",
    "\n",
    "df_new_labels = pd.concat([df_exp, df_exp2, df_contr, df_contr2, df_contr3], ignore_index=False)"
   ]
  },
  {
   "cell_type": "code",
   "execution_count": null,
   "metadata": {},
   "outputs": [],
   "source": [
    "df_manifesto.loc[df_new_labels.index, 'label'] = df_new_labels['label']"
   ]
  },
  {
   "cell_type": "code",
   "execution_count": null,
   "metadata": {},
   "outputs": [],
   "source": [
    "# ambiguous results: label by hand later\n",
    "label_by_hand1 = apply_labels(df_manifesto, topic_list, [107, 408, 304],\"X\")\n",
    "label_by_hand2 = apply_labels(df_manifesto, [9], [401,402,403],\"X\")\n",
    "label_by_hand = pd.concat([label_by_hand1, label_by_hand2], ignore_index=False)\n",
    "label_by_hand[\"sentiment\"] = label_by_hand[\"text\"].apply(lambda x: TextBlobDE(x).sentiment.polarity)"
   ]
  },
  {
   "cell_type": "code",
   "execution_count": null,
   "metadata": {},
   "outputs": [],
   "source": [
    "df_explore = apply_labels(\n",
    "    df_manifesto, \n",
    "    [34,\n",
    "    #  69,\n",
    "     101,\n",
    "     9\n",
    "     ], \n",
    "    [605],\n",
    "    1)"
   ]
  },
  {
   "cell_type": "code",
   "execution_count": null,
   "metadata": {},
   "outputs": [],
   "source": [
    "df_explore = apply_labels(df_manifesto, [9], [303],1)"
   ]
  },
  {
   "cell_type": "code",
   "execution_count": null,
   "metadata": {
    "vscode": {
     "languageId": "ruby"
    }
   },
   "outputs": [],
   "source": [
    "df_unlabeled = df_topic[df_topic[\"label\"].isna()]\n",
    "df_unlabeled = df_unlabeled.drop(columns=['description_md'])\n",
    "# df_unlabeled.insert(2, 'label', df_unlabeled['label'])\n",
    "df_unlabeled.insert(1, 'label', df_unlabeled.pop('label'))"
   ]
  },
  {
   "cell_type": "code",
   "execution_count": null,
   "metadata": {
    "vscode": {
     "languageId": "ruby"
    }
   },
   "outputs": [],
   "source": [
    "\n",
    "\n",
    "label_by_hand = label_by_hand.drop(columns=['description_md'])\n",
    "# df_unlabeled.insert(2, 'label', df_unlabeled['label'])\n",
    "label_by_hand.insert(1, 'label', label_by_hand.pop('label'))\n",
    "label_by_hand[\"label\"] = \"\"\n",
    "label_by_hand = label_by_hand.iloc[label_by_hand[\"sentiment\"].abs().argsort()[::-1]]"
   ]
  },
  {
   "cell_type": "code",
   "execution_count": null,
   "metadata": {},
   "outputs": [],
   "source": [
    "\n",
    "\n",
    "df_manifesto.to_pickle('data/df_manifesto_final.pkl')\n",
    "# df_spendings.to_pickle('data/df_spendings_final.pkl')\n",
    "label_by_hand.to_csv('data/df_spendings_unlabeled.csv', sep=';', index=True, encoding='utf-8-sig')\n",
    "# df_no_label.to_csv('data/Unlabeled.csv', sep=';', index=True, encoding='utf-8-sig')"
   ]
  },
  {
   "cell_type": "code",
   "execution_count": null,
   "metadata": {},
   "outputs": [],
   "source": [
    "\n",
    "# Erstelle das `topics_over_time`-Objekt\n",
    "topics_over_time = topic_model.topics_over_time(df_manifesto[\"text\"], df_manifesto[\"year\"])\n",
    "#topic_model = BERTopic(representation_model=KeyBERTInspired())\n"
   ]
  }
 ],
 "metadata": {
  "language_info": {
   "name": "python"
  }
 },
 "nbformat": 4,
 "nbformat_minor": 2
}
