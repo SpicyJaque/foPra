{
 "cells": [
  {
   "cell_type": "markdown",
   "metadata": {},
   "source": [
    "Import Stuff"
   ]
  },
  {
   "cell_type": "code",
   "execution_count": 4,
   "metadata": {},
   "outputs": [],
   "source": [
    "import ssl\n",
    "import re\n",
    "\n",
    "from bertopic import BERTopic\n",
    "from bertopic.representation import KeyBERTInspired\n",
    "from hdbscan import HDBSCAN\n",
    "from umap import UMAP\n",
    "\n",
    "from sklearn.cluster import KMeans\n",
    "\n",
    "import seaborn as sns\n",
    "import matplotlib.pyplot as plt\n",
    "\n",
    "import nltk\n",
    "from nltk.corpus import wordnet\n",
    "from nltk.tokenize import word_tokenize\n",
    "from nltk.stem import WordNetLemmatizer\n",
    "\n",
    "from datetime import datetime\n",
    "from textblob import TextBlob\n",
    "\n",
    "import pickle\n",
    "import requests\n",
    "\n",
    "\n",
    "\n"
   ]
  },
  {
   "cell_type": "code",
   "execution_count": 16,
   "metadata": {},
   "outputs": [
    {
     "name": "stderr",
     "output_type": "stream",
     "text": [
      "[nltk_data] Downloading package punkt_tab to\n",
      "[nltk_data]     C:\\Users\\Jacob\\AppData\\Roaming\\nltk_data...\n",
      "[nltk_data]   Package punkt_tab is already up-to-date!\n",
      "[nltk_data] Downloading package wordnet to\n",
      "[nltk_data]     C:\\Users\\Jacob\\AppData\\Roaming\\nltk_data...\n",
      "[nltk_data]   Package wordnet is already up-to-date!\n",
      "[nltk_data] Downloading package punkt to\n",
      "[nltk_data]     C:\\Users\\Jacob\\AppData\\Roaming\\nltk_data...\n",
      "[nltk_data]   Package punkt is already up-to-date!\n",
      "[nltk_data] Downloading package stopwords to\n",
      "[nltk_data]     C:\\Users\\Jacob\\AppData\\Roaming\\nltk_data...\n",
      "[nltk_data]   Package stopwords is already up-to-date!\n",
      "[nltk_data] Downloading package averaged_perceptron_tagger to\n",
      "[nltk_data]     C:\\Users\\Jacob\\AppData\\Roaming\\nltk_data...\n",
      "[nltk_data]   Package averaged_perceptron_tagger is already up-to-\n",
      "[nltk_data]       date!\n"
     ]
    }
   ],
   "source": [
    "from functions import *\n",
    "importlib.reload(functions)\n",
    "\n",
    "nltk.download('punkt_tab')\n",
    "nltk.download('wordnet')\n",
    "nltk.download('punkt')\n",
    "nltk.download('stopwords')\n",
    "nltk.download('averaged_perceptron_tagger')\n",
    "\n",
    "parties = [\"CDU\", \"SPD\", \"FDP\", \"AFD\", \"LEFT\", \"GREENS\"]\n",
    "file_path = \"C:/Users/Jacob/OneDrive/uni/MA WiSoz/Semester III/Computational Social Sciences/foPra/data/\"\n",
    "\n",
    "\n",
    "# Open the file in read mode\n",
    "with open(\"API Keys/DeepL.txt\", 'r', encoding='utf-8') as file:\n",
    "    # Read the contents of the file\n",
    "    api_key_deepl = file.read()\n",
    "\n",
    "url = 'https://api-free.deepl.com/v2/translate'\n",
    "df_manifesto_toks = pd.read_csv(\"data/parties/Manifestos_tokenized.csv\")\n",
    "df_manifesto = pd.read_csv(\"data/parties/All_Manifestos.csv\")\n",
    "topics = pd.read_pickle('topics.pkl') \n"
   ]
  },
  {
   "cell_type": "markdown",
   "metadata": {},
   "source": [
    "DeepL API"
   ]
  },
  {
   "cell_type": "code",
   "execution_count": 6,
   "metadata": {},
   "outputs": [],
   "source": [
    "params = {\n",
    "    'auth_key': api_key_deepl,\n",
    "    'text': 'Hello, world!',\n",
    "    'target_lang': 'DE'  # Translate to German\n",
    "}"
   ]
  },
  {
   "cell_type": "code",
   "execution_count": 7,
   "metadata": {},
   "outputs": [],
   "source": [
    "# Make the API request\n",
    "response = requests.post(url, data=params)\n"
   ]
  },
  {
   "cell_type": "code",
   "execution_count": 8,
   "metadata": {},
   "outputs": [
    {
     "name": "stdout",
     "output_type": "stream",
     "text": [
      "Translated text: Hallo, Welt!\n"
     ]
    }
   ],
   "source": [
    "# Check if the request was successful\n",
    "if response.status_code == 200:\n",
    "    result = response.json()\n",
    "    translated_text = result['translations'][0]['text']\n",
    "    print(f'Translated text: {translated_text}')\n",
    "else:\n",
    "    print(f'Error: {response.status_code}')\n",
    "    print(response.text)"
   ]
  },
  {
   "cell_type": "markdown",
   "metadata": {},
   "source": [
    "Edit Text documents"
   ]
  },
  {
   "cell_type": "code",
   "execution_count": 9,
   "metadata": {},
   "outputs": [],
   "source": [
    "lemmatizer = WordNetLemmatizer()"
   ]
  },
  {
   "cell_type": "markdown",
   "metadata": {},
   "source": [
    "defining different models\n",
    "    "
   ]
  },
  {
   "cell_type": "code",
   "execution_count": 8,
   "metadata": {},
   "outputs": [],
   "source": [
    "umap_model = UMAP(\n",
    "    n_neighbors=50, \n",
    "    # n_components=5, \n",
    "    # min_dist=0.0, \n",
    "    metric='cosine', \n",
    "    random_state=42\n",
    "    )"
   ]
  },
  {
   "cell_type": "code",
   "execution_count": 9,
   "metadata": {},
   "outputs": [],
   "source": [
    "embedding_model_en = \"all-MiniLM-L6-v2\"\n",
    "embedding_model_multilingual1 = \"paraphrase-multilingual-mpnet-base-v2\"\n",
    "embedding_model_multilingual2 = \"distiluse-base-multilingual-cased-v1\""
   ]
  },
  {
   "cell_type": "code",
   "execution_count": 10,
   "metadata": {},
   "outputs": [],
   "source": [
    "representation_model = KeyBERTInspired()\n",
    "cluster_model = KMeans(n_clusters=30)"
   ]
  },
  {
   "cell_type": "code",
   "execution_count": 11,
   "metadata": {},
   "outputs": [],
   "source": [
    "hdbscan_model = HDBSCAN(\n",
    "    min_cluster_size=50, \n",
    "    # min_samples=10,\n",
    "    metric='euclidean', \n",
    "    prediction_data=True\n",
    "    )\n",
    "\n"
   ]
  },
  {
   "cell_type": "code",
   "execution_count": 12,
   "metadata": {},
   "outputs": [],
   "source": [
    "seed_topic_list = [[\"steuergeld\", \"ausgaben\", \"staatsausgaben\", \"staatshaushalt\", \"schulden\", \"schuldenbremse\", \"staatsschulden\"],\n",
    "                   ['sozial wohnungsbau', 'sozialen wohnungsbaus', 'sozialen wohnungsbau', 'sozialwohnungen', 'wohnungsbauförderung', 'mietwohnungen', 'wohnungsbaus', 'bezahlbar wohnungen', 'eigentumswohnungen', 'wohnungsbau'],\n",
    "                   ['öffentlich investitionen', 'öffentlichen investitionen', 'investitionen öffentlichen', 'investitionen', 'investitionsquot', 'investitionsstau', 'investitionszulag', 'investitionsmittel', 'privat investitionen', 'investitionsanr']]"
   ]
  },
  {
   "cell_type": "markdown",
   "metadata": {},
   "source": [
    "Initialisiere und trainiere das BERTopic-Modell\n"
   ]
  },
  {
   "cell_type": "code",
   "execution_count": 17,
   "metadata": {},
   "outputs": [],
   "source": [
    "\n",
    "# Ensure the 'text' column contains only strings and handle NaN values\n",
    "df_manifesto[\"text\"] = df_manifesto[\"text\"].astype(str).fillna(\"\")\n",
    "\n",
    "topic_model = BERTopic(\n",
    "    language=\"multilingual\"\n",
    "    , n_gram_range=(1,2)\n",
    "    , min_topic_size=20\n",
    "    # , top_n_words=20\n",
    "    , representation_model=representation_model\n",
    "    , embedding_model=embedding_model_multilingual2\n",
    "    , umap_model=umap_model\n",
    "    # , hdbscan_model=hdbscan_model\n",
    "    , seed_topic_list=seed_topic_list\n",
    "    )\n",
    "\n",
    "#topic_model = BERTopic(nr_topics=100, calculate_probabilities=True, embedding_model=\"all_MiniLM-L6-v2\")\n",
    "topics, probs = topic_model.fit_transform(df_manifesto[\"text\"])\n",
    "\n"
   ]
  },
  {
   "cell_type": "code",
   "execution_count": 17,
   "metadata": {},
   "outputs": [],
   "source": [
    "df_manifesto[\"topic\"] = topics"
   ]
  },
  {
   "cell_type": "code",
   "execution_count": 18,
   "metadata": {},
   "outputs": [],
   "source": [
    "df_manifesto.to_pickle('Manifesto_final.pkl')"
   ]
  },
  {
   "cell_type": "code",
   "execution_count": 32,
   "metadata": {},
   "outputs": [
    {
     "data": {
      "application/vnd.microsoft.datawrangler.viewer.v0+json": {
       "columns": [
        {
         "name": "index",
         "rawType": "int64",
         "type": "integer"
        },
        {
         "name": "Topic",
         "rawType": "int64",
         "type": "integer"
        },
        {
         "name": "Count",
         "rawType": "int64",
         "type": "integer"
        },
        {
         "name": "Name",
         "rawType": "object",
         "type": "string"
        },
        {
         "name": "Representation",
         "rawType": "object",
         "type": "unknown"
        },
        {
         "name": "Representative_Docs",
         "rawType": "object",
         "type": "unknown"
        }
       ],
       "conversionMethod": "pd.DataFrame",
       "ref": "8f7b4923-55b8-41c1-8a28-463e64031332",
       "rows": [
        [
         "0",
         "-1",
         "38779",
         "-1_sicherheit_demokratisch_demokrati_sozial",
         "['sicherheit', 'demokratisch', 'demokrati', 'sozial', 'bundesrepublik', 'politischen', 'politik', 'politisch', 'bundesregierung', 'schutz']",
         "['müssen entscheiden mutig anpacken sozial ökologisch Modernisierung unser Wirtschaft Arbeitsplätz sichert neue schafft weiter Umweltzerstörung', 'Erfahrung gemacht Wirtschaftlich Sicherheit schafft sozial Sicherheit sozial Sicherheit schafft persönlich Freiheit', 'Zentrum unser friedenspolitischen Forderungen stehen o Verbot Bundeswehreinsatz außerhalb Grenzen BRD inneren Konflikten Grundgesetz darf geändert o umfassend vollständig Verbot Entwicklung Produkt Lagerung Kernwaffen o Entwicklung Produktionsstopp neue Waffensystem o Ablehnung weiteren militärischen Nutzung ehemaligen Militärobjekten insbesonder Truppenübungsplätzen Ostdeutschland Bundeswehr o Abschaffung Wehrpflicht Zwangsdienst Schritt Abschaffung Armee überhaupt o Verbot Waffenexport Beendigung Militärhilf o Kürzung Verteidigungshaushalt jährlich mindesten Prozent Verwendung immer größeren Teil verbleibenden Ausgaben gesondert auszuweisenden Abrüstungsetat o Auflösung NATO WEU Ersetzung weltweit gesamteuropäisch kooper Sicherheitssystem insbesonder demokratisch Reform UNO Weiterentwicklung KSZE Prozess']"
        ],
        [
         "1",
         "0",
         "8594",
         "0_kindern_kinderbetreuung_kindergeld_familien",
         "['kindern', 'kinderbetreuung', 'kindergeld', 'familien', 'kindergrundsicherung', 'alleinerziehend', 'erziehung', 'kinder', 'famili', 'famili beruf']",
         "['Kinder brauchen Kinder umso mehr angesicht Trend Kind Famili', 'Liberal Lebensgemeinschaften gleich wertvol denen Menschen Verantwortung füreinand übernehmen Eltern Kinder Kinder Eltern Ehe Lebenspartn füreinand', 'Famili']"
        ],
        [
         "2",
         "1",
         "3254",
         "1_arbeitsbedingungen_arbeitnehmerinnen arbeitnehm_arbeitsverhältniss_beschäftigungsverhältniss",
         "['arbeitsbedingungen', 'arbeitnehmerinnen arbeitnehm', 'arbeitsverhältniss', 'beschäftigungsverhältniss', 'arbeitsplätz', 'arbeitsrecht', 'gute arbeit', 'gesetzlichen mindestlohn', 'arbeitszeiten', 'ersten arbeitsmarkt']",
         "['Arbeit Prei gute Arbeitsbedingungen Arbeit gerecht entlohnt', 'Europa gelten gleich Lohn Arbeitsbedingungen gleich Arbeit gleichen Ort', 'dass Menschen ersten Arbeitsmarkt Arbeitsplätz']"
        ],
        [
         "3",
         "2",
         "2026",
         "2_erneuerbaren energien_erneuerbar energien_ausbau erneuerbaren_ausbau erneuerbar",
         "['erneuerbaren energien', 'erneuerbar energien', 'ausbau erneuerbaren', 'ausbau erneuerbar', 'energien gesetz', 'erneuerbaren', 'energieeinsparung', 'energieversorgung', 'energieträg', 'energiesparen']",
         "['Unterstützung Ausbau erneuerbar Energien sowi Netz grundsätzlich hoch immer mehr Unternehmen möchten erneuerbar Energien setzen', 'Ausbau erneuerbaren Energien einschränken', 'Erneuerbaren Energien Europa stärken treten EU Vertrag Erneuerbar Energien']"
        ],
        [
         "4",
         "3",
         "1986",
         "3_sozial wohnungsbau_sozialen wohnungsbaus_sozialen wohnungsbau_sozialwohnungen",
         "['sozial wohnungsbau', 'sozialen wohnungsbaus', 'sozialen wohnungsbau', 'sozialwohnungen', 'wohnungsbauförderung', 'wohnungsbaus', 'bezahlbar wohnungen', 'wohnungsbau', 'bezahlbaren wohnraum', 'mietwohnungen']",
         "['Ausreichend Wohnungen bezahlbaren Preisen gerad große bezahlbar Wohnungen Familien Kindern stehen Verfügung Wohnungsbau Vermiet wirtschaftlich interess', 'Neustart sozialen Wohnungsbau', 'bezahlbar Mieten sozialen Wohnungsbau Spekul Wohnraum stoppen']"
        ],
        [
         "5",
         "4",
         "1922",
         "4_geschlechtergerechtigkeit_feminismus_geschlechtergerecht_feministisch",
         "['geschlechtergerechtigkeit', 'feminismus', 'geschlechtergerecht', 'feministisch', 'geschlechtsspezifisch', 'gleichstellungspolitik', 'gleichberechtigung frauen', 'geschlechtern', 'geschlecht', 'männern']",
         "['gespalten Frauen Männern Frauen gleich gleichwertig Arbeit ungleichen Lohn bekommen', 'Chancengleichheit Frauen Männern', 'Real Gleichstellung Frauen Männern']"
        ],
        [
         "6",
         "5",
         "1599",
         "5_kindern jugendlichen_kinder jugendhilf_kinder jugendlichen_kinder jugendlich",
         "['kindern jugendlichen', 'kinder jugendhilf', 'kinder jugendlichen', 'kinder jugendlich', 'kinder jugendkriminalität', 'jugendhilfegesetz', 'jugendzentren', 'jugendschutz', 'jugendfreiwilligendienst', 'jugendlichen']",
         "['Recht Kindern Jugendlichen stärken', 'Kinder Jugendhilf Kinder Jugendlich Behinderung', 'gilt Kinder Jugendlich']"
        ],
        [
         "7",
         "6",
         "1427",
         "6_kultur kultur_kulturschaffenden_kulturschaffend_bildung kultur",
         "['kultur kultur', 'kulturschaffenden', 'kulturschaffend', 'bildung kultur', 'kunst kultur', 'kultur kunst', 'kulturförderung', 'kultur', 'kultur bildungspolitik', 'kulturellen']",
         "['Liberal Kulturpolitik daher Aufgab gemacht Freiheit Kunst Kultur garantieren Bürgern gleichberechtigt Teilhab Kultur ermöglichen', 'Menschen Zugang Kunst Kultur ermöglichen', 'Kultur']"
        ],
        [
         "8",
         "7",
         "1343",
         "7_krankenhäusern_krankenhäus_medizinisch pflegerisch_krankenkassen",
         "['krankenhäusern', 'krankenhäus', 'medizinisch pflegerisch', 'krankenkassen', 'gesundheitsförderung', 'medizinischen versorgung', 'patientinnen patienten', 'ärztlichen', 'medizinisch versorgung', 'medizinischen fortschritt']",
         "['Gesundheit', 'sorgt dafür dass Patientinnen Patienten gut versorgt schneller medizinischen Fortschritt profitieren', 'geht mehr Transparenz medizinischen Versorgung Stärkung Recht Patientinnen Patienten']"
        ],
        [
         "9",
         "8",
         "1246",
         "8_vorratsdatenspeicherung_personenbezogen daten_persönlichen daten_persönlich daten",
         "['vorratsdatenspeicherung', 'personenbezogen daten', 'persönlichen daten', 'persönlich daten', 'datenschutz', 'data', 'datenschutzbeauftragten', 'informationsfreiheitsgesetz', 'personenbezogen', 'informationell selbstbestimmung']",
         "['Freie Demokraten lehnen anlasslos Speicherung personenbezogen Daten ab', 'Schutz personenbezogen Daten muß gewährleistet', 'anlasslos Erhebung Speicherung personenbezogen Daten']"
        ],
        [
         "10",
         "9",
         "1127",
         "9_öffentlichen investitionen_öffentlich investitionen_privatisierung öffentlichen_privat investitionen",
         "['öffentlichen investitionen', 'öffentlich investitionen', 'privatisierung öffentlichen', 'privat investitionen', 'privat investoren', 'öffentlich infrastruktur', 'öffentlichen privaten', 'privaten öffentlichen', 'öffentlich privat', 'privat öffentlich']",
         "['leistungsfähig öffentlich Dienst Voraussetzung verlässlich öffentlich Infrastruktur öffentlich Daseinsvorsorg', 'Stichwort Investitionen ökologisch orientiert Investitionen Neuorientierung Verkehrspolitik öffentlichen Personennahverkehr Bahn stärkt steuerlich Förderung Energiesparinvestitionen Gebäuden betrieblichen Umweltinvestitionen Ausbau sozialen Wohnungsbaus Programm Arbeit Umwelt privat öffentlich Investitionen fördert', 'DM privat öffentlich Investitionen neuen Ländern getätigt']"
        ],
        [
         "11",
         "10",
         "1112",
         "10_landwirtschaft stärken_bäuerlichen landwirtschaft_landwirtschaftlichen_agrarwirtschaft",
         "['landwirtschaft stärken', 'bäuerlichen landwirtschaft', 'landwirtschaftlichen', 'agrarwirtschaft', 'landwirtschaft', 'landwirtschaftlich', 'nachhaltig landwirtschaft', 'deutschen landwirtschaft', 'landwirtinnen', 'deutsch landwirtschaft']",
         "['Landwirtschaft Deutschland Zukunft', 'nachhaltig Landwirtschaft', 'Landwirtschaft stärken']"
        ],
        [
         "12",
         "11",
         "1008",
         "11_europäischen union_europäisch union_europa grenzpfähl_europäisch einigung",
         "['europäischen union', 'europäisch union', 'europa grenzpfähl', 'europäisch einigung', 'europäischen einigung', 'europa europa', 'europa gemeinsam', 'zukunft europa', 'europa müssen', 'staaten europa']",
         "['Zukunftsfähig stark Europäisch Union', 'brauchen Europa Bürger Bürokraten Europa Grenzpfähl Schranken', 'Europäisch Union Grundlag Zusammenwachsen ganz Europa']"
        ],
        [
         "13",
         "12",
         "990",
         "12_bundesbahn_autobahnen_schienenverkehr_verkehrsweg",
         "['bundesbahn', 'autobahnen', 'schienenverkehr', 'verkehrsweg', 'bundesverkehrswegeplan', 'straßenverkehr', 'deutschen bundesbahn', 'verkehrsinfrastruktur', 'güterverkehr', 'deutsch bundesbahn']",
         "['Güterverkehr Straße Schien vorhanden Schifffahrtsweg verlagert', 'fördern wettbewerb leistungsfähigen Schienenverkehr setzen dafür mehr Verkehr Straße umweltfreundlich Schien verlagern', 'Bahn']"
        ],
        [
         "14",
         "13",
         "857",
         "13_steuern abgaben_versteuernden einkommen_steuerzahlerinnen steuerzahl_steuervergünstigungen",
         "['steuern abgaben', 'versteuernden einkommen', 'steuerzahlerinnen steuerzahl', 'steuervergünstigungen', 'steuereinnahmen', 'steueraufkommen', 'wenig steuern', 'steuerpflichtigen', 'spitzensteuersatz', 'bekämpfung steuerhinterziehung']",
         "['Dabei darf Belastung Steuern Abgaben sprunghaft steigen', 'Ziel erreichen Politik Verhältni Bund Ländern Länder Kommunen solidarischen Föderalismus stärkt Sanierung Bundeshaushalt Kosten öffentlichen Haushalt Ende setzt leistungsgerechten Einkommenssteuertarif real Existenzminimum Steuer befreit konsequent tatsächlich erzielt Einkommen erfasst erheblich Schieflag Lasten Alleinerziehend beseitigt Individualbesteuerung Abschaffung Ehegattensplit Ausgleich Einkommensverlusten unter mittler Einkommensgruppen sachgerecht Besteuerung Gewinnen Veräußerung Unternehmensanteilen Finanzanlagen Besteuerung Leistungsfähigkeit Rahmen Körperschaftssteu gewinnabhängig steigend Körperschaftssteuersätz stärkere Ausrichtung Unternehmensbesteuerung Finanzierung Liquiditätserfordernissen insbesonder kleiner mittler Unternehmen Einschränkung steuerlichen Gestaltungsmöglichkeiten Steuerschlupflöchern beispielsweis Mindestbesteuerung Gewinn Einkommen Abgaben Steuerreform höhere Beteiligung großen Vermögen Erbschaften Finanzierung öffentlich Aufgaben Förderung gemeinnützig Zweck sichert Vermögen Höhe üblicherweis selbstgenutzten Wohneigentum steuerfrei bleiben Ersetzung genannten Ökosteuer Primärenergiesteu deren Einnahmen insbesonder Ausbau Finanzierung öffentlichen Personennahverkehr ökologisch Investitionsprogramm eingesetzt Erweiterung ermäßigten Mehrwertsteuersatz beispielsweis apothekenpflichtig Medikament arbeitsintens Dienstleistungen Handwerk Anwendung erhöhter Mehrwertsteuersätz Luxusgüt konsequent Besteuerung Börsen Spekulationsgewinnen Einführung Tobinsteu Verbesserung personellen materiellen Möglichkeiten Finanzverwaltungen regelmäßiger Betriebsprüfungen gewährleisten Steuerhinterziehungen bekämpfen Geldpolitik deren politisch Zielsetzungen nation intern insbesonder Rahmen europäischen Union Lösung beschäftigungspolitisch sozial ökologisch Problem orientiert', 'Steuern Steuern wenig']"
        ],
        [
         "15",
         "14",
         "807",
         "14_digital souveränität_chancen digitalisierung_möglichkeiten digitalisierung_digital vernetzung",
         "['digital souveränität', 'chancen digitalisierung', 'möglichkeiten digitalisierung', 'digital vernetzung', 'zeitalt digitalisierung', 'digitalen zeitalt', 'digital anwendungen', 'digitalen wirtschaft', 'digitalisierung', 'digitalisierung nutzen']",
         "['Chancen digitalen Zeitalt', 'Digitalisierung Gesundheitswesen', 'Nutzen Chancen Digitalisierung']"
        ],
        [
         "16",
         "15",
         "805",
         "15_deutschland einwanderungsland_deutschen staatsangehörigkeit_migrantinnen migranten_deutsch staatsangehörigkeit",
         "['deutschland einwanderungsland', 'deutschen staatsangehörigkeit', 'migrantinnen migranten', 'deutsch staatsangehörigkeit', 'einwanderungsland', 'deutsch staatsbürgerschaft', 'deutschland kommen', 'einwanderungsgesetz', 'migrantinnen', 'deutschland leben']",
         "['Bundesrepublik Deutschland Einwanderungsland', 'Bundesrepublik Deutschland Einwanderungsland', 'Dafür treten Deutschland Einwanderungsland Darüber freuen Schon Vergangenheit Einwander Wirtschaftswund mitgestaltet unser Gesellschaft bereichert Zusammenleben offenen Gesellschaft setzt jedoch Bemühen Gemeinsamkeiten Toleranz Akzeptanz Beteiligten voraus Integrat unmöglich gemeinsam Sprach Akzeptanz republikanischen Wert unser Verfassung Deshalb Integrationskurs zentral Element stärken insbesonder frühzeitig Integrat Kindern verstärkt Blick nehmen Integrationskurs sollen Geduldet Asylbewerb ausgedehnt oft jahrelang Deutschland müssen daher Möglichkeit erhalten deutsch lernen Arbeit Sozialleben teilnehmen Einwanderungsrecht Fachkräften Chanc Arbeitsmarkt gibt Deutschland offen Talent Welt Willkommenskultur etablieren kluge Köpfe konkret aktiv werben begonnen Liberalisierung Einwanderung Fachkräften Einstieg modern Einwanderungsrecht fortsetzen streben Weiterentwicklung Arbeitssuchvisum klaren vollständigen Punktesystem Vorbild Kanada Australien dorthin bestehenden Gehaltsgrenzen Einwanderung absenken anfänglich Sprachbarrieren abbauen Hierzu unabhängig mittel langfristigen Förderung Deutsch Fremdsprach Englisch ergänzend Verkehr Arbeitssprach Bereichen öffentlichen Verwaltung gefördert etabliert gezielt Zuwanderung relev Arbeitserlaubnispflicht zudem rechtmäßigem Aufenthalt entfallen Analog Regelung Studenten Studium Deutschland kommen sollen Auszubildend Drittstaaten Lehr Deutschland absolvieren Aufenthaltstitel erhalten Integrat braucht Offenheit Integrationsbereitschaft Gesellschaft Liberal werben mehr Offenheit Toleranz Möglichkeit beschleunigten Einbürgerung vier Jahren grundsätzlich Zulassung doppelten Staatsbürgerschaft Partizipationsmöglichkeiten erleichtern Integrat daher setzen rechtmäßigen Mindestaufenthalt fünf Jahren Einführung kommunalen Ausländerwahlrecht gezielt fachlich geeignet Person Migrationshintergrund öffentlichen Dienst gewinnen Integrat unser Gesellschaft wichtig dass öffentlichen Dienst Kita Schulen Personen interkulturel Kompetenz tätig Vorbild prägen gerad Kinder Jugendlich positiv o Sprach Schlüssel Bildung Erfolg gesellschaftlich Integrat o daher Gebot Fürsorgepflicht Staat dafür sorgen dass Kind abgehängt o Sprachstandtest Kinder Alter vier Jahren Voraussetzung dafür dass gleichen Chancen o Bedarf gezielt Sprachförderung Schule sowi darüber hinausgehend unterrichtsbegleitend Sprachprogramm notwendig Eltern verstärkt aufklären befähigen Kinder unterstützen Programm kombinierten Sprachförderung Eltern Kindern zeigen vorbildlich Erfolg Angebot Kinder oftmal best Anknüpfungspunkt nachholenden Integrationsförderung Eltern Erst spät unser Gesellschaft Einsicht durchgesetzt dass Deutschland Einwanderungsland spät wurd neuen Mitbürgern echt Angebot gemacht offen Integrationspolitik betrieben Nachholend Integrat deshalb ebenso wichtig herausfordernd Aufgab Gesellschaft Politik besond gefordert Migranten teilweis bereit seit Jahrzehnten Land beim Integrationsprozess mitzunehmen verloren geben Dabei setzen bildung arbeitsmarktpolitisch Instrument suchen fordern offenen Dialog Bevölkerungsgruppen Religionsgemeinschaften religiösen Verbänd Institut aufgefordert grundsätzlich gesamten deutschsprachigen Bevölkerung gegenüb öffnen setzen vermehrt Einrichtung Lehrstühlen islamisch Theologi deutschen Hochschulen Ausbildung deutschsprachigen Imamen muslimischen Religionslehrern Akademi Islamstudien schaffen öffentlich Stellen Deutschland beraten Ausbildung muslimischen Geistlichen Religionslehrern Deutschland fördern Muslim Teil deutschen Gesellschaft Schulunterricht widerspiegeln selbstverständlich dass bekenntnisorientiert islamisch Religionsunterricht deutscher Sprach Schulen erteilt sofern generel Religionsunterricht staatlichen Schulen stattfindet Wertesystem Grundgesetz eingebettet setzen dafür dass Visa Vergab großzügig flexibl gehandhabt sollten dabei Ausländerbehörden Botschaften Abwehrbehörden verstehen vielmehr Aushängeschild Deutschland agieren Deutschland weltoffen Land zuletzt gute Wirtschaft flexibl Austausch Mitarbeitern Geschäftsreisenden unerlässlich Deutschland Bemühungen Verbesserung Flüchtlingsschutz international Ebene vergangenen Jahrzehnten unterstützt zählt zehn Hauptgeberländern UNHCR setzen Fortführung Resettl Programm UNHCR Jahr hinaus Asylbewerb sollen ersten Tag rechtmäßigen Aufenthalt arbeiten dürfen entspricht liberalen Selbstverständni dass Menschen gezwungen staatlich Leistungen Anspruch nehmen Möglichkeit Lebensunterhalt verdienen stichtagsunabhängig Bleiberecht Jugendlich Heranwachsend geschaffen deren Eltern profitieren Abstimmung Ländern generell stichtagsunabhängig Lösung vielen tausend Betroffenen gefunden bereit seit Jahren Deutschland leben absehbar bleiben Aufhebung Duldung absehbar Kettenduldungen abschaffen']"
        ],
        [
         "17",
         "16",
         "701",
         "16_grundsicherung alter_altersaufbau unser_altersaufbau_betrieblich altersvorsorg",
         "['grundsicherung alter', 'altersaufbau unser', 'altersaufbau', 'betrieblich altersvorsorg', 'altersversorgung', 'altersvorsorg', 'grundlegend strukturreform', 'gesetzlichen rentenversicherung', 'gesetzlich rentenversicherung', 'alterssicherung']",
         "['Altersaufbau unser Bevölkerung ändert mehr Rentner wenig Beitragszahl nächsten Legislaturperiod grundlegend Strukturreform vornehmen Renten nächste Gener sichern', 'Altersaufbau unser Bevölkerung ändert mehr Rentner wenig Beitragszahl nächsten Legislaturperiod grundlegend Strukturreform vornehmen Renten nächste Gener sichern', 'Altersaufbau unser Bevölkerung ändert mehr Rentner wenig Beitragszahl nächsten Legislaturperiod grundlegend Strukturreform vornehmen Renten nächste Gener sichern']"
        ],
        [
         "18",
         "17",
         "655",
         "17_politik cdu_koalit cdu_bundesregierung cdu_cdu regierten",
         "['politik cdu', 'koalit cdu', 'bundesregierung cdu', 'cdu regierten', 'deutschland cdu', 'europa cdu', 'cdu csu', 'csu cdu', 'politik', 'cdu']",
         "['CDU CSU stark Europa', 'CDU CSU bereit', 'CDU CSU Außenpolitik']"
        ],
        [
         "19",
         "18",
         "595",
         "18_sozial marktwirtschaft_sozialen marktwirtschaft_marktwirtschaft_wirtschaftlich sozial",
         "['sozial marktwirtschaft', 'sozialen marktwirtschaft', 'marktwirtschaft', 'wirtschaftlich sozial', 'wirtschaftlichen gesellschaftlichen', 'ökonomisch', 'volkswirtschaft', 'volkswirtschaftlich', 'wirtschaftlich', 'wirtschaftlich wachstum']",
         "['stark Sozial Marktwirtschaft', 'Sozial Marktwirtschaft', 'Wirtschaft']"
        ],
        [
         "20",
         "19",
         "574",
         "19_kirchen religionsgemeinschaften_religion weltanschauungsgemeinschaften_religionsgemeinschaften_kirchen religion",
         "['kirchen religionsgemeinschaften', 'religion weltanschauungsgemeinschaften', 'religionsgemeinschaften', 'kirchen religion', 'christlichen kirchen', 'gewerkschaften kirchen', 'kirchlichen', 'kirchlichen einrichtungen', 'religionsfreiheit', 'wohlfahrtsverbänden kirchen']",
         "['Religionsfreiheit Gleichbehandlung Kirchen Religion Weltanschauungsgemeinschaften', 'Christlich Kirchen Religionsgemeinschaften', 'Kirchen Religionsgemeinschaften']"
        ],
        [
         "21",
         "20",
         "541",
         "20_unsere demokrati_bereichern demokrati_demokrati demokrati_unser demokrati",
         "['unsere demokrati', 'bereichern demokrati', 'demokrati demokrati', 'unser demokrati', 'demokratisieren demokrati', 'demokrati gehört', 'demokraten', 'demokrati stärken', 'demokrati', 'lebendig demokrati']",
         "['Demokrati lebt Vertrauen', 'Direkt Demokrati stärken', 'Demokrati']"
        ],
        [
         "22",
         "21",
         "523",
         "21_umfassend gemeindefinanzreform_gemeindefinanzen_gemeindefinanzreform_bundesanstalt finanzdienstleistungsaufsicht",
         "['umfassend gemeindefinanzreform', 'gemeindefinanzen', 'gemeindefinanzreform', 'bundesanstalt finanzdienstleistungsaufsicht', 'länder finanzbeziehungen', 'finanzverfassung', 'aufgabengerecht finanzausstattung', 'finanzausstattung kommunen', 'finanzkraft kommunen', 'finanzausgleich']",
         "['Daher müssen diejenigen Kitaplätz bereitstellen insbesonder Kommunen angemessen finanziel ausstatten', 'besond Finanzbeziehungen Bund Ländern innerhalb Bundesländ Ländern Kommunen neu ordnen', 'treten dafür dass Bund Länder Verantwortung gegenüb kommunalen Ebene gerecht gemeinsam Verlässlichkeit Finanzausstattung Kommunen sichern']"
        ],
        [
         "23",
         "22",
         "518",
         "22_schuldenbremsen_schuldenbrems_schuldenaufnahm_schuldenabbau",
         "['schuldenbremsen', 'schuldenbrems', 'schuldenaufnahm', 'schuldenabbau', 'schulden', 'schuldenkris', 'schuldenlast', 'verschuldeten', 'eigenen schulden', 'schuldenstaat']",
         "['Milliarden Euro wenig Schulden', 'Schulden', 'Schuldenbrems']"
        ],
        [
         "24",
         "23",
         "509",
         "23_politik rechnen_politik politik_unsere politik_unser politik",
         "['politik rechnen', 'politik politik', 'unsere politik', 'unser politik', 'politikverdrossenheit', 'politik', 'politik stellen', 'aufgab politik', 'politik mitt', 'politik umzusetzen']",
         "['Politik rechnen', 'Aufgab Politik', 'Erfolg unser Politik']"
        ],
        [
         "25",
         "24",
         "509",
         "24_klimaschutz_klimaschutzziel_schutz klima_klima schützen",
         "['klimaschutz', 'klimaschutzziel', 'schutz klima', 'klima schützen', 'klima schaffen', 'klimaveränderungen', 'klimaabkommen', 'klimaneutr', 'klimawandel', 'klimaneutral']",
         "['Vorreit beim Klimaschutz', 'Klima', 'Klimawandel']"
        ],
        [
         "26",
         "25",
         "489",
         "25_grundgesetz_unser grundgesetz_auftrag grundgesetz_verfassungsmäßig garantierten",
         "['grundgesetz', 'unser grundgesetz', 'auftrag grundgesetz', 'verfassungsmäßig garantierten', 'wohnen grundgesetz', 'verfassungswidrig', 'verfassungsschutz', 'grundrecht', 'rechtsstaatlichkeit', 'gesetzgebung']",
         "['Enteignung Sozialisierungsbestimmungen Grundgesetz Grundgesetz sieht Artikel Absatz Enteignung Wohl Allgemeinheit zulässig Gesetz Grund Gesetz erfolgen darf Art Ausmaß Entschädigung regelt', 'Grundgesetz', 'Grundgesetz']"
        ],
        [
         "27",
         "26",
         "474",
         "26_osten westen_west ostdeutschland_ost westdeutschland_ost west",
         "['osten westen', 'west ostdeutschland', 'ost westdeutschland', 'ost west', 'west ost', 'westen', 'westdeutschen', 'westdeutschland', 'west', 'westen deutschland']",
         "['Stadt Land Ost West', 'Abrüstung Ost West', 'X Gleichwertig Lebensverhältniss Ost West']"
        ],
        [
         "28",
         "27",
         "472",
         "27_sport sport_sport_sport treiben_sportlichen",
         "['sport sport', 'sport', 'sport treiben', 'sportlichen', 'sportförderung', 'sportarten', 'sportplätz', 'fördern sport', 'sport fördern', 'sportverbänd']",
         "['Sport', 'X Sport', 'Sport']"
        ],
        [
         "29",
         "28",
         "438",
         "28_fdp partei_fdp setzt_setzt fdp_fdp legt",
         "['fdp partei', 'fdp setzt', 'setzt fdp', 'fdp legt', 'fdp ändern', 'fdp lehnt', 'fdp steht', 'lehnt fdp', 'fdp versteht', 'fdp fdp']",
         "['FDP setzt dafür Forschung gezielt fördern', 'FDP setzt Stärkung Kinderrecht', 'FDP setzt Finanzierungsneutralität']"
        ],
        [
         "30",
         "29",
         "429",
         "29_umweltschädlichen_umweltschädlich_umweltschädlich subventionen_umweltschäden",
         "['umweltschädlichen', 'umweltschädlich', 'umweltschädlich subventionen', 'umweltschäden', 'umweltschädlichen subventionen', 'umweltvorsorg', 'umweltschutz', 'arbeit umwelt', 'umweltfreundlich verhalten', 'umweltbelastend']",
         "['Abfall Maßnahmenbündel Vermeidung Verwertung Abfällen gefordert Verringerung Abfallaufkommen Verpackungen möglichst Wege freiwillig Vereinbarungen Industri', 'Arbeit Umwelt', 'Ziel Abfallvermeidung umfaßt insbesonder Lenkungsmaßnahmen Abbau Mehrfachverpackungen Einwegmaterialien schon Entwicklung Herstellung Produkten darauf achten möglichst gleichen Stoffen bestehen Teil unterschiedlichen Stoffen leicht trennen lassen leicht schadlo wiederverwerten beseitigen lassen konsequent Einführung Rücknahm Verwertung bzw']"
        ],
        [
         "31",
         "30",
         "407",
         "30_wählerinnen wähler_wählerin lieber_lieber wähler_wählerinnen",
         "['wählerinnen wähler', 'wählerin lieber', 'lieber wähler', 'wählerinnen', 'lieb wähler', 'lieb wählerin', 'kandidatinnen kandidaten', 'wähler', 'wählerin', 'dauerwahlkampf']",
         "['Deshalb treten Zuversicht Wählerinnen Wähler', 'Deshalb treten Zuversicht Wählerinnen Wähler', 'fordern Wählerinnen Wähler']"
        ],
        [
         "32",
         "31",
         "390",
         "31_kriminalität bekämpfen_organisierten kriminalität_organisiert kriminalität_ursachen kriminalität",
         "['kriminalität bekämpfen', 'organisierten kriminalität', 'organisiert kriminalität', 'ursachen kriminalität', 'strafverfolgungsbehörden', 'kriminalität', 'entkriminalisierung', 'wirtschaftskriminalität', 'alltagskriminalität', 'strafverfahren auszusagen']",
         "['Wirtschaftskriminalität Organisiert Kriminalität bekämpfen Gleich Recht', 'Organisiert Kriminalität bekämpfen', 'Organisiert Kriminalität bekämpfen']"
        ],
        [
         "33",
         "32",
         "382",
         "32_natur artenvielfalt_biodiversität_schutz biologischen_natur artenschutz",
         "['natur artenvielfalt', 'biodiversität', 'schutz biologischen', 'natur artenschutz', 'biodiversitätsstrategi', 'natur schützen', 'nationalen biodiversitätsstrategi', 'artenvielfalt', 'schutz natur', 'biologischen vielfalt']",
         "['Schutz Natur Artenvielfalt', 'Biologisch Vielfalt Tier Ressourcen schützen', 'Schutz biologischen Vielfalt']"
        ],
        [
         "34",
         "33",
         "377",
         "33_grundrecht asyl_asylrechtsverschärfungen_asyl politisch_asylgrundrecht",
         "['grundrecht asyl', 'asylrechtsverschärfungen', 'asyl politisch', 'asylgrundrecht', 'asylrecht verteidigen', 'politisch asyl', 'asylpolitik', 'asylrecht', 'menschenrecht asyl', 'asylbewerberleistungsgesetz residenzpflicht']",
         "['Grundrecht Asyl wiederherstellen', 'Freie Demokraten Grundrecht Asyl politisch Verfolgt unantastbar', 'Asyl']"
        ],
        [
         "35",
         "34",
         "377",
         "34_bundesregierung dafür_spd regierungsmannschaft_geführt bundesregierung_regierungsverantwortung spd",
         "['bundesregierung dafür', 'spd regierungsmannschaft', 'geführt bundesregierung', 'regierungsverantwortung spd', 'geführten bundesregierung', 'bundesregierung', 'spd politik', 'politik spd', 'regierungsfähig', 'spd steht']",
         "['SPD geführt Bundesregierung setzt Stärken ländlichen Raum', 'SPD geführt Bundesregierung gemeinsam Mehrheit SPD geführten Länder Bundesrat dafür sorgen solidarisch Hilf Ostdeutschland fortgeführt', 'SPD geführt Bundesregierung dafür sorgen Sozialabgaben gesenkt']"
        ],
        [
         "36",
         "35",
         "369",
         "35_tierschutz verbessern_artgerecht tierhaltung_tierhaltung_neue tierschutzgesetz",
         "['tierschutz verbessern', 'artgerecht tierhaltung', 'tierhaltung', 'neue tierschutzgesetz', 'reduzierung tierversuchen', 'tierschutzgesetz', 'umwelt tieren', 'tierschutz grundgesetz', 'wildlebend tier', 'lebenden tieren']",
         "['Tierschutz verbessern Reform Tierschutzgesetz', 'Tierschutz verbessern', 'Tierhaltung Transport lebend Tier Tierschutz Interess Erzeuger entscheidend verbessern']"
        ],
        [
         "37",
         "36",
         "357",
         "36_unsere gesellschaft_unser gesellschaft_zusammenhalt gesellschaft_gesellschaft",
         "['unsere gesellschaft', 'unser gesellschaft', 'zusammenhalt gesellschaft', 'gesellschaft', 'gesellschaft dabei', 'mitt gesellschaft', 'gesellschaftlichen zusammenhalt', 'solidarisch gesellschaft', 'beitrag gesellschaftlichen', 'gesellschaften']",
         "['Fundament unser Gesellschaft', 'Leistungsträg unser Gesellschaft', 'Zusammenhalt unser Gesellschaft']"
        ],
        [
         "38",
         "37",
         "351",
         "37_soldatinnen soldaten_bundeswehr bundeswehr_militärischen_militärisch",
         "['soldatinnen soldaten', 'bundeswehr bundeswehr', 'militärischen', 'militärisch', 'einsatzbereitschaft bundeswehr', 'zivildienst', 'bundeswehr', 'dienst bundeswehr', 'bundeswehr einsatz', 'grundwehrdienst']",
         "['Bundeswehr leistet Soldatinnen Soldaten unverzichtbaren Beitrag', 'Dafür treten Bundeswehr bleibt Parlamentsarme Beginn Einsätzen Krisengebieten müssen politischen Ziel Zeitlinien sowi Exit Strategi klar formuliert Dauer Einsatz fortzuschreiben Aussetzung Wehrpflicht verbundenen Umbau Bundeswehr Freiwilligenarme echt Meilenstein bezüglich Aufbaus inneren Verfasstheit Bundeswehr gesetzt Gleichzeitig setzen dafür dass bedeutend Arbeit Bundeswehr Anerkennung Öffentlichkeit erfährt Wertschätzung anspruchsvollen gefährlichen Dienst unser Soldaten gerad Armee Einsatz überragend Bedeutung notwendig Akzeptanz Bevölkerung entsprechend Repräsentanz Fläche erreichen Attraktivität Dienst steigern Gehaltshöh Qualität Infrastruktur Weiterbildungsmöglichkeiten Versetzungshäufigkeit Versorgung Fall Verwundung sowi Vereinbarkeit Dienst Famili dabei wesentlich Faktoren Einsatzfähigkeit Bundeswehr entsprechend Finanzierung sicher gestellt Auslandseinsätz dürfen dabei Lasten laufenden Etat Verteidigungsministerium gehen NATO bleibt Zukunft stärkster Anker unser gemeinsamen Sicherheitspolitik bedeutenden internationalen Frieden Sicherheitsorganisationen UNO OSZE Europarat EU müssen Handlungsfähigkeit fortlaufend gestärkt Gleichzeitig Etablierung allgemein anerkannt Normen Regeln internationalen System intensiver Kooper Bereich Sicherheitsund Verteidigungspolitik einsetzen Schaffung gemeinsam Strukturen sollen langfristig Voraussetzungen europäisch Streitkräft parlamentarisch Kontroll geschaffen gemeinsam sicherheitspolitisch Verständni geschaffen Ausgleich rüstungspolitisch Interessen herbeigeführt o Angesicht Komplexität neuer Herausforderungen ständige Schaltstell Ebene Bundesregierung Informationsaustausch Koordinierung militärischen zivilen Maßnahmen Bereichen Außen Sicherheitspolitik sowi Vorbeugung Reaktion national international Katastrophen Krisen einrichten o Auswärtig Amt bietet Grundlag Struktur o Dabei neben Lageanalys vernetzt Ansatz Wahrung Ressortverantwortlichkeit gewährleistet gestärkt o Außerdem parlamentarisch Kontroll Beteiligung Parlament jederzeit sichergestellt national Sicherheitsstrategi Beitrag EU Sicherheitsstrategi entwickeln regelmäßig fortschreiben Formulierung regelmäßig öffentlich Diskuss Strategi gelingen breiten Öffentlichkeit Bewusstsein Verständni sicherheitspolitisch Themen schaffen offenen toleranten Bürgergesellschaft Sicherheitspolitik mehr Thema wenig Spezialisten Dabei gilt politischen Auftrag Bundeswehr stet klar formulieren entsprechend Struktur Rechtssicherheit Streitkräft abzuleiten Dabei Schutz territorialen Integrität Deutschland Auftrag Trennung Zuständigkeiten Bundeswehr Polizei erhalten bleiben setzen parlamentarisch Gremium vollumfänglichen Auskunftsrechten Entscheidungen Bundessicherheitsrat kontrolliert vergleichbar Verfahren Kontroll Geheimdienst Rüstungsexportbericht künftig zeitnah direkten Anschluss Berichtszeitraum veröffentlicht Kontroll weiteren Verbleib Verwendung exportiert Waffen Rüstungsgüter auszubauen Rüstungskontroll neue Technologien modernen Kriegsführung Beispiel Spionagesoftwar auszuweiten Rahmen zivilen Krisenprävent beim Wiederaufbau staatlich Strukturen Krise legen Schwerpunkt Stärkung Aufbaus zivilen Fähigkeiten Verwaltung Justiz Polizei Darüber hinaus sollten Instrument Entwicklungszusammenarbeit Aufbau wirtschaftlich Partnerschaften polizeilich rechtsstaatlich Zusammenarbeit sowi Förderung grenzüberschreitend Zusammenarbeit Konflikt Krisenprävent Sinn kohärenten Politikansatz gestärkt Ziel Stärkung nuklearen radiologischen chemischen biologischen sowi konventionellen Kontrol Nichtverbreitungsregim universell Anwendung internationalen Vertragsregim Verhaltenskod erklärt Ziel Speziel Rahmen nuklearen Rüstungskontroll setzen konsequ umfassend Stärkung nuklearen Nichtverbreitungsvertrag Inkrafttreten Teststoppvertrag Darüber hinaus neue Wege gehen bisherigen Konventionen hinaus weltweit Abrüstung voranzutreiben Beispiel aktiv Beitritt Nichtvertragsstaaten Biowaffen sowi Chemiewaffenverbotsübereinkommen werben Ziel Abzug taktisch Nuklearwaffen Europa halten fest eingeleitet Übergab Verantwortung Regierung Afghanistan Abzug Kampftruppen fortsetzen Datum hinaus Menschen Afghanistan beim Aufbau Land Rahmen Entwicklungszusammenarbeit wirksam unterstützen', 'Bundeswehr']"
        ],
        [
         "39",
         "38",
         "341",
         "38_polizeieinsätz_polizei strafverfolgungsbehörden_bürgernah polizei_polizeilichen",
         "['polizeieinsätz', 'polizei strafverfolgungsbehörden', 'bürgernah polizei', 'polizeilichen', 'präsenz polizei', 'bereich polizei', 'polizeibeamten', 'polizei', 'justiz polizei', 'bundespolizei']",
         "['Polizei stärken', 'Polizei', 'bürgernah Polizei']"
        ],
        [
         "40",
         "39",
         "329",
         "39_europa nordamerika_nordatlantischen_russischen_nato russland",
         "['europa nordamerika', 'nordatlantischen', 'russischen', 'nato russland', 'ukrain', 'union weu', 'nordamerika', 'vereinten nationen', 'militärisch', 'sowjetunion']",
         "['Bekenntni NATO', 'Deshalb setzen Dialog NATO Russland Rat', 'europäischen Pfeiler NATO stärken']"
        ],
        [
         "41",
         "40",
         "322",
         "40_freiheit sicherheit_schutz freiheit_sicherheit freiheit_freiheit freiheit",
         "['freiheit sicherheit', 'schutz freiheit', 'sicherheit freiheit', 'freiheit freiheit', 'sichert freiheit', 'freiheit verantwortung', 'gewissensfreiheit', 'freiheit schützen', 'gewährleisten freiheit', 'freiheit menschen']",
         "['Freiheit Verantwortung', 'Menschen Freiheit Sicherheit', 'Freiheit Sicherheit']"
        ],
        [
         "42",
         "41",
         "317",
         "41_behinderten menschen_behindert menschen_behinderungen menschen_behindert nichtbehindert",
         "['behinderten menschen', 'behindert menschen', 'behinderungen menschen', 'behindert nichtbehindert', 'menschen behinderungen', 'behindertengerecht', 'behindertenrechtskonvent', 'behinderung menschen', 'menschen behinderung', 'behindertenrecht']",
         "['Diskriminierung Menschen Behinderungen überwinden Menschen Behinderungen sollen selbstbestimmt Leben gestalten', 'Menschen Behinderungen', 'Gleichberechtigt Teilhab Menschen Behinderungen']"
        ],
        [
         "43",
         "42",
         "311",
         "42_zukunft zukunft_herausforderungen zukunft_künftig_weichen zukunft",
         "['zukunft zukunft', 'herausforderungen zukunft', 'künftig', 'weichen zukunft', 'sorgen zukunft', 'zukunft bewältigen', 'mut zukunft', 'gegenwart zukunft', 'unsere zukunft', 'zukunft']",
         "['Zukunft', 'Zukunft', 'Zukunft']"
        ],
        [
         "44",
         "43",
         "310",
         "43_drogenkriminalität_illegalen drogen_illegal drogen_illegalen drogenhandel",
         "['drogenkriminalität', 'illegalen drogen', 'illegal drogen', 'illegalen drogenhandel', 'drogenkonsumentinnen', 'rauschgifthandel', 'drug', 'wend drogenpolitik', 'drogen alkohol', 'drogenkonsum']",
         "['Jahren Krieg Drogen breiten Anbau Konsum illegal Drogen weltweit', 'verantwortlich Drogenpolitik müssen legalen Drogen Beispiel Alkohol Tabak sowi illegalen Drogen stoffgebundenen Süchte Glücksspiel gleichermaßen einbezogen', 'Drogen']"
        ],
        [
         "45",
         "44",
         "307",
         "44_banken unternehmen_bankenregulierung_banklizenz_kontroll banken",
         "['banken unternehmen', 'bankenregulierung', 'banklizenz', 'kontroll banken', 'bankenaufsicht', 'banken sollen', 'banken konzern', 'bundesbank', 'europäisch bankenunion', 'banken müssen']",
         "['Insbesonder Verringerung Bankenkonzentr Entflechtung Banken Banken Unternehmen Verstärkung Bankenaufsicht führt stärkeren demokratischen Kontroll Banken', 'Banken regulieren Banken geschehen', 'Banken regulieren Banken geschehen']"
        ],
        [
         "46",
         "45",
         "305",
         "45_rot grüne_rot grünen_rot grün_grün regierten",
         "['rot grüne', 'rot grünen', 'rot grün', 'grün regierten', 'grün wählt', 'grün arbeitslosenquot', 'wer grün', 'grün verloren', 'ziel grüner', 'grüne']",
         "['Wer Grün wählt stimmt grünen Neuen Gesellschaftsvertrag', 'stehen schwere Erbe Rot Grün Jahr Rot Grün Deutschland tief Krise gestürzt', 'Rot Grün Chanc']"
        ],
        [
         "47",
         "46",
         "287",
         "46_gehört pflichten_selbständigkeit gehört_braucht umfassend_pflichten betraut",
         "['gehört pflichten', 'selbständigkeit gehört', 'braucht umfassend', 'pflichten betraut', 'entwickelnden suchverfahren', 'betraut gefordert', 'förderlücken müssen', 'selbständigkeit', 'inklusion darf', 'abhängig gemacht']",
         "['Dafür braucht umfassend Mitsprach Klagerecht Phasen entwickelnden Suchverfahren', 'Selbständigkeit gehört Pflichten betraut gefordert', 'Selbständigkeit gehört Pflichten betraut gefordert']"
        ],
        [
         "48",
         "47",
         "276",
         "47_demokrati freiheit_freie demokraten_freien demokraten_freiheitlich demokrati",
         "['demokrati freiheit', 'freie demokraten', 'freien demokraten', 'freiheitlich demokrati', 'freiheit demokrati', 'freiheitlich demokratisch', 'freie demokratisch', 'freiheitlich demokratischen', 'liberal demokrati', 'demokraten fordern']",
         "['Freie Demokraten bekennen Netzneutralität', 'Freie Demokraten fordern mehr Barrierefreiheit', 'Freie Demokraten']"
        ],
        [
         "49",
         "48",
         "263",
         "48_gesund nahrungsmittel_gesund ernährung_gesund lebensmittel_gute ernährung",
         "['gesund nahrungsmittel', 'gesund ernährung', 'gesund lebensmittel', 'gute ernährung', 'ernährung', 'hochwertig nahrungsmittel', 'kennzeichnung lebensmitteln', 'sicher lebensmittel', 'lebensmittel', 'lebensmittelsicherheit']",
         "['Gesund Lebensmittel heimisch Produkt fördern', 'Gesund Ernährung', 'Sicher Lebensmittel klare Kennzeichnung gesund Ernährung zentral']"
        ]
       ],
       "shape": {
        "columns": 5,
        "rows": 214
       }
      },
      "text/html": [
       "<div>\n",
       "<style scoped>\n",
       "    .dataframe tbody tr th:only-of-type {\n",
       "        vertical-align: middle;\n",
       "    }\n",
       "\n",
       "    .dataframe tbody tr th {\n",
       "        vertical-align: top;\n",
       "    }\n",
       "\n",
       "    .dataframe thead th {\n",
       "        text-align: right;\n",
       "    }\n",
       "</style>\n",
       "<table border=\"1\" class=\"dataframe\">\n",
       "  <thead>\n",
       "    <tr style=\"text-align: right;\">\n",
       "      <th></th>\n",
       "      <th>Topic</th>\n",
       "      <th>Count</th>\n",
       "      <th>Name</th>\n",
       "      <th>Representation</th>\n",
       "      <th>Representative_Docs</th>\n",
       "    </tr>\n",
       "  </thead>\n",
       "  <tbody>\n",
       "    <tr>\n",
       "      <th>0</th>\n",
       "      <td>-1</td>\n",
       "      <td>38779</td>\n",
       "      <td>-1_sicherheit_demokratisch_demokrati_sozial</td>\n",
       "      <td>[sicherheit, demokratisch, demokrati, sozial, ...</td>\n",
       "      <td>[müssen entscheiden mutig anpacken sozial ökol...</td>\n",
       "    </tr>\n",
       "    <tr>\n",
       "      <th>1</th>\n",
       "      <td>0</td>\n",
       "      <td>8594</td>\n",
       "      <td>0_kindern_kinderbetreuung_kindergeld_familien</td>\n",
       "      <td>[kindern, kinderbetreuung, kindergeld, familie...</td>\n",
       "      <td>[Kinder brauchen Kinder umso mehr angesicht Tr...</td>\n",
       "    </tr>\n",
       "    <tr>\n",
       "      <th>2</th>\n",
       "      <td>1</td>\n",
       "      <td>3254</td>\n",
       "      <td>1_arbeitsbedingungen_arbeitnehmerinnen arbeitn...</td>\n",
       "      <td>[arbeitsbedingungen, arbeitnehmerinnen arbeitn...</td>\n",
       "      <td>[Arbeit Prei gute Arbeitsbedingungen Arbeit ge...</td>\n",
       "    </tr>\n",
       "    <tr>\n",
       "      <th>3</th>\n",
       "      <td>2</td>\n",
       "      <td>2026</td>\n",
       "      <td>2_erneuerbaren energien_erneuerbar energien_au...</td>\n",
       "      <td>[erneuerbaren energien, erneuerbar energien, a...</td>\n",
       "      <td>[Unterstützung Ausbau erneuerbar Energien sowi...</td>\n",
       "    </tr>\n",
       "    <tr>\n",
       "      <th>4</th>\n",
       "      <td>3</td>\n",
       "      <td>1986</td>\n",
       "      <td>3_sozial wohnungsbau_sozialen wohnungsbaus_soz...</td>\n",
       "      <td>[sozial wohnungsbau, sozialen wohnungsbaus, so...</td>\n",
       "      <td>[Ausreichend Wohnungen bezahlbaren Preisen ger...</td>\n",
       "    </tr>\n",
       "    <tr>\n",
       "      <th>...</th>\n",
       "      <td>...</td>\n",
       "      <td>...</td>\n",
       "      <td>...</td>\n",
       "      <td>...</td>\n",
       "      <td>...</td>\n",
       "    </tr>\n",
       "    <tr>\n",
       "      <th>209</th>\n",
       "      <td>208</td>\n",
       "      <td>21</td>\n",
       "      <td>208_verbraucherschutzverbänd sollen_fördert ve...</td>\n",
       "      <td>[verbraucherschutzverbänd sollen, fördert verb...</td>\n",
       "      <td>[Verbraucherschutzverbänd sollen finanziel bes...</td>\n",
       "    </tr>\n",
       "    <tr>\n",
       "      <th>210</th>\n",
       "      <td>209</td>\n",
       "      <td>21</td>\n",
       "      <td>209_arbeitsmarkt steuerreform_steuerreform ent...</td>\n",
       "      <td>[arbeitsmarkt steuerreform, steuerreform entbü...</td>\n",
       "      <td>[Tourismus wichtig Wirtschaftsfaktor Klein mit...</td>\n",
       "    </tr>\n",
       "    <tr>\n",
       "      <th>211</th>\n",
       "      <td>210</td>\n",
       "      <td>21</td>\n",
       "      <td>210_verbesserung umweltpolitik_umweltpolitik s...</td>\n",
       "      <td>[verbesserung umweltpolitik, umweltpolitik stä...</td>\n",
       "      <td>[unser Aufgab natürlichen Lebensbedingungen mi...</td>\n",
       "    </tr>\n",
       "    <tr>\n",
       "      <th>212</th>\n",
       "      <td>211</td>\n",
       "      <td>21</td>\n",
       "      <td>211_hoheitsverwaltung muß_möchten gesellschaft...</td>\n",
       "      <td>[hoheitsverwaltung muß, möchten gesellschaftli...</td>\n",
       "      <td>[GRÜNE möchten gesellschaftlichen Zwang Immer ...</td>\n",
       "    </tr>\n",
       "    <tr>\n",
       "      <th>213</th>\n",
       "      <td>212</td>\n",
       "      <td>20</td>\n",
       "      <td>212_lehnen zweiklassenmedizin_zweiklassenmediz...</td>\n",
       "      <td>[lehnen zweiklassenmedizin, zweiklassenmedizin...</td>\n",
       "      <td>[Zwei Klassen Medizin geben Qualität sichern s...</td>\n",
       "    </tr>\n",
       "  </tbody>\n",
       "</table>\n",
       "<p>214 rows × 5 columns</p>\n",
       "</div>"
      ],
      "text/plain": [
       "     Topic  Count                                               Name  \\\n",
       "0       -1  38779        -1_sicherheit_demokratisch_demokrati_sozial   \n",
       "1        0   8594      0_kindern_kinderbetreuung_kindergeld_familien   \n",
       "2        1   3254  1_arbeitsbedingungen_arbeitnehmerinnen arbeitn...   \n",
       "3        2   2026  2_erneuerbaren energien_erneuerbar energien_au...   \n",
       "4        3   1986  3_sozial wohnungsbau_sozialen wohnungsbaus_soz...   \n",
       "..     ...    ...                                                ...   \n",
       "209    208     21  208_verbraucherschutzverbänd sollen_fördert ve...   \n",
       "210    209     21  209_arbeitsmarkt steuerreform_steuerreform ent...   \n",
       "211    210     21  210_verbesserung umweltpolitik_umweltpolitik s...   \n",
       "212    211     21  211_hoheitsverwaltung muß_möchten gesellschaft...   \n",
       "213    212     20  212_lehnen zweiklassenmedizin_zweiklassenmediz...   \n",
       "\n",
       "                                        Representation  \\\n",
       "0    [sicherheit, demokratisch, demokrati, sozial, ...   \n",
       "1    [kindern, kinderbetreuung, kindergeld, familie...   \n",
       "2    [arbeitsbedingungen, arbeitnehmerinnen arbeitn...   \n",
       "3    [erneuerbaren energien, erneuerbar energien, a...   \n",
       "4    [sozial wohnungsbau, sozialen wohnungsbaus, so...   \n",
       "..                                                 ...   \n",
       "209  [verbraucherschutzverbänd sollen, fördert verb...   \n",
       "210  [arbeitsmarkt steuerreform, steuerreform entbü...   \n",
       "211  [verbesserung umweltpolitik, umweltpolitik stä...   \n",
       "212  [hoheitsverwaltung muß, möchten gesellschaftli...   \n",
       "213  [lehnen zweiklassenmedizin, zweiklassenmedizin...   \n",
       "\n",
       "                                   Representative_Docs  \n",
       "0    [müssen entscheiden mutig anpacken sozial ökol...  \n",
       "1    [Kinder brauchen Kinder umso mehr angesicht Tr...  \n",
       "2    [Arbeit Prei gute Arbeitsbedingungen Arbeit ge...  \n",
       "3    [Unterstützung Ausbau erneuerbar Energien sowi...  \n",
       "4    [Ausreichend Wohnungen bezahlbaren Preisen ger...  \n",
       "..                                                 ...  \n",
       "209  [Verbraucherschutzverbänd sollen finanziel bes...  \n",
       "210  [Tourismus wichtig Wirtschaftsfaktor Klein mit...  \n",
       "211  [unser Aufgab natürlichen Lebensbedingungen mi...  \n",
       "212  [GRÜNE möchten gesellschaftlichen Zwang Immer ...  \n",
       "213  [Zwei Klassen Medizin geben Qualität sichern s...  \n",
       "\n",
       "[214 rows x 5 columns]"
      ]
     },
     "execution_count": 32,
     "metadata": {},
     "output_type": "execute_result"
    }
   ],
   "source": [
    "topic_model.get_topic_info()\n"
   ]
  },
  {
   "cell_type": "code",
   "execution_count": null,
   "metadata": {},
   "outputs": [],
   "source": [
    "len(topic_model.get_topic(25))"
   ]
  },
  {
   "cell_type": "code",
   "execution_count": null,
   "metadata": {},
   "outputs": [],
   "source": [
    "\n",
    "# Erstelle das `topics_over_time`-Objekt\n",
    "topics_over_time = topic_model.topics_over_time(df_manifesto[\"text\"], df_manifesto[\"date\"])\n",
    "#topic_model = BERTopic(representation_model=KeyBERTInspired())\n"
   ]
  },
  {
   "cell_type": "code",
   "execution_count": null,
   "metadata": {},
   "outputs": [],
   "source": [
    "# Save topics_over_time to a file\n",
    "with open(\"topics_over_time.pkl\", \"wb\") as f:\n",
    "    pickle.dump(topics_over_time, f)"
   ]
  },
  {
   "cell_type": "code",
   "execution_count": 38,
   "metadata": {},
   "outputs": [],
   "source": [
    "\n",
    "# Method 1 - safetensors\n",
    "topic_model.save(file_path, serialization=\"safetensors\", save_ctfidf=True, save_embedding_model=embedding_model_multilingual2)\n",
    "\n",
    "# Method 2 - pytorch\n",
    "#topic_model.save(file_path, serialization=\"pytorch\", save_ctfidf=True, save_embedding_model=embedding_model)\n",
    "\n",
    "# Method 3 - pickle\n",
    "#topic_model.save(\"bertopic_model.pkl\")\n",
    "\n"
   ]
  },
  {
   "cell_type": "code",
   "execution_count": 39,
   "metadata": {},
   "outputs": [],
   "source": [
    "# Save the topics to a pickle file\n",
    "with open('topics.pkl', 'wb') as f:\n",
    "\tpickle.dump(topics, f)\n",
    "\n",
    "# Save the probabilities to a pickle file\n",
    "with open('probs.pkl', 'wb') as f:\n",
    "\tpickle.dump(probs, f)"
   ]
  }
 ],
 "metadata": {
  "kernelspec": {
   "display_name": "Python 3",
   "language": "python",
   "name": "python3"
  },
  "language_info": {
   "codemirror_mode": {
    "name": "ipython",
    "version": 3
   },
   "file_extension": ".py",
   "mimetype": "text/x-python",
   "name": "python",
   "nbconvert_exporter": "python",
   "pygments_lexer": "ipython3",
   "version": "3.10.2"
  }
 },
 "nbformat": 4,
 "nbformat_minor": 2
}
