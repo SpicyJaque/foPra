{
 "cells": [
  {
   "cell_type": "markdown",
   "metadata": {},
   "source": [
    "Import all important stuff"
   ]
  },
  {
   "cell_type": "code",
   "execution_count": null,
   "metadata": {},
   "outputs": [],
   "source": [
    "import ssl\n",
    "\n",
    "from bertopic import BERTopic\n",
    "from sklearn.datasets import fetch_20newsgroups\n",
    "from bertopic.representation import KeyBERTInspired\n",
    "import pandas as pd\n",
    "import nltk\n",
    "from datetime import datetime\n",
    "from textblob import TextBlob\n",
    "from datasets import load_dataset\n",
    "\n",
    "import seaborn as sns\n",
    "import matplotlib.pyplot as plt\n",
    "import pickle\n",
    "\n",
    "import importlib\n",
    "import functions\n",
    "\n",
    "\n",
    "import nbconvert\n",
    "\n",
    "nltk.download('punkt_tab')"
   ]
  },
  {
   "cell_type": "code",
   "execution_count": null,
   "metadata": {},
   "outputs": [],
   "source": [
    "from functions import *\n",
    "importlib.reload(functions)\n"
   ]
  },
  {
   "cell_type": "markdown",
   "metadata": {},
   "source": [
    "Load all data "
   ]
  },
  {
   "cell_type": "code",
   "execution_count": null,
   "metadata": {},
   "outputs": [],
   "source": [
    "parties = [\"CDU\", \"SPD\", \"FDP\", \"AFD\", \"LEFT\", \"GREENS\"]\n",
    "file_path = \"C:/Users/Jacob/OneDrive/uni/MA WiSoz/Semester III/Computational Social Sciences/foPra/data/\"\n"
   ]
  },
  {
   "cell_type": "code",
   "execution_count": null,
   "metadata": {},
   "outputs": [],
   "source": [
    "# Load the DataFrame from a pickle file\n",
    "df_manifesto = pd.read_pickle('Manifesto_final.pkl') "
   ]
  },
  {
   "cell_type": "code",
   "execution_count": null,
   "metadata": {},
   "outputs": [],
   "source": []
  },
  {
   "cell_type": "code",
   "execution_count": null,
   "metadata": {},
   "outputs": [],
   "source": [
    "cmp_categories = pd.read_csv(file_path  + \"cmp_categories.csv\")"
   ]
  },
  {
   "cell_type": "code",
   "execution_count": null,
   "metadata": {},
   "outputs": [],
   "source": [
    "#topic_model = BERTopic.load(\"bertopic_model.pkl\")\n",
    "topic_model = BERTopic.load(file_path[:-5])\n"
   ]
  },
  {
   "cell_type": "code",
   "execution_count": null,
   "metadata": {},
   "outputs": [],
   "source": [
    "tm_df = topic_model.get_topic_info()"
   ]
  },
  {
   "cell_type": "code",
   "execution_count": null,
   "metadata": {},
   "outputs": [],
   "source": [
    "# tm_200 = topic_model.reduce_topics(df_manifesto[\"text\"], nr_topics=200)\n",
    "# tm_400 = topic_model.reduce_topics(df_manifesto[\"text\"], nr_topics=400)\n"
   ]
  },
  {
   "cell_type": "code",
   "execution_count": null,
   "metadata": {},
   "outputs": [],
   "source": [
    "with open(\"topics_over_time.pkl\", \"rb\") as f:\n",
    "    topics_over_time = pickle.load(f)"
   ]
  },
  {
   "cell_type": "code",
   "execution_count": null,
   "metadata": {},
   "outputs": [],
   "source": [
    "# Load the topics from a pickle file\n",
    "topics = pd.read_pickle('topics.pkl')\n",
    "\n",
    "# Load the probabilities from a pickle file\n",
    "probs = pd.read_pickle('probs.pkl')\n",
    "\n",
    "#df_manifesto[\"topic\"] = topics\n"
   ]
  },
  {
   "cell_type": "code",
   "execution_count": null,
   "metadata": {},
   "outputs": [],
   "source": [
    "economy = limit_to_cmp(df_manifesto, 400, 450)\n"
   ]
  },
  {
   "cell_type": "code",
   "execution_count": null,
   "metadata": {},
   "outputs": [],
   "source": []
  },
  {
   "cell_type": "markdown",
   "metadata": {},
   "source": [
    "Next: filter topics and codes to automatically code the topics."
   ]
  },
  {
   "cell_type": "code",
   "execution_count": null,
   "metadata": {},
   "outputs": [],
   "source": [
    "topics_filter = get_topics(df_manifesto, cmp_categories)\n"
   ]
  },
  {
   "cell_type": "code",
   "execution_count": null,
   "metadata": {},
   "outputs": [],
   "source": [
    "list_topic_409 = topics_filter[\"Keynesian Demand Management\"]\n",
    "df_subset_409 = tm_df[tm_df['Topic'].isin(list_topic_409)]\n",
    "df_subset_409"
   ]
  },
  {
   "cell_type": "code",
   "execution_count": null,
   "metadata": {},
   "outputs": [],
   "source": [
    "extract_topics(self, topic_model, documents, c_tf_idf, topics)\n"
   ]
  },
  {
   "cell_type": "markdown",
   "metadata": {},
   "source": [
    "Inspect the data"
   ]
  },
  {
   "cell_type": "code",
   "execution_count": null,
   "metadata": {},
   "outputs": [],
   "source": [
    "topic_model.visualize_topics()"
   ]
  },
  {
   "cell_type": "code",
   "execution_count": null,
   "metadata": {},
   "outputs": [],
   "source": [
    "len(topic_model.get_topic(0))"
   ]
  },
  {
   "cell_type": "markdown",
   "metadata": {},
   "source": [
    "Group and Compare Topics Across Parties\n",
    "Your goal is to compare how political parties talk about different topics. You can:\n",
    "\n",
    "Analyze topic distribution per party:"
   ]
  },
  {
   "cell_type": "code",
   "execution_count": null,
   "metadata": {},
   "outputs": [],
   "source": [
    "party_topic_counts = df_manifesto.groupby([\"party\", \"topic\"]).size().unstack().fillna(0)\n",
    "party_topic_counts = party_topic_counts.div(df_manifesto.groupby(\"party\")[\"party_count\"].first(), axis=0)\n",
    "party_topic_counts\n",
    "\n"
   ]
  },
  {
   "cell_type": "code",
   "execution_count": null,
   "metadata": {},
   "outputs": [],
   "source": [
    "# Call the function\n",
    "ptc_top3 = plot_top_topics(party_topic_counts, 5)\n",
    "ptc_top3"
   ]
  },
  {
   "cell_type": "code",
   "execution_count": null,
   "metadata": {},
   "outputs": [],
   "source": [
    "# Call the function with topic number 13\n",
    "plot_topic_n_counts(party_topic_counts, 2)"
   ]
  },
  {
   "cell_type": "markdown",
   "metadata": {},
   "source": [
    "Cluster topics into categories (e.g., Economy, Environment, Social Policy) using manual labeling or embeddings.\n",
    "\n",
    "Analyze sentiment per topic & party (to see how parties frame topics differently):\n",
    "\n",
    "- needs to be filtered for topic"
   ]
  },
  {
   "cell_type": "code",
   "execution_count": null,
   "metadata": {},
   "outputs": [],
   "source": [
    "df_manifesto[\"sentiment\"] = df_manifesto[\"text\"].apply(lambda x: TextBlob(x).sentiment.polarity)\n"
   ]
  },
  {
   "cell_type": "markdown",
   "metadata": {},
   "source": [
    "Visualize Topic Evolution\n",
    "Overlay different parties on a timeline to compare their topic distributions.\n",
    "Heatmaps to show intensity of topics across parties and time"
   ]
  },
  {
   "cell_type": "code",
   "execution_count": null,
   "metadata": {},
   "outputs": [],
   "source": [
    "pivot = df_manifesto.pivot_table(index=\"date\", columns=\"topic\", values=\"party\", aggfunc=\"count\")\n",
    "sns.heatmap(pivot.fillna(0), cmap=\"coolwarm\")\n",
    "plt.show()"
   ]
  },
  {
   "cell_type": "code",
   "execution_count": null,
   "metadata": {},
   "outputs": [],
   "source": [
    "topics_docs =pd.DataFrame({\"topic\": topics, \"documents\": df_manifesto[\"text\"]})"
   ]
  },
  {
   "cell_type": "code",
   "execution_count": null,
   "metadata": {},
   "outputs": [],
   "source": [
    "# Filter the topics_over_time DataFrame to include only the top 10 topics\n",
    "top_10_topics = topics_over_time.groupby('Topic').size().nlargest(10).index\n",
    "filtered_topics_over_time = topics_over_time[topics_over_time['Topic'].isin(top_10_topics)]\n",
    "\n",
    "# Visualisiere die Themenentwicklung\n",
    "topic_model.visualize_topics_over_time(topics_over_time , topics=[1,2,3,4,5,6,7,8,9,10]\n",
    ")"
   ]
  },
  {
   "cell_type": "code",
   "execution_count": null,
   "metadata": {},
   "outputs": [],
   "source": [
    "topic_model.visualize_heatmap()\n"
   ]
  },
  {
   "cell_type": "code",
   "execution_count": null,
   "metadata": {},
   "outputs": [],
   "source": [
    "representation_model = KeyBERTInspired()\n",
    "topic_model = BERTopic(representation_model=representation_model)"
   ]
  },
  {
   "cell_type": "markdown",
   "metadata": {
    "vscode": {
     "languageId": "latex"
    }
   },
   "source": []
  },
  {
   "cell_type": "code",
   "execution_count": null,
   "metadata": {},
   "outputs": [],
   "source": [
    "\n",
    "ssl._create_default_https_context = ssl._create_unverified_context\n",
    "\n",
    "\n",
    "#docs = fetch_20newsgroups(subset='all',  remove=('headers', 'footers', 'quotes'))['data']\n",
    "\n",
    "\n",
    "\n",
    "topic_model = BERTopic()\n",
    "topics, probs = topic_model.fit_transform(df_manifesto[\"text\"])\n"
   ]
  }
 ],
 "metadata": {
  "kernelspec": {
   "display_name": "Python 3",
   "language": "python",
   "name": "python3"
  },
  "language_info": {
   "codemirror_mode": {
    "name": "ipython",
    "version": 3
   },
   "file_extension": ".py",
   "mimetype": "text/x-python",
   "name": "python",
   "nbconvert_exporter": "python",
   "pygments_lexer": "ipython3",
   "version": "3.10.2"
  }
 },
 "nbformat": 4,
 "nbformat_minor": 2
}
