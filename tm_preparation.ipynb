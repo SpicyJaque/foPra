{
 "cells": [
  {
   "cell_type": "markdown",
   "metadata": {},
   "source": [
    "Import Stuff"
   ]
  },
  {
   "cell_type": "code",
   "execution_count": 1,
   "metadata": {},
   "outputs": [
    {
     "name": "stderr",
     "output_type": "stream",
     "text": [
      "c:\\Users\\Jacob\\AppData\\Local\\Programs\\Python\\Python310\\lib\\site-packages\\tqdm\\auto.py:21: TqdmWarning: IProgress not found. Please update jupyter and ipywidgets. See https://ipywidgets.readthedocs.io/en/stable/user_install.html\n",
      "  from .autonotebook import tqdm as notebook_tqdm\n"
     ]
    }
   ],
   "source": [
    "import ssl\n",
    "import re\n",
    "\n",
    "\n",
    "from bertopic import BERTopic\n",
    "from bertopic.representation import KeyBERTInspired\n",
    "from hdbscan import HDBSCAN\n",
    "from sentence_transformers import SentenceTransformer\n",
    "from umap import UMAP\n",
    "\n",
    "from sklearn.datasets import fetch_20newsgroups\n",
    "from sklearn.cluster import KMeans\n",
    "\n",
    "import pandas as pd\n",
    "import seaborn as sns\n",
    "import matplotlib.pyplot as plt\n",
    "\n",
    "import nltk\n",
    "from nltk.corpus import wordnet\n",
    "from nltk.tokenize import word_tokenize\n",
    "from nltk.stem import WordNetLemmatizer\n",
    "\n",
    "from datetime import datetime\n",
    "from textblob import TextBlob\n",
    "from datasets import load_dataset\n",
    "\n",
    "import pickle\n",
    "import importlib\n",
    "import functions\n",
    "import requests\n",
    "\n",
    "\n",
    "\n"
   ]
  },
  {
   "cell_type": "code",
   "execution_count": 2,
   "metadata": {},
   "outputs": [
    {
     "name": "stderr",
     "output_type": "stream",
     "text": [
      "[nltk_data] Downloading package punkt_tab to\n",
      "[nltk_data]     C:\\Users\\Jacob\\AppData\\Roaming\\nltk_data...\n",
      "[nltk_data]   Package punkt_tab is already up-to-date!\n",
      "[nltk_data] Downloading package wordnet to\n",
      "[nltk_data]     C:\\Users\\Jacob\\AppData\\Roaming\\nltk_data...\n",
      "[nltk_data]   Package wordnet is already up-to-date!\n",
      "[nltk_data] Downloading package punkt to\n",
      "[nltk_data]     C:\\Users\\Jacob\\AppData\\Roaming\\nltk_data...\n",
      "[nltk_data]   Package punkt is already up-to-date!\n",
      "[nltk_data] Downloading package stopwords to\n",
      "[nltk_data]     C:\\Users\\Jacob\\AppData\\Roaming\\nltk_data...\n",
      "[nltk_data]   Package stopwords is already up-to-date!\n",
      "[nltk_data] Downloading package averaged_perceptron_tagger to\n",
      "[nltk_data]     C:\\Users\\Jacob\\AppData\\Roaming\\nltk_data...\n",
      "[nltk_data]   Package averaged_perceptron_tagger is already up-to-\n",
      "[nltk_data]       date!\n"
     ]
    }
   ],
   "source": [
    "from functions import *\n",
    "importlib.reload(functions)\n",
    "\n",
    "nltk.download('punkt_tab')\n",
    "nltk.download('wordnet')\n",
    "nltk.download('punkt')\n",
    "nltk.download('stopwords')\n",
    "nltk.download('averaged_perceptron_tagger')\n",
    "\n",
    "parties = [\"CDU\", \"SPD\", \"FDP\", \"AFD\", \"LEFT\", \"GREENS\"]\n",
    "file_path = \"C:/Users/Jacob/OneDrive/uni/MA WiSoz/Semester III/Computational Social Sciences/foPra/data/\"\n",
    "\n",
    "\n",
    "# Open the file in read mode\n",
    "with open(\"API Keys/DeepL.txt\", 'r', encoding='utf-8') as file:\n",
    "    # Read the contents of the file\n",
    "    api_key_deepl = file.read()\n",
    "\n",
    "url = 'https://api-free.deepl.com/v2/translate'\n",
    "df_manifesto = pd.read_csv(\"data/parties/Manifestos_tokenized.csv\")\n",
    "\n"
   ]
  },
  {
   "cell_type": "markdown",
   "metadata": {},
   "source": [
    "DeepL API"
   ]
  },
  {
   "cell_type": "code",
   "execution_count": 19,
   "metadata": {},
   "outputs": [],
   "source": [
    "params = {\n",
    "    'auth_key': api_key,\n",
    "    'text': 'Hello, world!',\n",
    "    'target_lang': 'DE'  # Translate to German\n",
    "}"
   ]
  },
  {
   "cell_type": "code",
   "execution_count": 20,
   "metadata": {},
   "outputs": [],
   "source": [
    "# Make the API request\n",
    "response = requests.post(url, data=params)\n"
   ]
  },
  {
   "cell_type": "code",
   "execution_count": 21,
   "metadata": {},
   "outputs": [
    {
     "name": "stdout",
     "output_type": "stream",
     "text": [
      "Translated text: Hallo, Welt!\n"
     ]
    }
   ],
   "source": [
    "# Check if the request was successful\n",
    "if response.status_code == 200:\n",
    "    result = response.json()\n",
    "    translated_text = result['translations'][0]['text']\n",
    "    print(f'Translated text: {translated_text}')\n",
    "else:\n",
    "    print(f'Error: {response.status_code}')\n",
    "    print(response.text)"
   ]
  },
  {
   "cell_type": "markdown",
   "metadata": {},
   "source": [
    "Edit Text documents"
   ]
  },
  {
   "cell_type": "code",
   "execution_count": 3,
   "metadata": {},
   "outputs": [],
   "source": [
    "lemmatizer = WordNetLemmatizer()"
   ]
  },
  {
   "cell_type": "markdown",
   "metadata": {},
   "source": [
    "defining different models\n",
    "    "
   ]
  },
  {
   "cell_type": "code",
   "execution_count": 4,
   "metadata": {},
   "outputs": [],
   "source": [
    "umap_model = UMAP(\n",
    "    n_neighbors=50, \n",
    "    # n_components=5, \n",
    "    # min_dist=0.0, \n",
    "    metric='cosine', \n",
    "    random_state=42\n",
    "    )"
   ]
  },
  {
   "cell_type": "code",
   "execution_count": 5,
   "metadata": {},
   "outputs": [],
   "source": [
    "embedding_model_en = \"all-MiniLM-L6-v2\"\n",
    "embedding_model_multilingual1 = \"paraphrase-multilingual-mpnet-base-v2\"\n",
    "embedding_model_multilingual2 = \"distiluse-base-multilingual-cased-v1\""
   ]
  },
  {
   "cell_type": "code",
   "execution_count": 6,
   "metadata": {},
   "outputs": [],
   "source": [
    "representation_model = KeyBERTInspired()\n",
    "cluster_model = KMeans(n_clusters=30)"
   ]
  },
  {
   "cell_type": "code",
   "execution_count": 7,
   "metadata": {},
   "outputs": [],
   "source": [
    "hdbscan_model = HDBSCAN(\n",
    "    min_cluster_size=50, \n",
    "    # min_samples=10,\n",
    "    metric='euclidean', \n",
    "    prediction_data=True\n",
    "    )\n",
    "\n"
   ]
  },
  {
   "cell_type": "code",
   "execution_count": 14,
   "metadata": {},
   "outputs": [],
   "source": [
    "seed_topic_list = [[\"steuergeld\", \"ausgaben\", \"staatsausgaben\", \"staatshaushalt\", \"schulden\", \"schuldenbremse\", \"staatsschulden\"],\n",
    "                   ['sozial wohnungsbau', 'sozialen wohnungsbaus', 'sozialen wohnungsbau', 'sozialwohnungen', 'wohnungsbauförderung', 'mietwohnungen', 'wohnungsbaus', 'bezahlbar wohnungen', 'eigentumswohnungen', 'wohnungsbau'],\n",
    "                   ['öffentlich investitionen', 'öffentlichen investitionen', 'investitionen öffentlichen', 'investitionen', 'investitionsquot', 'investitionsstau', 'investitionszulag', 'investitionsmittel', 'privat investitionen', 'investitionsanr']]"
   ]
  },
  {
   "cell_type": "markdown",
   "metadata": {},
   "source": [
    "Initialisiere und trainiere das BERTopic-Modell\n"
   ]
  },
  {
   "cell_type": "code",
   "execution_count": 15,
   "metadata": {},
   "outputs": [],
   "source": [
    "\n",
    "# Ensure the 'text' column contains only strings and handle NaN values\n",
    "df_manifesto[\"text\"] = df_manifesto[\"text\"].astype(str).fillna(\"\")\n",
    "\n",
    "topic_model = BERTopic(\n",
    "    language=\"multilingual\"\n",
    "    , n_gram_range=(1,2)\n",
    "    # , min_topic_size=20\n",
    "    # , top_n_words=20\n",
    "    # , representation_model=representation_model\n",
    "    , embedding_model=embedding_model_multilingual2\n",
    "    , umap_model=umap_model\n",
    "    # , hdbscan_model=hdbscan_model\n",
    "    , seed_topic_list=seed_topic_list\n",
    "    )\n",
    "\n",
    "#topic_model = BERTopic(nr_topics=100, calculate_probabilities=True, embedding_model=\"all_MiniLM-L6-v2\")\n",
    "topics, probs = topic_model.fit_transform(df_manifesto[\"text\"])\n",
    "\n"
   ]
  },
  {
   "cell_type": "code",
   "execution_count": 16,
   "metadata": {},
   "outputs": [],
   "source": [
    "df_manifesto[\"topic\"] = topics"
   ]
  },
  {
   "cell_type": "code",
   "execution_count": 17,
   "metadata": {},
   "outputs": [],
   "source": [
    "df_manifesto.to_pickle('Manifesto_final.pkl')"
   ]
  },
  {
   "cell_type": "code",
   "execution_count": 18,
   "metadata": {},
   "outputs": [
    {
     "data": {
      "application/vnd.microsoft.datawrangler.viewer.v0+json": {
       "columns": [
        {
         "name": "index",
         "rawType": "int64",
         "type": "integer"
        },
        {
         "name": "Topic",
         "rawType": "int64",
         "type": "integer"
        },
        {
         "name": "Count",
         "rawType": "int64",
         "type": "integer"
        },
        {
         "name": "Name",
         "rawType": "object",
         "type": "string"
        },
        {
         "name": "Representation",
         "rawType": "object",
         "type": "unknown"
        },
        {
         "name": "Representative_Docs",
         "rawType": "object",
         "type": "unknown"
        }
       ],
       "conversionMethod": "pd.DataFrame",
       "ref": "e1ccb520-526f-4407-b388-fcc1d9520d8a",
       "rows": [
        [
         "0",
         "-1",
         "40113",
         "-1_deutschland_müssen_menschen_mehr",
         "['deutschland', 'müssen', 'menschen', 'mehr', 'unser', 'sozial', 'politik', 'dass', 'neue', 'bürger']",
         "['heißt F.D.P konkret Wettbewerb effizienter kostengünstiger Lösungen nutzen z.B Planung Bau Betrieb kommunalen Abwasserbeseitigungsanlagen Monopol aufbrechen offen Märkte Marktchancen klein mittler Unternehmen verbessern z.B Bereich Abfall Energiewirtschaft neuen Instrumenten z.B handelbaren Umweltnutzungsrechten Wettbewerb best Lösung Umweltziel erreichen Mehr Selbstverpflichtungen Vereinbarungen wenig Gesetz Verordnungen z.B beim Flottenverbrauch Automobilherstel Eigenverantwortung stärken Öko Audit System Unternehmen Abbau ökologisch widersinnig Vergünstigungen Rahmen Steuersenkungsreform setzt F.D.P dritten Mehrwertsteuersatz Energieverbrauch europaweit einheitlich eingeführt', 'zunehmend Übereinstimmung Wirtschaftspolitik Finanzpolitik Währungspolitik Stabilitätspolitik Sozialpolitik Mitgliedsstaaten Voraussetzungen wirtschaftlich Wachstum mehr Beschäftigung stabil Preis mehr sozial Sicherheit europäischen Ländern verbessert', 'B Kernenergi weiterentwickeln verstärkt einsetzen Entwicklungsländern anbieten zulassen deutsch Entwicklungshilf Feind Freiheit stützt Gewaltanwendung vermeintlich Freiheitsbewegungen begünstigt deutschen Interessen zuwiderläuft Ländern Dritten Welt Seit stehen Gewißheit geben Fall Not Gefahr rechnen kämpfen Menschenrecht Welt leben Bundesrepublik Deutschland seit mehr drei Jahrzehnten Frieden Freiheit']"
        ],
        [
         "1",
         "0",
         "5229",
         "0_bildung_hochschulen_schulen_ausbildung",
         "['bildung', 'hochschulen', 'schulen', 'ausbildung', 'weiterbildung', 'forschung', 'schule', 'schüler', 'lernen', 'lehr']",
         "['CDU CSU Rahmen föderalen Ordnung Bildungssystem neuen Herausforderungen anpassen effizient gestalten lebenslang Lernen orientieren überlang Ausbildungszeiten Studienzeiten verkürzen Aufstieg Einkommenschancen Absolventen beruflichen Bildung Betrieben Unternehmen verbessern Berufsbild zügig modernisieren technologisch Entwicklung anpassen besond qualifizierten Absolventen beruflichen Bildung Zugang Hochschul erleichtern treten Ausbau praxisorientierten Studiengäng', 'gilt insbesonder Schulen Hochschulen', 'Schule']"
        ],
        [
         "2",
         "1",
         "2704",
         "1_familien_kinder_eltern_famili",
         "['familien', 'kinder', 'eltern', 'famili', 'kind', 'kindern', 'kindergeld', 'ehe', 'kinderbetreuung', 'mütter']",
         "['Vereinbarkeit Famili Beruf verbessern', 'Vereinbarkeit Famili Beruf verbessern', 'Eltern Kinder']"
        ],
        [
         "3",
         "2",
         "1954",
         "2_frauen_männer_männern_frauen männern",
         "['frauen', 'männer', 'männern', 'frauen männern', 'gleichberechtigung', 'frauen männer', 'gleichstellung', 'frau', 'geschlecht', 'gleichstellung frauen']",
         "['Gleichstellung Männern Frauen gesellschaftlichen Bereichen erreichen', 'Gleichstellung Frauen Männern', 'Gleichstellung Frauen Männern Aufgab gesamt Gesellschaft']"
        ],
        [
         "4",
         "3",
         "1847",
         "3_wohnungsbau_wohnungen_mieter_mieten",
         "['wohnungsbau', 'wohnungen', 'mieter', 'mieten', 'wohnraum', 'wohnung', 'wohnen', 'wohngeld', 'sozialen wohnungsbau', 'wohneigentum']",
         "['Bezahlbar Wohnen ermöglichen sozial Mietrecht gemeinwohlorientierten Wohnungsbau energetisch Modernisierung zusammen denken', 'Sozialen gemeinnützigen Wohnungsbau schaffen', 'fordern darum stärkere Engagement öffentlichen Hand Kosten Mieterinnen Mieter begrenzen vgl Kapitel VII Mieten sozial Wohnungsbau']"
        ],
        [
         "5",
         "4",
         "1619",
         "4_steuern_steuer_besteuerung_steuerlich",
         "['steuern', 'steuer', 'besteuerung', 'steuerlich', 'steuerhinterziehung', 'steuersystem', 'einkommen', 'steuerreform', 'steuerrecht', 'euro']",
         "['dienen fair gerecht Steuern Abgaben', 'Steuern Steuern wenig', 'Umstrukturierung Steuersystem erfordert zunächst Durchforstung bestehenden Abgaben Steuern Gebühren ökologischen Fehllenkungen Senkung Spitzensätz höhere Freibeträg Einkommensteu sowi steuerlich Entlastung Ersparni Abschaffung Gewerbesteu Rahmen Reform Gemeindefinanzen Rahmenbedingungen kalkulierbar Steuereinnahmen Gemeinden verbessert Spielräum autonom Gestaltung Gemeinden erhält Abschaffung ertragsunabhängigen Steuern Substanzsteuern stufenweis einzuführend tatsächlichen Treibhausga Emissionen orientiert CO Steuer Energieverbrauch orientiert Energiesteu sollen EU weit Anreiz geringeren Treibhausga Ausstoß sparsameren Energieverbrauch setzen']"
        ],
        [
         "6",
         "5",
         "1372",
         "5_kultur_kunst_kulturell_kulturellen",
         "['kultur', 'kunst', 'kulturell', 'kulturellen', 'kulturpolitik', 'kunst kultur', 'kulturel', 'kulturförderung', 'kulturen', 'vielfalt']",
         "['Kunst Kultur pflegen', 'Dafür treten setzen konsequ Prinzip Kultur Kultur Deshalb Kultur Staatsziel Grundgesetz verankern Liberal Kulturpolitik stellt Bürger Gestalt Förderer Empfänger Kunst Kultur Mittelpunkt Kulturell Initiativen Verein freie Zusammenschlüss Stiftungen Unternehmen deshalb unser Unterstützung Träger Kultur kulturel Bildung Förderung kulturel Einrichtungen ländlichen Raum besonder Bedeutung bekennen ausdrücklich öffentlichen Kulturförderung Kulturförderung Subvent Investit Zukunft unser Land freie Entwicklung brauchen Künste Förderung gerad Neue Originell oft jenseit tragenden Vermarktung findet begrüßen ausdrücklich öffentlich privat freie Kulturorganisationen einand öffnen gemeinsam Netzwerk bilden öffentlich öffentlich gefördert Kulturschaffen Spiegel Vielfalt unserem Land Deutschland Land reichen vielfältigen Kulturangebot Geistesleben unverzichtbaren Beitrag Lebendigkeit Stärke unser Gesellschaft leistet Kraft Vielfalt stärken kulturell Vielfalt Deutschland geprägt bereichert interkulturellen Austausch Kontakt unserem Land genauso Austausch unseren internationalen Partnern Liberal Kulturpolitik endet ethnischen religiösen nationalen Grenzen bekennt ausdrücklich Förderung interkulturellen Kontakt Kunst Wissenschaft Kulturell Bildung definiert Zukunftsfähigkeit unser Gesellschaft Aufgab sowohl unser Bildung unser Kultureinrichtungen Kulturn Deutschland Menschen gezielt kulturellen Angeboten vertraut Hierzu zählt insbesonder Vermittlung Medienkompetenz Kultur Kreativwirtschaft wichtig Innovationsmotor Beitrag stärker gewürdigt wissen dafür sorgen dass Selbstständig Unternehmen Kultur Kreativwirtschaft besseren Zugang Fremdkapit erhalten Unternehmen Erschließung ausländisch Märkte unterstützen Kooper Wirtschaft Politik beim Deutschen Computerspielprei Filmförderung findet unser Unterstützung o Kultur Kreativwirtschaft Schutz geistigen Eigentum denkbar o Verletzungen geistigen Eigentum Internet sollen ebenso konsequ wirksam bekämpft Verletzungen Urheberrecht analogen Welt o Bestehend Rechtsunsicherheiten digitalisierten Welt modern Urheberrecht auszuräumen o Interessenausgleich Urhebern Rechteinhabern sowi Nutzern Diensteanbietern fair gestalten o Gleichzeitig unzensiert Kommunik freien Informationsfluss Zugang Wissen Innovationen ermöglichen Unsere Demokrati lebt Medien Meinungsvielfalt analogen digitalen Welt beiden Welten fair Miteinand Printmedien Rundfunk sichergestellt schließt gebührensubventioniert Marktverzerrung Rundfunk Press gegenüb Anbietern Internet benachteiligen Modernisierungen Medienkonzentr Kartellrecht erforderlich fordern Überprüfung Konkretisierung Grundversorgungsauftrag öffentlich rechtlichen Rundfunk Finanzierung Grundversorgungsauftrag orientieren mehr wenig neue Wohnungsabgab Rundfunk sowi Beitragsservic GEZ Nachfolg abgeschafft personenbezogen Abgabe ersetzt zusammen Einkommensteu Finanzamt eingezogen deutlich niedrig heutig Rundfunkabgab ausfallen Befreiungen Gebühr aufgrund sozial Härte Behinderungen einzuführen Mehreinnahmen Umstellung Beitragsservic Folgejahr Senkung Beiträg Rundfunkteilnehm zurückzuzahlen Zudem öffentlich rechtlich Rundfunk Kernaufgaben eng verstehenden Bildungsauftrag konzentrieren Anzahl Sender öffentlich rechtlichen Rundfunk Deutschland deshalb deutlich reduziert bestehend Aufsicht unser Rundfunkmedien medienpolitischen Realität Vernetzung Rundfunk Internet Telekommunik anpassen Künstlersozialversicherung tragenden Säulen sozialen Absicherung vieler Kreativ Liberal sprechen Reform Künstlersozialversicherung Insbesonder Zukunft vermieden dass künstlerisch Leistungen Beiträg gezahlt Erbringer Leistung gar Mitg Künstlersozialversicherung Darüber hinaus müssen Maßnahmen Verbesserung sozialen Lage Künstlerinnen Künstlern verstetigt bzw Bedarf neu angepasst', 'Kultur']"
        ],
        [
         "7",
         "6",
         "1335",
         "6_jugendlich_jugendlichen_jung menschen_jung",
         "['jugendlich', 'jugendlichen', 'jung menschen', 'jung', 'jugend', 'jungen', 'kinder jugendlich', 'jungen menschen', 'kinder', 'jugendarbeit']",
         "['Perspektiven jung Menschen', 'Politik jung Menschen erschöpft Jugendpolitik', 'Politik jung Menschen']"
        ],
        [
         "8",
         "7",
         "1293",
         "7_schien_bahn_verkehr_mobilität",
         "['schien', 'bahn', 'verkehr', 'mobilität', 'straßen', 'güterverkehr', 'bundesbahn', 'verkehrspolitik', 'straße', 'lkw']",
         "['schaffen Voraussetzung mehr Verkehr Schien', 'mehr Verkehr Straße Schien verlagern', 'Bahn']"
        ],
        [
         "9",
         "8",
         "1131",
         "8_investitionen_öffentlich_öffentlichen_privat",
         "['investitionen', 'öffentlich', 'öffentlichen', 'privat', 'privaten', 'öffentlich investitionen', 'privatisierung', 'investoren', 'öffentlichen investitionen', 'hand']",
         "['DM privat öffentlich Investitionen neuen Ländern getätigt', 'geht öffentlichen Investitionen', 'öffentlich Investitionen EU fördern statt öffentlichen Geldern privat Investitionen privat Renditen abzusichern']"
        ],
        [
         "10",
         "9",
         "1107",
         "9_landwirtschaft_agrarpolitik_landwirt_landwirtschaftlich",
         "['landwirtschaft', 'agrarpolitik', 'landwirt', 'landwirtschaftlich', 'landwirtschaftlichen', 'bauern', 'gentechnisch', 'bäuerlichen', 'bäuerlich', 'kulturlandschaft']",
         "['nachhaltig Landwirtschaft', 'nachhaltig Landwirtschaft', 'Landwirtschaft']"
        ],
        [
         "11",
         "10",
         "986",
         "10_europa_europäisch_union_eu",
         "['europa', 'europäisch', 'union', 'eu', 'europäischen', 'europäisch union', 'europäischen union', 'deutschland europa', 'einigung', 'europäisch ebene']",
         "['brauchen Europa Bürger Bürokraten Europa Grenzpfähl Schranken', 'Zukunft Deutschland Europa gemeinsam', 'EU']"
        ],
        [
         "12",
         "11",
         "855",
         "11_digital_digitalisierung_digitalen_digitalen welt",
         "['digital', 'digitalisierung', 'digitalen', 'digitalen welt', 'zeitalt', 'digitalen zeitalt', 'chancen digitalisierung', 'nutzen', 'digitalen wandel', 'digital infrastruktur']",
         "['Grundrecht digitalen Welt', 'Nutzen Chancen Digitalisierung', 'Chancen digitalen Zeitalt']"
        ],
        [
         "13",
         "12",
         "751",
         "12_staatsangehörigkeit_zuwanderung_migrantinnen_einbürgerung",
         "['staatsangehörigkeit', 'zuwanderung', 'migrantinnen', 'einbürgerung', 'einwanderung', 'ausländer', 'einwanderungsland', 'migranten', 'staatsbürgerschaft', 'migrantinnen migranten']",
         "['Gleich Recht Migrantinnen Migranten', 'Staatsangehörigkeit', 'Bundesrepublik Deutschland Einwanderungsland']"
        ],
        [
         "14",
         "13",
         "665",
         "13_cdu_csu_cdu csu_csu fdp",
         "['cdu', 'csu', 'cdu csu', 'csu fdp', 'csu stehen', 'csu setzen', 'csu treten', 'fdp', 'politik cdu', 'bundesregierung cdu']",
         "['CDU CSU Politik fortsetzen', 'CDU CSU stehen Zukunft Deutschland', 'CDU CSU Außenpolitik']"
        ],
        [
         "15",
         "14",
         "576",
         "14_versorgung_patienten_patientinnen_patientinnen patienten",
         "['versorgung', 'patienten', 'patientinnen', 'patientinnen patienten', 'gesundheitswesen', 'medizinisch', 'medizinischen', 'gesundheitspolitik', 'krankenhäus', 'gesundheit']",
         "['Patientinnen Patienten müssen Taktgebern Gesundheitswesen', 'geht mehr Transparenz medizinischen Versorgung Stärkung Recht Patientinnen Patienten', 'hohe Qualität medizinischen Versorgung Patientinnen Patienten finanzierbar bleiben']"
        ],
        [
         "16",
         "15",
         "567",
         "15_bundeswehr_soldaten_wehrpflicht_afghanistan",
         "['bundeswehr', 'soldaten', 'wehrpflicht', 'afghanistan', 'soldatinnen', 'soldatinnen soldaten', 'militärischen', 'wehrdienst', 'zivilen', 'militärisch']",
         "['Bundeswehr leistet Soldatinnen Soldaten unverzichtbaren Beitrag', 'Dafür treten Bundeswehr bleibt Parlamentsarme Beginn Einsätzen Krisengebieten müssen politischen Ziel Zeitlinien sowi Exit Strategi klar formuliert Dauer Einsatz fortzuschreiben Aussetzung Wehrpflicht verbundenen Umbau Bundeswehr Freiwilligenarme echt Meilenstein bezüglich Aufbaus inneren Verfasstheit Bundeswehr gesetzt Gleichzeitig setzen dafür dass bedeutend Arbeit Bundeswehr Anerkennung Öffentlichkeit erfährt Wertschätzung anspruchsvollen gefährlichen Dienst unser Soldaten gerad Armee Einsatz überragend Bedeutung notwendig Akzeptanz Bevölkerung entsprechend Repräsentanz Fläche erreichen Attraktivität Dienst steigern Gehaltshöh Qualität Infrastruktur Weiterbildungsmöglichkeiten Versetzungshäufigkeit Versorgung Fall Verwundung sowi Vereinbarkeit Dienst Famili dabei wesentlich Faktoren Einsatzfähigkeit Bundeswehr entsprechend Finanzierung sicher gestellt Auslandseinsätz dürfen dabei Lasten laufenden Etat Verteidigungsministerium gehen NATO bleibt Zukunft stärkster Anker unser gemeinsamen Sicherheitspolitik bedeutenden internationalen Frieden Sicherheitsorganisationen UNO OSZE Europarat EU müssen Handlungsfähigkeit fortlaufend gestärkt Gleichzeitig Etablierung allgemein anerkannt Normen Regeln internationalen System intensiver Kooper Bereich Sicherheitsund Verteidigungspolitik einsetzen Schaffung gemeinsam Strukturen sollen langfristig Voraussetzungen europäisch Streitkräft parlamentarisch Kontroll geschaffen gemeinsam sicherheitspolitisch Verständni geschaffen Ausgleich rüstungspolitisch Interessen herbeigeführt o Angesicht Komplexität neuer Herausforderungen ständige Schaltstell Ebene Bundesregierung Informationsaustausch Koordinierung militärischen zivilen Maßnahmen Bereichen Außen Sicherheitspolitik sowi Vorbeugung Reaktion national international Katastrophen Krisen einrichten o Auswärtig Amt bietet Grundlag Struktur o Dabei neben Lageanalys vernetzt Ansatz Wahrung Ressortverantwortlichkeit gewährleistet gestärkt o Außerdem parlamentarisch Kontroll Beteiligung Parlament jederzeit sichergestellt national Sicherheitsstrategi Beitrag EU Sicherheitsstrategi entwickeln regelmäßig fortschreiben Formulierung regelmäßig öffentlich Diskuss Strategi gelingen breiten Öffentlichkeit Bewusstsein Verständni sicherheitspolitisch Themen schaffen offenen toleranten Bürgergesellschaft Sicherheitspolitik mehr Thema wenig Spezialisten Dabei gilt politischen Auftrag Bundeswehr stet klar formulieren entsprechend Struktur Rechtssicherheit Streitkräft abzuleiten Dabei Schutz territorialen Integrität Deutschland Auftrag Trennung Zuständigkeiten Bundeswehr Polizei erhalten bleiben setzen parlamentarisch Gremium vollumfänglichen Auskunftsrechten Entscheidungen Bundessicherheitsrat kontrolliert vergleichbar Verfahren Kontroll Geheimdienst Rüstungsexportbericht künftig zeitnah direkten Anschluss Berichtszeitraum veröffentlicht Kontroll weiteren Verbleib Verwendung exportiert Waffen Rüstungsgüter auszubauen Rüstungskontroll neue Technologien modernen Kriegsführung Beispiel Spionagesoftwar auszuweiten Rahmen zivilen Krisenprävent beim Wiederaufbau staatlich Strukturen Krise legen Schwerpunkt Stärkung Aufbaus zivilen Fähigkeiten Verwaltung Justiz Polizei Darüber hinaus sollten Instrument Entwicklungszusammenarbeit Aufbau wirtschaftlich Partnerschaften polizeilich rechtsstaatlich Zusammenarbeit sowi Förderung grenzüberschreitend Zusammenarbeit Konflikt Krisenprävent Sinn kohärenten Politikansatz gestärkt Ziel Stärkung nuklearen radiologischen chemischen biologischen sowi konventionellen Kontrol Nichtverbreitungsregim universell Anwendung internationalen Vertragsregim Verhaltenskod erklärt Ziel Speziel Rahmen nuklearen Rüstungskontroll setzen konsequ umfassend Stärkung nuklearen Nichtverbreitungsvertrag Inkrafttreten Teststoppvertrag Darüber hinaus neue Wege gehen bisherigen Konventionen hinaus weltweit Abrüstung voranzutreiben Beispiel aktiv Beitritt Nichtvertragsstaaten Biowaffen sowi Chemiewaffenverbotsübereinkommen werben Ziel Abzug taktisch Nuklearwaffen Europa halten fest eingeleitet Übergab Verantwortung Regierung Afghanistan Abzug Kampftruppen fortsetzen Datum hinaus Menschen Afghanistan beim Aufbau Land Rahmen Entwicklungszusammenarbeit wirksam unterstützen', 'Bundeswehr leistet Soldatinnen Soldaten unverzichtbaren Beitrag']"
        ],
        [
         "17",
         "16",
         "537",
         "16_klimaschutz_klima_klimawandel_klimakris",
         "['klimaschutz', 'klima', 'klimawandel', 'klimakris', 'klimagerechtigkeit', 'klimapolitik', 'folgen klimawandel', 'klimaabkommen', 'pari', 'grad']",
         "['Maßnahmen Anpassung Klimawandel Klimaschutz unterstützen nachdrücklich', 'Klima', 'Klimawandel']"
        ],
        [
         "18",
         "17",
         "473",
         "17_sport_breitensport_spitzensport_sportstätten",
         "['sport', 'breitensport', 'spitzensport', 'sportstätten', 'sportlich', 'sportverein', 'leistungssport', 'dope', 'spiel', 'vereinen']",
         "['Sport', 'Sport', 'X Sport']"
        ],
        [
         "19",
         "18",
         "446",
         "18_fdp_fdp setzt_fdp fordert_lehnt",
         "['fdp', 'fdp setzt', 'fdp fordert', 'lehnt', 'ab fdp', 'setzt', 'fdp tritt', 'fordert', 'fdp lehnt', 'lehnt fdp']",
         "['FDP setzt Finanzierungsneutralität', 'FDP fordert Einführung Liberalen Bürgergeld', 'FDP setzt Stärkung Adoptionen']"
        ],
        [
         "20",
         "19",
         "444",
         "19_ost_west_ostdeutschland_ost west",
         "['ost', 'west', 'ostdeutschland', 'ost west', 'osten', 'westen', 'aufbau ost', 'ostdeutschen', 'aufbau', 'rentenwert']",
         "['Nord Süd Ost West', 'Abrüstung Ost West', 'X Gleichwertig Lebensverhältniss Ost West']"
        ],
        [
         "21",
         "20",
         "406",
         "20_schulden_schuldenbrems_neuverschuldung_verschuldung",
         "['schulden', 'schuldenbrems', 'neuverschuldung', 'verschuldung', 'staatsschulden', 'staatsverschuldung', 'kredit', 'haushalt', 'staatsanleihen', 'öffentlichen haushalt']",
         "['Schuldenbrems', 'Dafür treten schwarz Null beim Staatshaushalt Einstieg Tilgung unser Schulden schnell möglich erreichen stehen solid stabil Haushalt Tilgung unser Altschulden wenig Staatsschulden best Schutz Inflation konsequenten Einsatz mehr Wachstum stärken Grundlagen unser Wohlstand Deutschland Europa schaffen Basi solid Haushalt stabil Währung verteidigen Unabhängigkeit EZB EZB Geldwertstabilität verpflichtet bleiben Staatsfinanzierung EZB Sanierung Staatshaushalt Inflation lehnen Entschiedenheit ab möchten Bundesbank EZB Rat stärken Heut Bundesbank Rat EZB Stimmen obwohl Deutschland Viertel Haftungsrisiko trägt angemessen ändern außergewöhnlichen Entscheidungen Aufkauf Staatsanleihen brauchen Bundesbank großen Zentralbanken Veto Möglichkeit o stehen Stabilitätsunion soliden Haushalten Finanzen o Haftungsunion geben o gesamtschuldnerisch Haftung Staatsanleihen Mitgliedstaaten Eurobond Altschuldentilgungsfond lehnen Liberalen politischen rechtlichen wirtschaftlichen Gründen ab o Stattdessen weiter Strukturr formen angezeigt Europa eigen Kraft Schulden heraus wachsen o Form Nothilf letzt Mittel Stabilität Euro Zone insgesamt Gefahr Geldwertwertstabilität Grundgesetz aufnehmen Geldwertstabilität wirtschaftlich Freiheitsentfaltung Bürger entscheidend', 'Schulden']"
        ],
        [
         "22",
         "21",
         "402",
         "21_rentenversicherung_altersvorsorg_gesetzlich rentenversicherung_gesetzlichen rentenversicherung",
         "['rentenversicherung', 'altersvorsorg', 'gesetzlich rentenversicherung', 'gesetzlichen rentenversicherung', 'rent', 'renten', 'alterssicherung', 'rentner', 'gesetzlichen', 'gesetzlich']",
         "['Altersaufbau unser Bevölkerung ändert mehr Rentner wenig Beitragszahl nächsten Legislaturperiod grundlegend Strukturreform vornehmen Renten nächste Gener sichern', 'Altersaufbau unser Bevölkerung ändert mehr Rentner wenig Beitragszahl nächsten Legislaturperiod grundlegend Strukturreform vornehmen Renten nächste Gener sichern', 'Altersaufbau unser Bevölkerung ändert mehr Rentner wenig Beitragszahl nächsten Legislaturperiod grundlegend Strukturreform vornehmen Renten nächste Gener sichern']"
        ],
        [
         "23",
         "22",
         "387",
         "22_wirtschaft_innovationen_technologien_wirtschaftlichen",
         "['wirtschaft', 'innovationen', 'technologien', 'wirtschaftlichen', 'wirtschaftlich', 'marktwirtschaft', 'innovat', 'neue technologien', 'wachstum', 'technologisch']",
         "['gegenwärtigen Marktsitu Ziel Marktpolitik Preispolitik allein erreicht', 'Gebiet neuen Länder bereit Vorreit Europa Verkürzung staatlichen Genehmigungsverfahren Technologiebereich Ziel Genehmigung Anträgen innerhalb sech Monaten stärkere breitenwirksam Förderung Forschung Entwicklung Innovat sollen Anreiz zusätzlich Forschungsanstrengungen Wirtschaft geschaffen kleinen mittleren Unternehmen zugut kommen Gründung Deutschen Akademi Wissenschaft Technik Diskuss Arbeitsforum besten Köpfe Land Bundeskanzl zugeordneten Rat Forschung Technologi Innovat innovationsfreundlich Klima unterstützen besser Zusammenarbeit Wissenschaft Wirtschaft Politik erreichen Verstärkung Technologietransf Wissenschaft Wirtschaft Forschung Entwicklung erzielt Ergebniss schneller marktfähig Produkt umzusetzen Aufbringen mehr Risikokapit klein mittler Unternehmen innovativen Ideen', 'gegenwärtigen Marktsitu Ziel Marktpolitik Preispolitik allein erreicht']"
        ],
        [
         "24",
         "23",
         "382",
         "23_tierschutz_tier_tieren_tierhaltung",
         "['tierschutz', 'tier', 'tieren', 'tierhaltung', 'tierversuch', 'tierschutzgesetz', 'tierversuchen', 'haltung', 'antibiotika', 'artgerecht']",
         "['Tierschutz verbessern Reform Tierschutzgesetz', 'Tierhaltung Transport lebend Tier Tierschutz Interess Erzeuger entscheidend verbessern', 'Tierschutz verbessern']"
        ],
        [
         "25",
         "24",
         "379",
         "24_asyl_asylrecht_asylverfahren_asylbewerb",
         "['asyl', 'asylrecht', 'asylverfahren', 'asylbewerb', 'grundrecht asyl', 'asylpolitik', 'recht asyl', 'asylbewerberleistungsgesetz', 'flüchtling', 'asylsuchend']",
         "['Freie Demokraten Grundrecht Asyl politisch Verfolgt unantastbar', 'stehen Recht Asyl', 'Asyl']"
        ],
        [
         "26",
         "25",
         "367",
         "25_spd_spd geführt_geführt bundesregierung_geführt",
         "['spd', 'spd geführt', 'geführt bundesregierung', 'geführt', 'spd wählen', 'wählen wer', 'bundesregierung', 'spd grünen', 'wählen', 'partei']",
         "['SPD geführt Bundesregierung setzt Stärken ländlichen Raum', 'rufen Bürgerinnen Bürger unser Land Wer dass Land Lehren Krise zieht Aufbruch mehr Demokrati neuer Gemeinsamkeit wagt SPD wählen Wer Land zusammenführen Spaltung Starken Schwachen überwinden SPD wählen Wer Gute Arbeit menschenwürdig fairen Löhnen SPD wählen Wer stark Arbeitnehmerrecht funktionierenden Kündigungsschutz Mitbestimmung SPD wählen Wer Gleichberechtigung Männern Frauen praktisch durchsetzen SPD wählen Wer Kinderarmut entschlossen bekämpfen Alleinerziehend besser unterstützen SPD wählen Wer verlässlich Altersvorsorg echt Teilhab älterer Menschen SPD wählen Wer dass Lasten fair verteilt SPD wählen Wer Zukunft handlungsfähigen Sozialstaat SPD wählen Wer neuen Atomkraftwerk SPD wählen Wer Steuerhinterziehung Kavaliersdelikt hält SPD wählen Wer Zukunft sozialdemokratisch Politik SPD wählen Wer international Abrüstung konsequent Friedenspolitik SPD wählen Wer global Gerechtigkeit eintritt SPD wählen', 'SPD geführt']"
        ],
        [
         "27",
         "26",
         "359",
         "26_daten_datenschutz_personenbezogen daten_speicherung",
         "['daten', 'datenschutz', 'personenbezogen daten', 'speicherung', 'personenbezogen', 'privatsphär', 'vorratsdatenspeicherung', 'persönlich daten', 'gespeichert', 'informationell']",
         "['Insbesonder mißbräuchlich Übertragung personenbezogen Daten Ausland verhindern Schutz personenbezogen Daten muß Einführung Neuer Medien Bildschirmtext u gewährleistet', 'behördlich Speicherung personenbezogen Daten Geflüchtet Verhältnismäßigkeit Grundrecht informationell Selbstbestimmung entsprechen', 'Dafür treten o Überwachung Telekommunik darf Deutschland engen gesetzlichen Grenzen verhältnismäßigem Umfang klaren Rechtsschutzmöglichkeiten erfolgen o dass Zukunft Grenz gewahrt bleibt o ständig steigend Zahl Telekommunikationsüberwachungen gibt Anlass Überprüfung dahingehend rechtsstaatlich Sicherungen wirkungsvol verankert Alltag Strafverfolgung Schutz Bürgerrecht bewähren setzen dafür Praxi sogenannten Funkzellenabfragen genau beobachten gegebenenfal gesetzlichen Anforderungen Verhältnismäßigkeitsprinzip gesetzlich konkretisieren Keinesfal darf unkontrollierten Massenabfragen etwa grundrechtlich geschützten Versammlungen kommen Recht Menschen freiwilligen DNA Reihenuntersuchungen stärken Ansonsten droht Aushöhlung Zeugnisverweigerungsrecht Deshalb Belehrungspflichten ausbauen weiter verfahrensrechtlich Sicherungen Voraussetzung Reihenuntersuchungen Kernbereich privat Lebensführung stärker schützen Aufnahm sogenannten Spähangriff Strafprozessordnung lehnen ab sogenannt Große Lauschangriff Hintergrund Rechtsprechung Bundesverfassungsgericht Hinblick Nutzen erfolgreich Verbrechensbekämpfung Prüfstand stellen Deal Strafprozess gemäß Vorgaben Bundesverfassungsgericht überprüft Überprüfung zeigen dass Grundsätz fairen Verfahren schuldangemessenen Strafe ausreichend sicherstellen lassen Deal notfal gesetzlich ausgeschlossen Weiterhin Schutz Berufsgeheimnisträgern Beispiel Ärzten Anwälten Geistlichen Sozialarbeitern stärken Strafprozessordnung überprüfen weiter Berufsgeheimnisträg absoluten Schutz genießen sollten Strafverfahren schonend Umgang Gewaltopfern selbstverständlich Zivilcourag notwendig Voraussetzung Bürgergesellschaft Staat deshalb Engagement Einsatz Bürgern stärker honorieren Straftätern stellen Opfern helfen Opfern Justizirrtümern besser helfen unterstützen deshalb Einführung entsprechenden Anlaufstell setzen modern Familien Erbrecht Dispositionsmöglichkeiten Bürger erweitert gehören mehr Testierfreiheit Erblasser sowi zusätzlich Güterstand sogenannten Errungenschaftsgemeinschaft Ehegatten eingetragen Lebenspartn familien erbrechtlich Situat Gegebenheiten modern Reproduktionsmedizin Beispiel Samenspenden anpassen setzen Europäisch Privatgesellschaft Europa GmbH exportstarken deutschen Mittelstand Rechtsform Verfügung stellen kostengünstig ganz Europa operieren lässt liberalen Rechtsstaat leistungsfähig unabhängig Justiz unentbehrlich Stärkung Selbstverwaltung Justiz extern Weisungsrecht Landesjustizverwaltung gegenüb Staatsanwaltschaften abzuschaffen Anschein politischen Beeinflussung Justiz vorzubeugen Notwendig Verkürzung Verfahrensdau Gerichten Justiz fit modern Informationsgesellschaft Globalisierung Kammern Handelsrecht künftig englisch Sprach verhandelt international rechtlich Zusammenarbeit Feld Rechtsexport Schwellen Übergangsländern ausbauen mehr Rechtssicherheit Frage sorgen wofür Staat haftbar gemacht befürworten Einführung Staatshaftungsgesetz Urheberrecht modernisieren Interessenausgleich Urhebern Rechteinhabern sowi Nutzern fair gestaltet Zugang Wissen Innovat ermöglicht klar wem geistig Leistung gehört Menschen Eigentumsverhältni respektieren fair Handelsbeziehungen darauf aufbauen neue Geschäftsmodell entwickeln Forderungen Überwachung Zensur Internetverkehr Durchsetzung wirtschaftlich Interessen lehnen ab sogenannt Three Strike Lösung Bürgern Zugang Internet entzogen lehnen ab unverhältnismäßig international Zusammenarbeit stärken transparent gestalten Portalen eindeutig urheberrechtsverletzenden Inhalten deren Server Drittstaaten stehen Stirn bieten Illegal Angebot sollen gezielt bekämpft dürfen Betreib mehr lukrativ Urheberrecht Informationsgesellschaft technikoffen unterschiedlichen Lizenzmodell diskriminierungsfrei nebeneinand bestehen lassen Wahlfreiheit Urheber Werk vermarkten möchten sichern Rechtsrahmen Urheberrecht gestalten dass offen bleibt kreativ Verwertungsmodell Forscher Wissenschaftl sollen weiterhin entscheiden Werk Beiträg frei zugänglich Lizenz stehen gilt öffentlich gefördert Forschungsprojekt Freiheit Entscheidung eigenen Werk genutzt darf gesetzlich Regelungen genommen Anreiz Möglichkeiten Entfaltung Forschung jenseit öffentlich Förderung betrieben setzen jedoch öffentlich gefördert Forschung Förderungsrichtlinien Publik Ergebniss grundsätzlich Ziel soweit zwingenden Belang entgegenstehen Urheberrecht klarzustellen dass Privatkopi ungeachtet technischen Kopierschutz zulässig Käufer Werk zuvor erworben Privatkopi lediglich Eigengebrauch etwa Datensicherung Wiedergab Wiedergabegerät angefertigt technischen Mittel schrankengemäßen Ingebrauchnahm Werk Rechteinhab Verfügung stellen Kontenabfrag verschiedenen Rechtsbereichen gehört absolut erforderlich Maß zurückgeführt tatsächlich Anhaltspunkt Steuerhinterziehung Sozialbetrug erheblich Straftaten vorliegen sollten Kontenabfragen praktiziert Analog Abfrage Bestandsdaten sollen Kontoabfragen Betroffenen nachträglich informiert Strafbarkeitslück Bereich Datenhehlerei gilt schließen Verschaffen unbefugt Verwendung Daten bestrafen Weitergab rechtswidrig erlangt Daten Deshalb setzen Aufnahm Straftatbestand Datenhehlerei Strafgesetzbuch Liberal stehen Rechtsfortentwicklung legal digital Geschäftsmodell freien Daten Informationsfluss einebnet setzen deshalb u a Änderung Betreiberhaftung mehr Rechtssicherheit WLAN Betreib schaffen']"
        ],
        [
         "28",
         "27",
         "317",
         "27_internet_it_it sicherheit_daten",
         "['internet', 'it', 'it sicherheit', 'daten', 'netz', 'cyber', 'online', 'datenschutz', 'sicherheit', 'zugang internet']",
         "['IT Sicherheit Standortfaktor', 'IT Sicherheit erhöht', 'Schnell Internet überal']"
        ],
        [
         "29",
         "28",
         "306",
         "28_banken_zentralbank_bankenaufsicht_bundesbank",
         "['banken', 'zentralbank', 'bankenaufsicht', 'bundesbank', 'ezb', 'bank', 'europäischen zentralbank', 'sparkassen', 'großbanken', 'genossenschaftsbanken']",
         "['bekennen Unabhängigkeit Europäischen Zentralbank EZB', 'Banken regulieren Banken geschehen', 'Banken regulieren Banken geschehen']"
        ],
        [
         "30",
         "29",
         "297",
         "29_polizei_kriminalität_polizisten_polizei justiz",
         "['polizei', 'kriminalität', 'polizisten', 'polizei justiz', 'nachrichtendiensten', 'polizistinnen', 'justiz', 'bundespolizei', 'polizist', 'polizist innen']",
         "['Organisiert Kriminalität bekämpfen Grenzüberschreitend Zusammenarbeit Polizei Justiz', 'verfassungsrechtlich Gebot Trennung Polizei Nachrichtendiensten muß strikt beachtet Amtshilf Polizei Nachrichtendiensten gesetzlich geregelt', 'Polizei']"
        ],
        [
         "31",
         "30",
         "296",
         "30_drogen_drogenpolitik_cannabi_alkohol",
         "['drogen', 'drogenpolitik', 'cannabi', 'alkohol', 'illegalen', 'tabak', 'beschaffungskriminalität', 'drogenhandel', 'drogenkonsum', 'kriminalisierung']",
         "['Jahren Krieg Drogen breiten Anbau Konsum illegal Drogen weltweit', 'verantwortlich Drogenpolitik müssen legalen Drogen Beispiel Alkohol Tabak sowi illegalen Drogen stoffgebundenen Süchte Glücksspiel gleichermaßen einbezogen', 'Drogen']"
        ],
        [
         "32",
         "31",
         "292",
         "31_menschen behinderungen_behinderungen_behinderung_menschen behinderung",
         "['menschen behinderungen', 'behinderungen', 'behinderung', 'menschen behinderung', 'behinderten', 'behindert', 'behindertenrechtskonvent', 'menschen', 'un behindertenrechtskonvent', 'behinderten menschen']",
         "['V gemeinsam leben menschen Behinderungen', 'Gleichberechtigt Teilhab Menschen Behinderungen', 'Menschen Behinderungen']"
        ],
        [
         "33",
         "32",
         "290",
         "32_wettbewerb_wettbewerbsfähig_unternehmen_markt",
         "['wettbewerb', 'wettbewerbsfähig', 'unternehmen', 'markt', 'konkurrenz', 'wettbewerbsfähigkeit', 'leistungswettbewerb', 'wettbewerbsbedingungen', 'wettbewerbsbeschränkungen', 'marktbeherrschend']",
         "['Stell Zonenrandförderung müssen Grundsätz regionalen Wirtschaftsförderung treten Sicherung Wettbewerb Offenheit Märkte sowi Verhinderung monopolistisch Marktstrukturen muß voll Anwendung Wettbewerbsgesetz Einflußnahm Bundeskartellamt neuen Bundesländern erfolgen sanierungsfähigen Unternehmen kommt Einzelfal teilweis vollständig Entschuldung Betracht dadurch Umstrukturierung gefördert Überlebensfähigkeit Unternehmen erhöht wettbewerbsfähig Arbeitsplätz gesichert', 'Fairen Wettbewerb stärken', 'erfordert verbrauchergerecht Ladenschlußzeiten Entflechtung Großunternehmen ermöglichen deren marktbeherrschend Stellung Wettbewerb ausschließt wesentlich einschränkt Weis wirksam Wettbewerb erreichen läßt Wettbewerbsvoraussetzungen Einzelhandel dadurch anzugleichen kommunalen Bereich bestimmt Einzelhandelsformen bestehenden strukturellen Vorteil beseitigt Selbsthilfemaßnahmen erleichtern darauf abzielen Praktiken bekämpfen Wettbewerb Einzelhandelsstuf verzerrt Einzelhandelsunternehmen Markt verdrängt sollen gesetzlichen Regelungen Diskriminierungen marktstark Unternehmen verschärfen aufgetretenen Störungen Leistungswettbewerb Weis beseitigt Bemühungen Schaffung Europäischen Gemeinschaftsverträg ergänzenden Recht Kontroll Unternehmenszusammen schlüssen unterstützen bereit bestehend international Zusammenarbeit KartteIl Monopolbehörden einzelnen Länder besond Bereich EG erweitern vertiefen Hauptaufgab liberal Wirtschaftspolitik heut Wiederherstellung dauerhaft Sicherung Vollbeschäftigung']"
        ],
        [
         "34",
         "33",
         "285",
         "33_natur_naturschutz_artenvielfalt_biologischen vielfalt",
         "['natur', 'naturschutz', 'artenvielfalt', 'biologischen vielfalt', 'vielfalt', 'biologisch vielfalt', 'biologischen', 'biologisch', 'tier', 'naturerb']",
         "['UN Konvent biologischen Vielfalt umsetzen bundesweit koordiniert Programm Überwachung biologischen Vielfalt realisieren Biodiversitätsmonitor', 'Schutz biologischen Vielfalt', 'Landschaftsschutzgebiet Naturschutzgebiet Nationalpark erhalten Lebensräum Tier Pflanzen bewahren Artenvielfalt']"
        ],
        [
         "35",
         "34",
         "283",
         "34_rot_grün_rot grün_grünen",
         "['rot', 'grün', 'rot grün', 'grünen', 'grüne', 'green', 'gesellschaftsvertrag', 'grünen neuen', 'new deal', 'deal']",
         "['Wer Grün wählt stimmt grünen Neuen Gesellschaftsvertrag', 'stehen schwere Erbe Rot Grün Jahr Rot Grün Deutschland tief Krise gestürzt', 'Rot Grün Chanc']"
        ],
        [
         "36",
         "35",
         "281",
         "35_politik_unser politik_politisch_politischen",
         "['politik', 'unser politik', 'politisch', 'politischen', 'politik rechnen', 'besser politik', 'politik umzusetzen', 'politik stellen', 'politik darf', 'längst verdient']",
         "['Politik rechnen', 'unser Politik Mitt', 'Gemeinwohl Mittelpunkt unser Politik stellen']"
        ],
        [
         "37",
         "36",
         "275",
         "36_kirchen_religionsgemeinschaften_religion_kirchen religionsgemeinschaften",
         "['kirchen', 'religionsgemeinschaften', 'religion', 'kirchen religionsgemeinschaften', 'kirch', 'kirchlichen', 'religionsfreiheit', 'weltanschauungsgemeinschaften', 'religiösen', 'religion weltanschauungsgemeinschaften']",
         "['IX Kirchen Religionsgemeinschaften', 'Christlich Kirchen Religionsgemeinschaften', 'Kirchen Religionsgemeinschaften']"
        ],
        [
         "38",
         "37",
         "257",
         "37_nato_russland_militärisch_nato stärken",
         "['nato', 'russland', 'militärisch', 'nato stärken', 'usa', 'eu nato', 'nato eu', 'nato russland', 'sicherheitssystem', 'nato staaten']",
         "['bekennen NATO neue strategisch Konzept NATO einsetzen sicherheitspolitischen Veränderungen angemessen antwortet', 'Deshalb setzen Dialog NATO Russland Rat', 'NATO stärken']"
        ],
        [
         "39",
         "38",
         "246",
         "38_freie demokraten_demokraten_freie_demokraten fordern",
         "['freie demokraten', 'demokraten', 'freie', 'demokraten fordern', 'demokrati', 'demokratischen', 'freiheitlich', 'demokraten setzen', 'demokratisch', 'freie demokratisch']",
         "['Freie Demokraten fordern Reform Statusfeststellungsverfahren', 'Freie Demokraten fordern Fair Selbstständig', 'Freie Demokraten']"
        ],
        [
         "40",
         "39",
         "240",
         "39_freiheit_freiheit sicherheit_sicherheit_freiheitsrecht",
         "['freiheit', 'freiheit sicherheit', 'sicherheit', 'freiheitsrecht', 'freiheit braucht', 'freiheit verantwortung', 'freiheit menschen', 'sicherheit freiheit', 'freiheit freiheit', 'bürger']",
         "['Menschen Freiheit Sicherheit', 'Freiheit Sicherheit', 'Freiheit Sicherheit']"
        ],
        [
         "41",
         "40",
         "228",
         "40_weitergehen_lehnen_lehnen ab_gehen",
         "['weitergehen', 'lehnen', 'lehnen ab', 'gehen', 'tun', 'ab lehnen', 'ab', 'kommt kommt', 'weitergehen weitergehen', 'weitergehen lehnen']",
         "['weitergehen', 'weitergehen', 'weitergehen']"
        ],
        [
         "42",
         "41",
         "222",
         "41_gesellschaft_unser gesellschaft_risiken_zusammenhalt",
         "['gesellschaft', 'unser gesellschaft', 'risiken', 'zusammenhalt', 'unsere gesellschaft', 'solidarisch gesellschaft', 'gesellschaftlichen', 'mitt', 'leistungsträg unser', 'chancen']",
         "['unser Gesellschaft gibt Menschen nie reinkamen gibt Menschen Mitt unten durchgefallen gibt wachsend Grupp Verunsicherten Angst herauszufallen', 'Leistungsträg unser Gesellschaft motivieren dadurch best Gesamtergebni sozialen Chancen unser Gesellschaft erreichen', 'Zusammenhalt unser Gesellschaft']"
        ],
        [
         "43",
         "42",
         "220",
         "42_lesben_sexuellen_schwule_schwulen",
         "['lesben', 'sexuellen', 'schwule', 'schwulen', 'identität', 'geschlecht', 'lesben schwulen', 'religion', 'sexuel', 'herkunft']",
         "['Niemand wegen Geschlecht ethnischen Herkunft Religion Weltanschauung sexuellen Identität Alter wegen Behinderung benachteiligt', 'Niemand darf wegen Geschlecht ethnischen Herkunft Religion Behinderung Alter sexuellen Identität diskriminiert', 'Dafür treten treten kulturell Relativierung Menschenrechtsbegriff effekt Durchsetzung rechtsstaatlichem Handeln internationalen Beziehungen wenden jeglich Diskriminierung aufgrund Religion ethnisch Herkunft Geschlecht Behinderung Alter sexuel Orientierung Unterdrückung Angriff Menschen einzeln Bevölkerungsgruppen stet Angriff Freiheit ganzen Gesellschaft weiterhin entschlossen Diskriminierung Lesben Schwulen Bi Sexuellen Transgend Intersexuellen Außen Entwicklungspolitik entgegentreten begonnen Politik Bereich fortsetzen Freie Meinungsbildung Grundlag selbstbestimmtem Handeln bürgerschaftlich Partizip grundlegend Menschenrecht treten Meinungsfreiheit Versammlungsfreiheit Freiheit Press setzen uneingeschränkt körperlich geistig Unversehrtheit Menschen Deshalb engagieren Nachdruck weltweit Abschaffung Todesstraf Folter Bekämpfung internationalen Terrorismus heiligt Zweck Mittel darf Einschränkung menschenrechtlich Standard einhergehen wenden daher jeglich Versuch Namen Terrorismusbekämpfung fundamental Menschenrecht einzuschränken treten weltweit Ächtung Menschenhandel Kinderarbeit Zwangsarbeit Zwangsprostitut Einsatz Kindersoldaten körperlich Unversehrtheit fundamental Menschenrecht weiblich Genitalverstümmelung Menschenrecht Frauen Mädchen grausamst Weis eingegriffen treten explizit Strafbarkeit Verbrechen deutlich Signal ausgeht verabscheuungswürdig Verbrechen streben Ratifizierung Übereinkommen Europar Verhütung Bekämpfung Gewalt Frauen häuslich Gewalt betroffenen Frauen verbesserten Opferschutz bieten Ratifizierung Zusatzprotokol Pakt Vereinten Nationen wirtschaftlich sozial kulturell Recht Einzelpersonen Ausschöpfung nationalen Rechtsweg Möglichkeit geben persönlichen Recht internationalen Gremium einzuklagen o Zugang sauberem Trinkwass sanitären Einrichtungen wesentlich Voraussetzung Gesundheit Menschen deren Ernährungssicherheit o Deshalb setzen besser Geltung Menschenrecht Trinkwass sanitär Grundversorgung unterstützen entsprechend Initiativen Ebene Vereinten Nationen Korrupt steht Durchsetzung Menschenrechten entgegen Menschenrechtsschutz umfasst daher Bekämpfung Korrupt setzen verfassungskonform Ratifizierung UN Konvent Korrupt weiter Stärkung internationalen Strafgerichtsbarkeit Beispiel Internationalen Strafgerichtshof Dach Vereinten Nationen völkerrechtlichen Begriff Schutzverantwortung ausdifferenzieren entwickeln Dabei Säulen to prevent to react to rebuild Stärkung Prävention besonder Bedeutung zukommen Beitritt EU Europäischen Menschenrechtskonvent schließen Lücke beim Schutz Menschenrecht Europa zügige Umsetzung Beitrittsabkommen eintreten Charta Grundrecht Europäischen Union Europäisch Menschenrechtskonvent müssen EU Mitgliedstaaten ungeachtet politischen Couleur jeweiligen nationalen Regierung geachtet bekennen Europäischen Gerichtshof Menschenrecht unterstützen aktiv Reform Dabei möchten unser Erfolg Reformkonferenz Brighton anknüpfen schnell Umsetzung Reformvorschläg einsetzen Menschenrechtsarbeit OSZE fördern Stellung OSZE Büros demokratisch Institutionen Menschenrecht ODIHR stärken solidarischen Beitrag dafür leisten dass Europa Welt sicher Zufluchtsort politisch Verfolgt Deswegen setzen europaweit menschenwürdig Regelung Grundrecht Asyl Europäischen Verteilungsschlüssel Asylsuchend anerkannt Flüchtling ähnlich Königstein Schlüssel Deutschland Ziel darf dabei kleinst gemeinsam Nenner Deutschland voran gehen Arbeitserlaubnispflicht Asylbewerbern ebenso abschaffen Residenzpflicht Flüchtling Unbegleitet minderjährig Flüchtling sollen erst ab Jahren verfahrensmündig angesehen einstweiligen Rechtsschutz Dublin Fällen gesetzlich regeln dass Gebot effektiven Rechtsschutz Anforderungen Dublin III Verordnung genügt Aufnahm Flüchtlingen deren Notlag Bedürftigkeit entscheidend Religionszugehörigkeit dringen darauf dass Rückführung abgelehnten Bewerbern EU Länder eindeutig gemeinsam Bestimmungen sicher Drittstaaten gibt langen Jahren Deutschland Vorbehalt Kinderrechtskonvent Vereinten Nationen endlich zurückgenommen steht Rechtsanwendung neuen Vorzeichen unbegleitet minderjährig Flüchtling Kindeswohl stärker berücksichtigen gesetzlich Regelungen überarbeiten beispielsweis Bestimmungen Einreis beziehungsweis Familienzusammenführung Deutschland Verbesserung Recht Opfer Frauen Menschenhandel Situat Menschen Aufenthaltsstatus Bereich Gesundheit fair Entlohnung schnell eingehend überprüfen']"
        ],
        [
         "44",
         "43",
         "217",
         "43_atomwaffen_waffen_nuklearen_massenvernichtungswaffen",
         "['atomwaffen', 'waffen', 'nuklearen', 'massenvernichtungswaffen', 'weltweit', 'kleinwaffen', 'abrüstung', 'nuklear', 'nuklearwaffen', 'atomaren']",
         "['Abzug Atomwaffen Deutschland kämpfen Global Zero Welt Atomwaffen deshalb streiten weiterhin Nuklearwaffenkonvent Atomwaffen völkerrechtlich ächten', 'Vision Welt Massenvernichtungswaffen gehört konsequent Abrüstung eigenen Land letzten Deutschland stationierten US Atomwaffen müssen sofort abgezogen vernichtet dürfen modernisierten Atombomben Deutschland stationiert Mittel Modernisierung Trägerflugzeug Abwurf Atombomben bereitgestellt LINKE tritt nächsten Legislaturperiod Nachdruck vertraglich Ächtung Atomwaffen weltweit Bundeswehr Polizeien Bund Länder dürfen Kampf Überwachungsdrohnen anschaffen Betrieb System bspw Ausland beteiligen', 'Deutschland muß radikal Abrüstung NATO eintreten Abrüstungsschritt konventionellen Bereich Fortführung KSE Vertrag Verzicht Atomwaffen sofortigen Abzug Atomwaffen Gebiet Kernwaffenstaaten Deutschland Entnuklearisierung deutschen Gebiet beschließen Verschrottung Atomwaffen einsetzen Einbeziehung nuklearen Potential Großbritannien Frankreich START Verhandlungen Vergemeinschaftung Atomwaffen zB Verfügungsgewalt französisch britisch Atomwaffen EU Staaten geteilt lehnen ab Einrichtung atomwaffenfreien Zone Europa Beteiligung Deutschland Festschreibung Verzicht atomar Waffen Grundgesetz']"
        ],
        [
         "45",
         "44",
         "216",
         "44_lebensmittel_lebensmitteln_gesund_ernährung",
         "['lebensmittel', 'lebensmitteln', 'gesund', 'ernährung', 'verbraucherinnen', 'essen', 'kennzeichnung', 'verbraucherinnen verbrauch', 'nahrungsmittel', 'verbrauch']",
         "['Wer GRÜN wählt stärkt Recht Verbraucherinnen Verbrauch sagt Abzocken Kampf stimmt fair Energiepreis beim Einkauf genau wissen drin Biound Fairtrad stärken wählt gesund Lebensmittel Pestizid Gentechnikund Antibiotika', 'Kosten Kontrollaufgaben Lebensmittelwirtschaft mitfinanzieren Lebensmittel müssen deklariert Herkunft Inhalt Inhaltsstoff Meng Preis ältere Menschen lesbar Schrift klare Nährwertkennzeichnung Lebensmitteln Ampel Ergebniss Hygienekontrollen Gaststätten müssen transpar gemacht besseren Anlegerschutz funktionierend Bankenaufsicht Finanz TÜV Schrottpapier länger Markt kommen Überziehung Dispo Zinsen gesetzlich begrenzen treten Beendigung unseriös überzogen Inkassopraktiken Unlauter Geschäftspraktiken aggress Werbepraxen müssen wirksam unterbunden', 'Sicher Lebensmittel klare Kennzeichnung gesund Ernährung zentral']"
        ],
        [
         "46",
         "45",
         "213",
         "45_städte_stadt_stadt land_dörfer",
         "['städte', 'stadt', 'stadt land', 'dörfer', 'unser städte', 'lebenswert', 'städte gemeinden', 'städten', 'lebensqualität', 'gemeinden']",
         "['Unsere Städte letzten Jahren lebenswert geworden daran arbeiten Städte Dörfer lebenswert liebenswert', 'Stark Städte Gemeinden', 'stehen lebenswert Städte Dörfer']"
        ],
        [
         "47",
         "46",
         "208",
         "46_zukunft_herausforderungen zukunft_gegenwart_herausforderungen",
         "['zukunft', 'herausforderungen zukunft', 'gegenwart', 'herausforderungen', 'gegenwart zukunft', 'zukunft bewältigen', 'zukunft bestehen', 'unsere zukunft', 'kämpfen lohnt', 'zukunft kämpfen']",
         "['Zukunft', 'Zukunft', 'Zukunft']"
        ],
        [
         "48",
         "47",
         "208",
         "47_verbraucherinnen_verbrauch_verbraucherinnen verbrauch_verbraucherschutz",
         "['verbraucherinnen', 'verbrauch', 'verbraucherinnen verbrauch', 'verbraucherschutz', 'verbraucherrecht', 'verbrauchern', 'verbraucherinformationsgesetz', 'verbraucherinnen verbrauchern', 'recht verbraucherinnen', 'verbrauch stärken']",
         "['Recht Verbraucherinnen Verbrauch stärken', 'Recht Verbraucherinnen Verbrauch stärken', 'Verbraucherinnen Verbrauch stärken']"
        ],
        [
         "49",
         "48",
         "199",
         "48_gewerkschaften_leiharbeit_tarifverträgen_arbeitnehm",
         "['gewerkschaften', 'leiharbeit', 'tarifverträgen', 'arbeitnehm', 'arbeit', 'beschäftigten', 'tarifvertraglich', 'betriebsrat', 'werkverträg', 'lohndump']",
         "['Zeit Allgemeinverbindlichkeit Tarifverträgen erleichtern Verbandsklagerecht Gewerkschaften verankern Vorrang Tarifvertrag betrieblichen Vereinbarungen sichern', 'Beteiligung abhängig Beschäftigten Gewerkschaften wesentlichen Entscheidungen Unternehmen stärken paritätisch Mitbestimmung abhängig Beschäftigten privaten öffentlichen gemeinwirtschaftlichen Unternehmen ausweiten mehr Beschäftigt Mitbestimmung wirtschaftlichen Entscheidungen kleineren Betrieben Betriebsverfassungsgesetz verankern Recht Gewerkschaften Betriebsräten verbessern Antistreikparagraphen abschaffen Streikrecht Übernahmen Verlagerungen Unternehmen ausweiten Verbandsklagerecht Gewerkschaften Schutz geltend Tarif einführen Recht politischen Streik Ländern Europa durchsetzen Wirtschaft gestalten kapitalistisch Produkt entwickelt daher Technik Kombin gesellschaftlichen Produktionsprozess zugleich Springquellen Reichtum untergräbt Erde Arbeiter Karl Marx', 'Schutz Gefahrstoffen Produkt muß Vertreterinnen Belegschaften kontrolliert durchgesetzt Erweiterung Recht Jugendvertretungen Einbeziehung Verbraucherinnen Anwohnerinnen Umweltschutzverbänden wirtschaftlich Entscheidungsprozess Streikrecht Gewerkschaften behindernd verletzend Novellierung Paragraphen Arbeitsförderungsgesetzess rückgängig Betriebsrät dürfen vertrauensvoll Zusammenarbeit Kapitalseit verpflichtet bleiben voll Arbeitskampfrecht Betriebsrät uneingeschränkten Zugang Gewerkschaften Betrieben Arbeitsplätzen wirksam Zusammenarbeit Betriebsrat Gewerkschaft Bücher Akteneinsichtsrecht Belegschaften Vertretungsrecht beispielsweis unökologischen Produktionsverfahren Rüstungsprodukt Änderung Arbeitszeitordnung Ziel Einführung individuel gruppenbezogen Freistellungsansprüch Verfügungszeiten Mitbestimmung Arbeitsplatz']"
        ]
       ],
       "shape": {
        "columns": 5,
        "rows": 656
       }
      },
      "text/html": [
       "<div>\n",
       "<style scoped>\n",
       "    .dataframe tbody tr th:only-of-type {\n",
       "        vertical-align: middle;\n",
       "    }\n",
       "\n",
       "    .dataframe tbody tr th {\n",
       "        vertical-align: top;\n",
       "    }\n",
       "\n",
       "    .dataframe thead th {\n",
       "        text-align: right;\n",
       "    }\n",
       "</style>\n",
       "<table border=\"1\" class=\"dataframe\">\n",
       "  <thead>\n",
       "    <tr style=\"text-align: right;\">\n",
       "      <th></th>\n",
       "      <th>Topic</th>\n",
       "      <th>Count</th>\n",
       "      <th>Name</th>\n",
       "      <th>Representation</th>\n",
       "      <th>Representative_Docs</th>\n",
       "    </tr>\n",
       "  </thead>\n",
       "  <tbody>\n",
       "    <tr>\n",
       "      <th>0</th>\n",
       "      <td>-1</td>\n",
       "      <td>40113</td>\n",
       "      <td>-1_deutschland_müssen_menschen_mehr</td>\n",
       "      <td>[deutschland, müssen, menschen, mehr, unser, s...</td>\n",
       "      <td>[heißt F.D.P konkret Wettbewerb effizienter ko...</td>\n",
       "    </tr>\n",
       "    <tr>\n",
       "      <th>1</th>\n",
       "      <td>0</td>\n",
       "      <td>5229</td>\n",
       "      <td>0_bildung_hochschulen_schulen_ausbildung</td>\n",
       "      <td>[bildung, hochschulen, schulen, ausbildung, we...</td>\n",
       "      <td>[CDU CSU Rahmen föderalen Ordnung Bildungssyst...</td>\n",
       "    </tr>\n",
       "    <tr>\n",
       "      <th>2</th>\n",
       "      <td>1</td>\n",
       "      <td>2704</td>\n",
       "      <td>1_familien_kinder_eltern_famili</td>\n",
       "      <td>[familien, kinder, eltern, famili, kind, kinde...</td>\n",
       "      <td>[Vereinbarkeit Famili Beruf verbessern, Verein...</td>\n",
       "    </tr>\n",
       "    <tr>\n",
       "      <th>3</th>\n",
       "      <td>2</td>\n",
       "      <td>1954</td>\n",
       "      <td>2_frauen_männer_männern_frauen männern</td>\n",
       "      <td>[frauen, männer, männern, frauen männern, glei...</td>\n",
       "      <td>[Gleichstellung Männern Frauen gesellschaftlic...</td>\n",
       "    </tr>\n",
       "    <tr>\n",
       "      <th>4</th>\n",
       "      <td>3</td>\n",
       "      <td>1847</td>\n",
       "      <td>3_wohnungsbau_wohnungen_mieter_mieten</td>\n",
       "      <td>[wohnungsbau, wohnungen, mieter, mieten, wohnr...</td>\n",
       "      <td>[Bezahlbar Wohnen ermöglichen sozial Mietrecht...</td>\n",
       "    </tr>\n",
       "    <tr>\n",
       "      <th>...</th>\n",
       "      <td>...</td>\n",
       "      <td>...</td>\n",
       "      <td>...</td>\n",
       "      <td>...</td>\n",
       "      <td>...</td>\n",
       "    </tr>\n",
       "    <tr>\n",
       "      <th>651</th>\n",
       "      <td>650</td>\n",
       "      <td>10</td>\n",
       "      <td>650_stimmen_überheblichkeit stemmen_liberal be...</td>\n",
       "      <td>[stimmen, überheblichkeit stemmen, liberal ber...</td>\n",
       "      <td>[zeigen solidarisch Kritik innen fundamentalis...</td>\n",
       "    </tr>\n",
       "    <tr>\n",
       "      <th>652</th>\n",
       "      <td>651</td>\n",
       "      <td>10</td>\n",
       "      <td>651_klein c114_fördern subsidiarität_zukunftsp...</td>\n",
       "      <td>[klein c114, fördern subsidiarität, zukunftspe...</td>\n",
       "      <td>[Deutschland modernen effizienten Staat getrag...</td>\n",
       "    </tr>\n",
       "    <tr>\n",
       "      <th>653</th>\n",
       "      <td>652</td>\n",
       "      <td>10</td>\n",
       "      <td>652_sonn wind_energien_5onnenenergi_heut entwi...</td>\n",
       "      <td>[sonn wind, energien, 5onnenenergi, heut entwi...</td>\n",
       "      <td>[Wer Effizienztechnologien erneuer bare Energi...</td>\n",
       "    </tr>\n",
       "    <tr>\n",
       "      <th>654</th>\n",
       "      <td>653</td>\n",
       "      <td>10</td>\n",
       "      <td>653_weltwirtschaftsordnung entwickeln_entwickl...</td>\n",
       "      <td>[weltwirtschaftsordnung entwickeln, entwicklun...</td>\n",
       "      <td>[Gleichzeitig arbeiten daran Entwicklung Umwel...</td>\n",
       "    </tr>\n",
       "    <tr>\n",
       "      <th>655</th>\n",
       "      <td>654</td>\n",
       "      <td>10</td>\n",
       "      <td>654_erwächst_europaparla rat_friedensverantwor...</td>\n",
       "      <td>[erwächst, europaparla rat, friedensverantwort...</td>\n",
       "      <td>[Europäisch Entwicklungsfond EEF EU Haushalt i...</td>\n",
       "    </tr>\n",
       "  </tbody>\n",
       "</table>\n",
       "<p>656 rows × 5 columns</p>\n",
       "</div>"
      ],
      "text/plain": [
       "     Topic  Count                                               Name  \\\n",
       "0       -1  40113                -1_deutschland_müssen_menschen_mehr   \n",
       "1        0   5229           0_bildung_hochschulen_schulen_ausbildung   \n",
       "2        1   2704                    1_familien_kinder_eltern_famili   \n",
       "3        2   1954             2_frauen_männer_männern_frauen männern   \n",
       "4        3   1847              3_wohnungsbau_wohnungen_mieter_mieten   \n",
       "..     ...    ...                                                ...   \n",
       "651    650     10  650_stimmen_überheblichkeit stemmen_liberal be...   \n",
       "652    651     10  651_klein c114_fördern subsidiarität_zukunftsp...   \n",
       "653    652     10  652_sonn wind_energien_5onnenenergi_heut entwi...   \n",
       "654    653     10  653_weltwirtschaftsordnung entwickeln_entwickl...   \n",
       "655    654     10  654_erwächst_europaparla rat_friedensverantwor...   \n",
       "\n",
       "                                        Representation  \\\n",
       "0    [deutschland, müssen, menschen, mehr, unser, s...   \n",
       "1    [bildung, hochschulen, schulen, ausbildung, we...   \n",
       "2    [familien, kinder, eltern, famili, kind, kinde...   \n",
       "3    [frauen, männer, männern, frauen männern, glei...   \n",
       "4    [wohnungsbau, wohnungen, mieter, mieten, wohnr...   \n",
       "..                                                 ...   \n",
       "651  [stimmen, überheblichkeit stemmen, liberal ber...   \n",
       "652  [klein c114, fördern subsidiarität, zukunftspe...   \n",
       "653  [sonn wind, energien, 5onnenenergi, heut entwi...   \n",
       "654  [weltwirtschaftsordnung entwickeln, entwicklun...   \n",
       "655  [erwächst, europaparla rat, friedensverantwort...   \n",
       "\n",
       "                                   Representative_Docs  \n",
       "0    [heißt F.D.P konkret Wettbewerb effizienter ko...  \n",
       "1    [CDU CSU Rahmen föderalen Ordnung Bildungssyst...  \n",
       "2    [Vereinbarkeit Famili Beruf verbessern, Verein...  \n",
       "3    [Gleichstellung Männern Frauen gesellschaftlic...  \n",
       "4    [Bezahlbar Wohnen ermöglichen sozial Mietrecht...  \n",
       "..                                                 ...  \n",
       "651  [zeigen solidarisch Kritik innen fundamentalis...  \n",
       "652  [Deutschland modernen effizienten Staat getrag...  \n",
       "653  [Wer Effizienztechnologien erneuer bare Energi...  \n",
       "654  [Gleichzeitig arbeiten daran Entwicklung Umwel...  \n",
       "655  [Europäisch Entwicklungsfond EEF EU Haushalt i...  \n",
       "\n",
       "[656 rows x 5 columns]"
      ]
     },
     "execution_count": 18,
     "metadata": {},
     "output_type": "execute_result"
    }
   ],
   "source": [
    "topic_model.get_topic_info()\n"
   ]
  },
  {
   "cell_type": "code",
   "execution_count": 29,
   "metadata": {},
   "outputs": [
    {
     "data": {
      "text/plain": [
       "10"
      ]
     },
     "execution_count": 29,
     "metadata": {},
     "output_type": "execute_result"
    }
   ],
   "source": [
    "len(topic_model.get_topic(25))"
   ]
  },
  {
   "cell_type": "code",
   "execution_count": 9,
   "metadata": {},
   "outputs": [
    {
     "ename": "KeyError",
     "evalue": "0",
     "output_type": "error",
     "traceback": [
      "\u001b[1;31m---------------------------------------------------------------------------\u001b[0m",
      "\u001b[1;31mValueError\u001b[0m                                Traceback (most recent call last)",
      "File \u001b[1;32mc:\\Users\\Jacob\\AppData\\Local\\Programs\\Python\\Python311\\Lib\\site-packages\\pandas\\core\\indexes\\range.py:345\u001b[0m, in \u001b[0;36mRangeIndex.get_loc\u001b[1;34m(self, key)\u001b[0m\n\u001b[0;32m    344\u001b[0m \u001b[38;5;28;01mtry\u001b[39;00m:\n\u001b[1;32m--> 345\u001b[0m     \u001b[38;5;28;01mreturn\u001b[39;00m \u001b[38;5;28;43mself\u001b[39;49m\u001b[38;5;241;43m.\u001b[39;49m\u001b[43m_range\u001b[49m\u001b[38;5;241;43m.\u001b[39;49m\u001b[43mindex\u001b[49m\u001b[43m(\u001b[49m\u001b[43mnew_key\u001b[49m\u001b[43m)\u001b[49m\n\u001b[0;32m    346\u001b[0m \u001b[38;5;28;01mexcept\u001b[39;00m \u001b[38;5;167;01mValueError\u001b[39;00m \u001b[38;5;28;01mas\u001b[39;00m err:\n",
      "\u001b[1;31mValueError\u001b[0m: 0 is not in range",
      "\nThe above exception was the direct cause of the following exception:\n",
      "\u001b[1;31mKeyError\u001b[0m                                  Traceback (most recent call last)",
      "Cell \u001b[1;32mIn[9], line 2\u001b[0m\n\u001b[0;32m      1\u001b[0m \u001b[38;5;66;03m# Erstelle das `topics_over_time`-Objekt\u001b[39;00m\n\u001b[1;32m----> 2\u001b[0m topics_over_time \u001b[38;5;241m=\u001b[39m \u001b[43mtopic_model\u001b[49m\u001b[38;5;241;43m.\u001b[39;49m\u001b[43mtopics_over_time\u001b[49m\u001b[43m(\u001b[49m\u001b[43mdf_manifesto\u001b[49m\u001b[43m[\u001b[49m\u001b[38;5;124;43m\"\u001b[39;49m\u001b[38;5;124;43mtext\u001b[39;49m\u001b[38;5;124;43m\"\u001b[39;49m\u001b[43m]\u001b[49m\u001b[43m,\u001b[49m\u001b[43m \u001b[49m\u001b[43mdf_manifesto\u001b[49m\u001b[43m[\u001b[49m\u001b[38;5;124;43m\"\u001b[39;49m\u001b[38;5;124;43mdate\u001b[39;49m\u001b[38;5;124;43m\"\u001b[39;49m\u001b[43m]\u001b[49m\u001b[43m)\u001b[49m\n\u001b[0;32m      3\u001b[0m \u001b[38;5;66;03m#topic_model = BERTopic(representation_model=KeyBERTInspired())\u001b[39;00m\n",
      "File \u001b[1;32mc:\\Users\\Jacob\\AppData\\Local\\Programs\\Python\\Python311\\Lib\\site-packages\\bertopic\\_bertopic.py:845\u001b[0m, in \u001b[0;36mBERTopic.topics_over_time\u001b[1;34m(self, docs, timestamps, topics, nr_bins, datetime_format, evolution_tuning, global_tuning)\u001b[0m\n\u001b[0;32m    842\u001b[0m all_topics \u001b[38;5;241m=\u001b[39m \u001b[38;5;28msorted\u001b[39m(\u001b[38;5;28mlist\u001b[39m(documents\u001b[38;5;241m.\u001b[39mTopic\u001b[38;5;241m.\u001b[39munique()))\n\u001b[0;32m    843\u001b[0m all_topics_indices \u001b[38;5;241m=\u001b[39m {topic: index \u001b[38;5;28;01mfor\u001b[39;00m index, topic \u001b[38;5;129;01min\u001b[39;00m \u001b[38;5;28menumerate\u001b[39m(all_topics)}\n\u001b[1;32m--> 845\u001b[0m \u001b[38;5;28;01mif\u001b[39;00m \u001b[38;5;28misinstance\u001b[39m(\u001b[43mtimestamps\u001b[49m\u001b[43m[\u001b[49m\u001b[38;5;241;43m0\u001b[39;49m\u001b[43m]\u001b[49m, \u001b[38;5;28mstr\u001b[39m):\n\u001b[0;32m    846\u001b[0m     infer_datetime_format \u001b[38;5;241m=\u001b[39m \u001b[38;5;28;01mTrue\u001b[39;00m \u001b[38;5;28;01mif\u001b[39;00m \u001b[38;5;129;01mnot\u001b[39;00m datetime_format \u001b[38;5;28;01melse\u001b[39;00m \u001b[38;5;28;01mFalse\u001b[39;00m\n\u001b[0;32m    847\u001b[0m     documents[\u001b[38;5;124m\"\u001b[39m\u001b[38;5;124mTimestamps\u001b[39m\u001b[38;5;124m\"\u001b[39m] \u001b[38;5;241m=\u001b[39m pd\u001b[38;5;241m.\u001b[39mto_datetime(\n\u001b[0;32m    848\u001b[0m         documents[\u001b[38;5;124m\"\u001b[39m\u001b[38;5;124mTimestamps\u001b[39m\u001b[38;5;124m\"\u001b[39m],\n\u001b[0;32m    849\u001b[0m         infer_datetime_format\u001b[38;5;241m=\u001b[39minfer_datetime_format,\n\u001b[0;32m    850\u001b[0m         \u001b[38;5;28mformat\u001b[39m\u001b[38;5;241m=\u001b[39mdatetime_format,\n\u001b[0;32m    851\u001b[0m     )\n",
      "File \u001b[1;32mc:\\Users\\Jacob\\AppData\\Local\\Programs\\Python\\Python311\\Lib\\site-packages\\pandas\\core\\series.py:1007\u001b[0m, in \u001b[0;36mSeries.__getitem__\u001b[1;34m(self, key)\u001b[0m\n\u001b[0;32m   1004\u001b[0m     \u001b[38;5;28;01mreturn\u001b[39;00m \u001b[38;5;28mself\u001b[39m\u001b[38;5;241m.\u001b[39m_values[key]\n\u001b[0;32m   1006\u001b[0m \u001b[38;5;28;01melif\u001b[39;00m key_is_scalar:\n\u001b[1;32m-> 1007\u001b[0m     \u001b[38;5;28;01mreturn\u001b[39;00m \u001b[38;5;28;43mself\u001b[39;49m\u001b[38;5;241;43m.\u001b[39;49m\u001b[43m_get_value\u001b[49m\u001b[43m(\u001b[49m\u001b[43mkey\u001b[49m\u001b[43m)\u001b[49m\n\u001b[0;32m   1009\u001b[0m \u001b[38;5;28;01mif\u001b[39;00m is_hashable(key):\n\u001b[0;32m   1010\u001b[0m     \u001b[38;5;66;03m# Otherwise index.get_value will raise InvalidIndexError\u001b[39;00m\n\u001b[0;32m   1011\u001b[0m     \u001b[38;5;28;01mtry\u001b[39;00m:\n\u001b[0;32m   1012\u001b[0m         \u001b[38;5;66;03m# For labels that don't resolve as scalars like tuples and frozensets\u001b[39;00m\n",
      "File \u001b[1;32mc:\\Users\\Jacob\\AppData\\Local\\Programs\\Python\\Python311\\Lib\\site-packages\\pandas\\core\\series.py:1116\u001b[0m, in \u001b[0;36mSeries._get_value\u001b[1;34m(self, label, takeable)\u001b[0m\n\u001b[0;32m   1113\u001b[0m     \u001b[38;5;28;01mreturn\u001b[39;00m \u001b[38;5;28mself\u001b[39m\u001b[38;5;241m.\u001b[39m_values[label]\n\u001b[0;32m   1115\u001b[0m \u001b[38;5;66;03m# Similar to Index.get_value, but we do not fall back to positional\u001b[39;00m\n\u001b[1;32m-> 1116\u001b[0m loc \u001b[38;5;241m=\u001b[39m \u001b[38;5;28;43mself\u001b[39;49m\u001b[38;5;241;43m.\u001b[39;49m\u001b[43mindex\u001b[49m\u001b[38;5;241;43m.\u001b[39;49m\u001b[43mget_loc\u001b[49m\u001b[43m(\u001b[49m\u001b[43mlabel\u001b[49m\u001b[43m)\u001b[49m\n\u001b[0;32m   1118\u001b[0m \u001b[38;5;28;01mif\u001b[39;00m is_integer(loc):\n\u001b[0;32m   1119\u001b[0m     \u001b[38;5;28;01mreturn\u001b[39;00m \u001b[38;5;28mself\u001b[39m\u001b[38;5;241m.\u001b[39m_values[loc]\n",
      "File \u001b[1;32mc:\\Users\\Jacob\\AppData\\Local\\Programs\\Python\\Python311\\Lib\\site-packages\\pandas\\core\\indexes\\range.py:347\u001b[0m, in \u001b[0;36mRangeIndex.get_loc\u001b[1;34m(self, key)\u001b[0m\n\u001b[0;32m    345\u001b[0m         \u001b[38;5;28;01mreturn\u001b[39;00m \u001b[38;5;28mself\u001b[39m\u001b[38;5;241m.\u001b[39m_range\u001b[38;5;241m.\u001b[39mindex(new_key)\n\u001b[0;32m    346\u001b[0m     \u001b[38;5;28;01mexcept\u001b[39;00m \u001b[38;5;167;01mValueError\u001b[39;00m \u001b[38;5;28;01mas\u001b[39;00m err:\n\u001b[1;32m--> 347\u001b[0m         \u001b[38;5;28;01mraise\u001b[39;00m \u001b[38;5;167;01mKeyError\u001b[39;00m(key) \u001b[38;5;28;01mfrom\u001b[39;00m \u001b[38;5;21;01merr\u001b[39;00m\n\u001b[0;32m    348\u001b[0m \u001b[38;5;28;01mif\u001b[39;00m \u001b[38;5;28misinstance\u001b[39m(key, Hashable):\n\u001b[0;32m    349\u001b[0m     \u001b[38;5;28;01mraise\u001b[39;00m \u001b[38;5;167;01mKeyError\u001b[39;00m(key)\n",
      "\u001b[1;31mKeyError\u001b[0m: 0"
     ]
    }
   ],
   "source": [
    "\n",
    "# Erstelle das `topics_over_time`-Objekt\n",
    "topics_over_time = topic_model.topics_over_time(df_manifesto[\"text\"], df_manifesto[\"date\"])\n",
    "#topic_model = BERTopic(representation_model=KeyBERTInspired())\n"
   ]
  },
  {
   "cell_type": "code",
   "execution_count": 19,
   "metadata": {},
   "outputs": [
    {
     "ename": "NameError",
     "evalue": "name 'topics_over_time' is not defined",
     "output_type": "error",
     "traceback": [
      "\u001b[1;31m---------------------------------------------------------------------------\u001b[0m",
      "\u001b[1;31mNameError\u001b[0m                                 Traceback (most recent call last)",
      "Cell \u001b[1;32mIn[19], line 3\u001b[0m\n\u001b[0;32m      1\u001b[0m \u001b[38;5;66;03m# Save topics_over_time to a file\u001b[39;00m\n\u001b[0;32m      2\u001b[0m \u001b[38;5;28;01mwith\u001b[39;00m \u001b[38;5;28mopen\u001b[39m(\u001b[38;5;124m\"\u001b[39m\u001b[38;5;124mtopics_over_time.pkl\u001b[39m\u001b[38;5;124m\"\u001b[39m, \u001b[38;5;124m\"\u001b[39m\u001b[38;5;124mwb\u001b[39m\u001b[38;5;124m\"\u001b[39m) \u001b[38;5;28;01mas\u001b[39;00m f:\n\u001b[1;32m----> 3\u001b[0m     pickle\u001b[38;5;241m.\u001b[39mdump(\u001b[43mtopics_over_time\u001b[49m, f)\n",
      "\u001b[1;31mNameError\u001b[0m: name 'topics_over_time' is not defined"
     ]
    }
   ],
   "source": [
    "# Save topics_over_time to a file\n",
    "with open(\"topics_over_time.pkl\", \"wb\") as f:\n",
    "    pickle.dump(topics_over_time, f)"
   ]
  },
  {
   "cell_type": "code",
   "execution_count": 20,
   "metadata": {},
   "outputs": [],
   "source": [
    "\n",
    "# Method 1 - safetensors\n",
    "topic_model.save(file_path[:-5], serialization=\"safetensors\", save_ctfidf=True, save_embedding_model=embedding_model_multilingual2)\n",
    "\n",
    "# Method 2 - pytorch\n",
    "#topic_model.save(file_path, serialization=\"pytorch\", save_ctfidf=True, save_embedding_model=embedding_model)\n",
    "\n",
    "# Method 3 - pickle\n",
    "#topic_model.save(\"bertopic_model.pkl\")\n",
    "\n"
   ]
  },
  {
   "cell_type": "code",
   "execution_count": 21,
   "metadata": {},
   "outputs": [],
   "source": [
    "# Save the topics to a pickle file\n",
    "with open('topics.pkl', 'wb') as f:\n",
    "\tpickle.dump(topics, f)\n",
    "\n",
    "# Save the probabilities to a pickle file\n",
    "with open('probs.pkl', 'wb') as f:\n",
    "\tpickle.dump(probs, f)"
   ]
  }
 ],
 "metadata": {
  "kernelspec": {
   "display_name": "Python 3",
   "language": "python",
   "name": "python3"
  },
  "language_info": {
   "codemirror_mode": {
    "name": "ipython",
    "version": 3
   },
   "file_extension": ".py",
   "mimetype": "text/x-python",
   "name": "python",
   "nbconvert_exporter": "python",
   "pygments_lexer": "ipython3",
   "version": "3.10.2"
  }
 },
 "nbformat": 4,
 "nbformat_minor": 2
}
