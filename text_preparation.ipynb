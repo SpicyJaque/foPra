{
 "cells": [
  {
   "cell_type": "markdown",
   "metadata": {},
   "source": [
    "Import Stuff"
   ]
  },
  {
   "cell_type": "code",
   "execution_count": 23,
   "metadata": {},
   "outputs": [],
   "source": [
    "import ssl\n",
    "import re\n",
    "\n",
    "\n",
    "from bertopic import BERTopic\n",
    "from bertopic.representation import KeyBERTInspired\n",
    "from hdbscan import HDBSCAN\n",
    "from sentence_transformers import SentenceTransformer\n",
    "from umap import UMAP\n",
    "\n",
    "from sklearn.datasets import fetch_20newsgroups\n",
    "from sklearn.cluster import KMeans\n",
    "\n",
    "import pandas as pd\n",
    "import seaborn as sns\n",
    "import matplotlib.pyplot as plt\n",
    "\n",
    "import nltk\n",
    "from nltk.corpus import wordnet\n",
    "from nltk.tokenize import word_tokenize\n",
    "from nltk.stem import WordNetLemmatizer\n",
    "\n",
    "from datetime import datetime\n",
    "from textblob import TextBlob\n",
    "from textblob_de import TextBlobDE\n",
    "from datasets import load_dataset\n",
    "\n",
    "import pickle\n",
    "import importlib\n",
    "import functions\n",
    "import requests\n",
    "\n",
    "\n",
    "\n"
   ]
  },
  {
   "cell_type": "code",
   "execution_count": 3,
   "metadata": {},
   "outputs": [
    {
     "name": "stderr",
     "output_type": "stream",
     "text": [
      "[nltk_data] Downloading package punkt_tab to\n",
      "[nltk_data]     C:\\Users\\Jacob\\AppData\\Roaming\\nltk_data...\n",
      "[nltk_data]   Package punkt_tab is already up-to-date!\n",
      "[nltk_data] Downloading package wordnet to\n",
      "[nltk_data]     C:\\Users\\Jacob\\AppData\\Roaming\\nltk_data...\n",
      "[nltk_data]   Package wordnet is already up-to-date!\n",
      "[nltk_data] Downloading package punkt to\n",
      "[nltk_data]     C:\\Users\\Jacob\\AppData\\Roaming\\nltk_data...\n",
      "[nltk_data]   Package punkt is already up-to-date!\n",
      "[nltk_data] Downloading package stopwords to\n",
      "[nltk_data]     C:\\Users\\Jacob\\AppData\\Roaming\\nltk_data...\n",
      "[nltk_data]   Package stopwords is already up-to-date!\n",
      "[nltk_data] Downloading package averaged_perceptron_tagger to\n",
      "[nltk_data]     C:\\Users\\Jacob\\AppData\\Roaming\\nltk_data...\n",
      "[nltk_data]   Package averaged_perceptron_tagger is already up-to-\n",
      "[nltk_data]       date!\n"
     ]
    }
   ],
   "source": [
    "from functions import *\n",
    "importlib.reload(functions)\n",
    "\n",
    "nltk.download('punkt_tab')\n",
    "nltk.download('wordnet')\n",
    "nltk.download('punkt')\n",
    "nltk.download('stopwords')\n",
    "nltk.download('averaged_perceptron_tagger')\n",
    "\n",
    "parties = [\"CDU\", \"SPD\", \"FDP\", \"AFD\", \"LEFT\", \"GREENS\"]\n",
    "file_path = \"C:/Users/Jacob/OneDrive/uni/MA WiSoz/Semester III/Computational Social Sciences/foPra/data/\"\n",
    "\n",
    "\n",
    "# Open the file in read mode\n",
    "with open(\"API Keys/DeepL.txt\", 'r', encoding='utf-8') as file:\n",
    "    # Read the contents of the file\n",
    "    api_key_deepl = file.read()\n",
    "\n",
    "url = 'https://api-free.deepl.com/v2/translate'\n"
   ]
  },
  {
   "cell_type": "markdown",
   "metadata": {},
   "source": [
    "Edit Text documents"
   ]
  },
  {
   "cell_type": "code",
   "execution_count": 4,
   "metadata": {},
   "outputs": [],
   "source": [
    "df_manifesto = pd.DataFrame()\n",
    "for p in parties:\n",
    "    new_df = pd.read_csv(file_path + \"parties/\"+ p + \"_manifesto.csv\")\n",
    "    new_df[\"party\"] = p  # Add a new column for the party name\n",
    "    df_manifesto = pd.concat([df_manifesto, new_df], axis=0)\n",
    "\n",
    "\n",
    "df_manifesto['date'] = pd.to_datetime(df_manifesto['date'], format='%Y%m')\n",
    "\n"
   ]
  },
  {
   "cell_type": "code",
   "execution_count": 5,
   "metadata": {},
   "outputs": [],
   "source": [
    "split_date = datetime(1998, 9, 1)\n",
    "df_manifesto = split_text_by_date(df_manifesto, split_date)\n",
    "\n",
    "# Count occurrences of distinct values in the party column\n",
    "party_counts = df_manifesto[\"party\"].value_counts()\n",
    "\n",
    "# Add a line that contains this count per party\n",
    "df_manifesto[\"party_count\"] = df_manifesto[\"party\"].map(party_counts)\n",
    "df_manifesto[\"cmp_code\"] = pd.to_numeric(df_manifesto[\"cmp_code\"], errors='coerce')\n",
    "df_manifesto.index = range(1, len(df_manifesto) + 1)\n",
    "\n",
    "# Delete entries that do not contain words in the text column\n",
    "df_manifesto = df_manifesto[df_manifesto['text'].str.contains(r'\\b\\w+\\b', na=False)]\n",
    "\n",
    "# Ensure the 'text' column contains only strings and handle NaN values\n",
    "df_manifesto[\"text\"] = df_manifesto[\"text\"].astype(str).fillna(\"\")\n",
    "\n",
    "df_manifesto_final = merge_text_rows(df_manifesto)"
   ]
  },
  {
   "cell_type": "code",
   "execution_count": 29,
   "metadata": {},
   "outputs": [],
   "source": [
    "df_manifesto_final[\"sentiment\"] = df_manifesto_final[\"text\"].apply(lambda x: TextBlobDE(x).sentiment.polarity)\n",
    "\n"
   ]
  },
  {
   "cell_type": "code",
   "execution_count": 31,
   "metadata": {},
   "outputs": [],
   "source": [
    "df_manifesto_final[\"date\"] = df_manifesto_final[\"date\"].dt.year"
   ]
  },
  {
   "cell_type": "code",
   "execution_count": 28,
   "metadata": {},
   "outputs": [
    {
     "data": {
      "text/plain": [
       "0.7999999999999999"
      ]
     },
     "execution_count": 28,
     "metadata": {},
     "output_type": "execute_result"
    }
   ],
   "source": [
    "test = TextBlobDE(df_manifesto_final[\"text\"][2000])\n",
    "test.sentiment.polarity\n"
   ]
  },
  {
   "cell_type": "code",
   "execution_count": 32,
   "metadata": {},
   "outputs": [],
   "source": [
    "df_manifesto_final.to_csv(\"data/parties/All_Manifestos.csv\", index=True)"
   ]
  }
 ],
 "metadata": {
  "kernelspec": {
   "display_name": "Python 3",
   "language": "python",
   "name": "python3"
  },
  "language_info": {
   "codemirror_mode": {
    "name": "ipython",
    "version": 3
   },
   "file_extension": ".py",
   "mimetype": "text/x-python",
   "name": "python",
   "nbconvert_exporter": "python",
   "pygments_lexer": "ipython3",
   "version": "3.10.2"
  }
 },
 "nbformat": 4,
 "nbformat_minor": 2
}
